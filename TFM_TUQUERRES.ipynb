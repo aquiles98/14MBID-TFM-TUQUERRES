{
  "cells": [
    {
      "cell_type": "markdown",
      "metadata": {
        "id": "k8c4cENj9VSl"
      },
      "source": [
        "# __TRABAJO FINAL DE MÁSTER - 14MBID__\n",
        "\n",
        "Tema TFM: __Análisis de personalización de Menús en un Restaurante de Carnes a través del algoritmo Apriori__\n",
        "\n",
        "Elaborado por: Jonathan Túquerres"
      ]
    },
    {
      "cell_type": "markdown",
      "metadata": {
        "id": "H3QSoK0e9mEP"
      },
      "source": [
        "## Importación de librerías necesarias"
      ]
    },
    {
      "cell_type": "markdown",
      "metadata": {
        "id": "ItOA8yMxJ3pp"
      },
      "source": [
        "Se van a necesitar de las siguientes librerías:\n",
        "- Pandas, para leer archivos tipo csv o excel.\n",
        "- Numpy, librería para trabajar con funciones matemáticas.\n",
        "- Seaborn, para crear gráficos estadísticos en  python."
      ]
    },
    {
      "cell_type": "code",
      "source": [
        "from google.colab import drive\n",
        "drive.mount('/content/drive')"
      ],
      "metadata": {
        "colab": {
          "base_uri": "https://localhost:8080/"
        },
        "id": "aqFcPLj8k8_h",
        "outputId": "d57dac54-ceb7-4509-e3d3-afb6fa0380f5"
      },
      "execution_count": null,
      "outputs": [
        {
          "output_type": "stream",
          "name": "stdout",
          "text": [
            "Mounted at /content/drive\n"
          ]
        }
      ]
    },
    {
      "cell_type": "code",
      "execution_count": null,
      "metadata": {
        "id": "aAqZn57KmEoT"
      },
      "outputs": [],
      "source": [
        "import pandas as pd\n",
        "import re\n",
        "import numpy as np\n",
        "import seaborn as sns\n",
        "import matplotlib.pyplot as plt\n",
        "from datetime import datetime as dt"
      ]
    },
    {
      "cell_type": "code",
      "source": [
        "version = !python --version\n",
        "print(\"La versión de Python utilizada para el presente proyecto es\", version)"
      ],
      "metadata": {
        "colab": {
          "base_uri": "https://localhost:8080/"
        },
        "id": "hjNR915Bv-OF",
        "outputId": "a49dc1c3-8e01-4ced-c53b-42100dae779d"
      },
      "execution_count": null,
      "outputs": [
        {
          "output_type": "stream",
          "name": "stderr",
          "text": [
            "/usr/local/lib/python3.10/dist-packages/ipykernel/ipkernel.py:283: DeprecationWarning: `should_run_async` will not call `transform_cell` automatically in the future. Please pass the result to `transformed_cell` argument and any exception that happen during thetransform in `preprocessing_exc_tuple` in IPython 7.17 and above.\n",
            "  and should_run_async(code)\n"
          ]
        },
        {
          "output_type": "stream",
          "name": "stdout",
          "text": [
            "La versión de Python utilizada para el presente proyecto es ['Python 3.10.12']\n"
          ]
        }
      ]
    },
    {
      "cell_type": "markdown",
      "metadata": {
        "id": "3LRaWFx34u5q"
      },
      "source": [
        "## Importación del data set"
      ]
    },
    {
      "cell_type": "code",
      "source": [
        "# Lista de nombres de archivos a unir\n",
        "NP1 = pd.read_excel('/content/drive/Othercomputers/Mi Portátil (1)/IQ/UNIVERSIDAD INTERNACIONAL DE VALENCIA/14MBID - TFM/TFM DATA/23-1.010123-150123.xls')\n",
        "NP2 = pd.read_excel('/content/drive/Othercomputers/Mi Portátil (1)/IQ/UNIVERSIDAD INTERNACIONAL DE VALENCIA/14MBID - TFM/TFM DATA/23-2.160123-310123.xls')\n",
        "NP3 = pd.read_excel('/content/drive/Othercomputers/Mi Portátil (1)/IQ/UNIVERSIDAD INTERNACIONAL DE VALENCIA/14MBID - TFM/TFM DATA/24.010223-280223.xls')\n",
        "NP4 = pd.read_excel('/content/drive/Othercomputers/Mi Portátil (1)/IQ/UNIVERSIDAD INTERNACIONAL DE VALENCIA/14MBID - TFM/TFM DATA/25.010323-310323.xls')\n",
        "NP5 = pd.read_excel('/content/drive/Othercomputers/Mi Portátil (1)/IQ/UNIVERSIDAD INTERNACIONAL DE VALENCIA/14MBID - TFM/TFM DATA/26.010423-300423.xls')\n",
        "NP6 = pd.read_excel('/content/drive/Othercomputers/Mi Portátil (1)/IQ/UNIVERSIDAD INTERNACIONAL DE VALENCIA/14MBID - TFM/TFM DATA/27.010523-310523.xls')\n",
        "NP7 = pd.read_excel('/content/drive/Othercomputers/Mi Portátil (1)/IQ/UNIVERSIDAD INTERNACIONAL DE VALENCIA/14MBID - TFM/TFM DATA/28.010623-300623.xls')\n",
        "NP8 = pd.read_excel('/content/drive/Othercomputers/Mi Portátil (1)/IQ/UNIVERSIDAD INTERNACIONAL DE VALENCIA/14MBID - TFM/TFM DATA/29.010723-310723.xls')\n",
        "NP9 = pd.read_excel('/content/drive/Othercomputers/Mi Portátil (1)/IQ/UNIVERSIDAD INTERNACIONAL DE VALENCIA/14MBID - TFM/TFM DATA/30.010823-310823.xls')\n",
        "NP10 = pd.read_excel('/content/drive/Othercomputers/Mi Portátil (1)/IQ/UNIVERSIDAD INTERNACIONAL DE VALENCIA/14MBID - TFM/TFM DATA/31.010923-300923.xls')\n",
        "NP11 = pd.read_excel('/content/drive/Othercomputers/Mi Portátil (1)/IQ/UNIVERSIDAD INTERNACIONAL DE VALENCIA/14MBID - TFM/TFM DATA/32.011023-311023.xls')\n",
        "NP12 = pd.read_excel('/content/drive/Othercomputers/Mi Portátil (1)/IQ/UNIVERSIDAD INTERNACIONAL DE VALENCIA/14MBID - TFM/TFM DATA/33.011123-301123.xls')\n",
        "NP13 = pd.read_excel('/content/drive/Othercomputers/Mi Portátil (1)/IQ/UNIVERSIDAD INTERNACIONAL DE VALENCIA/14MBID - TFM/TFM DATA/34.011223-311223.xls')"
      ],
      "metadata": {
        "id": "1ODJItpMxOYc",
        "colab": {
          "base_uri": "https://localhost:8080/"
        },
        "outputId": "9acf9f4c-9608-4bb8-a589-8fdcf1e03fd2"
      },
      "execution_count": null,
      "outputs": [
        {
          "output_type": "stream",
          "name": "stderr",
          "text": [
            "/usr/local/lib/python3.10/dist-packages/ipykernel/ipkernel.py:283: DeprecationWarning: `should_run_async` will not call `transform_cell` automatically in the future. Please pass the result to `transformed_cell` argument and any exception that happen during thetransform in `preprocessing_exc_tuple` in IPython 7.17 and above.\n",
            "  and should_run_async(code)\n"
          ]
        }
      ]
    },
    {
      "cell_type": "code",
      "source": [
        "NP1.columns = NP1.iloc[0]\n",
        "NP2.columns = NP2.iloc[0]\n",
        "NP3.columns = NP3.iloc[0]\n",
        "NP4.columns = NP4.iloc[0]\n",
        "NP5.columns = NP5.iloc[0]\n",
        "NP6.columns = NP6.iloc[0]\n",
        "NP7.columns = NP7.iloc[0]\n",
        "NP8.columns = NP8.iloc[0]\n",
        "NP9.columns = NP9.iloc[0]\n",
        "NP10.columns = NP10.iloc[0]\n",
        "NP11.columns = NP11.iloc[0]\n",
        "NP12.columns = NP12.iloc[0]\n",
        "NP13.columns = NP13.iloc[0]"
      ],
      "metadata": {
        "id": "-sFm67nhTYGs",
        "colab": {
          "base_uri": "https://localhost:8080/"
        },
        "outputId": "6629fbc0-19dc-4497-8c12-64d56960a3d8"
      },
      "execution_count": null,
      "outputs": [
        {
          "output_type": "stream",
          "name": "stderr",
          "text": [
            "/usr/local/lib/python3.10/dist-packages/ipykernel/ipkernel.py:283: DeprecationWarning: `should_run_async` will not call `transform_cell` automatically in the future. Please pass the result to `transformed_cell` argument and any exception that happen during thetransform in `preprocessing_exc_tuple` in IPython 7.17 and above.\n",
            "  and should_run_async(code)\n"
          ]
        }
      ]
    },
    {
      "cell_type": "code",
      "source": [
        "dataNP = pd.concat([NP1, NP2, NP3, NP4, NP5, NP6, NP7, NP8, NP9, NP10, NP11, NP12, NP13])"
      ],
      "metadata": {
        "id": "QH-l8W32TlnM",
        "colab": {
          "base_uri": "https://localhost:8080/"
        },
        "outputId": "442a05bb-38c8-4c8e-dea6-00ed9715289e"
      },
      "execution_count": null,
      "outputs": [
        {
          "output_type": "stream",
          "name": "stderr",
          "text": [
            "/usr/local/lib/python3.10/dist-packages/ipykernel/ipkernel.py:283: DeprecationWarning: `should_run_async` will not call `transform_cell` automatically in the future. Please pass the result to `transformed_cell` argument and any exception that happen during thetransform in `preprocessing_exc_tuple` in IPython 7.17 and above.\n",
            "  and should_run_async(code)\n"
          ]
        }
      ]
    },
    {
      "cell_type": "code",
      "source": [
        "dataNP = dataNP.drop(dataNP.index[0])"
      ],
      "metadata": {
        "id": "Fw_nFeiuR8Cu",
        "colab": {
          "base_uri": "https://localhost:8080/"
        },
        "outputId": "56590b3f-881b-4089-dd78-28f95fdf5fea"
      },
      "execution_count": null,
      "outputs": [
        {
          "output_type": "stream",
          "name": "stderr",
          "text": [
            "/usr/local/lib/python3.10/dist-packages/ipykernel/ipkernel.py:283: DeprecationWarning: `should_run_async` will not call `transform_cell` automatically in the future. Please pass the result to `transformed_cell` argument and any exception that happen during thetransform in `preprocessing_exc_tuple` in IPython 7.17 and above.\n",
            "  and should_run_async(code)\n",
            "/usr/local/lib/python3.10/dist-packages/pandas/core/algorithms.py:522: DeprecationWarning: np.find_common_type is deprecated.  Please use `np.result_type` or `np.promote_types`.\n",
            "See https://numpy.org/devdocs/release/1.25.0-notes.html and the docs for more information.  (Deprecated NumPy 1.25)\n",
            "  common = np.find_common_type([values.dtype, comps_array.dtype], [])\n"
          ]
        }
      ]
    },
    {
      "cell_type": "markdown",
      "source": [
        "## Normalización de datos"
      ],
      "metadata": {
        "id": "n9-Po7KmJS0k"
      }
    },
    {
      "cell_type": "code",
      "source": [
        "# Asegúrate de que la columna 'Producto' es de tipo string\n",
        "dataNP['Producto'] = dataNP['Producto'].astype(str)\n",
        "dataNP['Tipo de Servicio'] = dataNP['Tipo de Servicio'].astype(str)\n",
        "\n",
        "\n",
        "# Normaliza los caracteres en la columna 'Producto'\n",
        "dataNP['Producto'] = dataNP['Producto'].str.normalize('NFKD').str.encode('ascii', errors='ignore').str.decode('utf-8')\n",
        "dataNP['Tipo de Servicio'] = dataNP['Tipo de Servicio'].str.normalize('NFKD').str.encode('ascii', errors='ignore').str.decode('utf-8')"
      ],
      "metadata": {
        "id": "es2sTErJHEKJ",
        "colab": {
          "base_uri": "https://localhost:8080/"
        },
        "outputId": "c9a0da38-7ce2-4d56-ddd9-1e6f2733adf8"
      },
      "execution_count": null,
      "outputs": [
        {
          "output_type": "stream",
          "name": "stderr",
          "text": [
            "/usr/local/lib/python3.10/dist-packages/ipykernel/ipkernel.py:283: DeprecationWarning: `should_run_async` will not call `transform_cell` automatically in the future. Please pass the result to `transformed_cell` argument and any exception that happen during thetransform in `preprocessing_exc_tuple` in IPython 7.17 and above.\n",
            "  and should_run_async(code)\n"
          ]
        }
      ]
    },
    {
      "cell_type": "code",
      "source": [
        "dataNP.head(5)"
      ],
      "metadata": {
        "colab": {
          "base_uri": "https://localhost:8080/",
          "height": 412
        },
        "id": "sbr6w_fulofS",
        "outputId": "2f048ec3-1a80-45e4-cf34-91e8aa259cd2"
      },
      "execution_count": null,
      "outputs": [
        {
          "output_type": "stream",
          "name": "stderr",
          "text": [
            "/usr/local/lib/python3.10/dist-packages/ipykernel/ipkernel.py:283: DeprecationWarning: `should_run_async` will not call `transform_cell` automatically in the future. Please pass the result to `transformed_cell` argument and any exception that happen during thetransform in `preprocessing_exc_tuple` in IPython 7.17 and above.\n",
            "  and should_run_async(code)\n"
          ]
        },
        {
          "output_type": "execute_result",
          "data": {
            "text/plain": [
              "0      Pedido                Fecha Caja        Usuario     Estado        Mozo  \\\n",
              "1  2300000001  2023-01-01 12:39:00  008  JUANC SERRANO  FACTURADO  David Vera   \n",
              "2  2300000001  2023-01-01 12:39:00  008  JUANC SERRANO  FACTURADO  David Vera   \n",
              "3  2300000001  2023-01-01 12:39:00  008  JUANC SERRANO  FACTURADO  David Vera   \n",
              "4  2300000001  2023-01-01 12:39:00  008  JUANC SERRANO  FACTURADO  David Vera   \n",
              "5  2300000001  2023-01-01 12:39:00  008  JUANC SERRANO  FACTURADO  David Vera   \n",
              "\n",
              "0 tItem                 Producto Cant. Sub Total  ... Impuesto 2 Total  \\\n",
              "1   001             MORO RISOTTO     1  5.983607  ...   0.598361   7.3   \n",
              "2   002             PAPA RELLENA     1  4.098361  ...   0.409836     5   \n",
              "3   003             SPRITE 400ML     1  1.885246  ...   0.188525   2.3   \n",
              "4   004          COCA COLA 500ML     1  1.885246  ...   0.188525   2.3   \n",
              "5   005  6052 MIX PARRILLERO P#3     1  2.254545  ...   0.225455  2.48   \n",
              "\n",
              "0          Fecha Envio Envios         Documento  Canal Venta Formas Pago  \\\n",
              "1  2023-01-01 12:39:35      1  F001007000052246  En el Local        Visa   \n",
              "2  2023-01-01 12:39:35      1  F001007000052246  En el Local        Visa   \n",
              "3  2023-01-01 12:39:35      1  F001007000052246  En el Local        Visa   \n",
              "4  2023-01-01 12:39:35      1  F001007000052246  En el Local        Visa   \n",
              "5  2023-01-01 12:39:35      1  F001007000052246  En el Local        Visa   \n",
              "\n",
              "0      Grupo       Sub Grupo Tipo de Servicio  \n",
              "1  ALIMENTOS            MENU     GUARNICIONES  \n",
              "2  ALIMENTOS            MENU     GUARNICIONES  \n",
              "3    BEBIDAS  NO ALCOHOLICAS         GASEOSAS  \n",
              "4    BEBIDAS  NO ALCOHOLICAS         GASEOSAS  \n",
              "5  ALIMENTOS        PARRILLA        EMBUTIDOS  \n",
              "\n",
              "[5 rows x 21 columns]"
            ],
            "text/html": [
              "\n",
              "  <div id=\"df-950ef8c5-a492-449e-918c-22a186c4acc8\" class=\"colab-df-container\">\n",
              "    <div>\n",
              "<style scoped>\n",
              "    .dataframe tbody tr th:only-of-type {\n",
              "        vertical-align: middle;\n",
              "    }\n",
              "\n",
              "    .dataframe tbody tr th {\n",
              "        vertical-align: top;\n",
              "    }\n",
              "\n",
              "    .dataframe thead th {\n",
              "        text-align: right;\n",
              "    }\n",
              "</style>\n",
              "<table border=\"1\" class=\"dataframe\">\n",
              "  <thead>\n",
              "    <tr style=\"text-align: right;\">\n",
              "      <th></th>\n",
              "      <th>Pedido</th>\n",
              "      <th>Fecha</th>\n",
              "      <th>Caja</th>\n",
              "      <th>Usuario</th>\n",
              "      <th>Estado</th>\n",
              "      <th>Mozo</th>\n",
              "      <th>tItem</th>\n",
              "      <th>Producto</th>\n",
              "      <th>Cant.</th>\n",
              "      <th>Sub Total</th>\n",
              "      <th>...</th>\n",
              "      <th>Impuesto 2</th>\n",
              "      <th>Total</th>\n",
              "      <th>Fecha Envio</th>\n",
              "      <th>Envios</th>\n",
              "      <th>Documento</th>\n",
              "      <th>Canal Venta</th>\n",
              "      <th>Formas Pago</th>\n",
              "      <th>Grupo</th>\n",
              "      <th>Sub Grupo</th>\n",
              "      <th>Tipo de Servicio</th>\n",
              "    </tr>\n",
              "  </thead>\n",
              "  <tbody>\n",
              "    <tr>\n",
              "      <th>1</th>\n",
              "      <td>2300000001</td>\n",
              "      <td>2023-01-01 12:39:00</td>\n",
              "      <td>008</td>\n",
              "      <td>JUANC SERRANO</td>\n",
              "      <td>FACTURADO</td>\n",
              "      <td>David Vera</td>\n",
              "      <td>001</td>\n",
              "      <td>MORO RISOTTO</td>\n",
              "      <td>1</td>\n",
              "      <td>5.983607</td>\n",
              "      <td>...</td>\n",
              "      <td>0.598361</td>\n",
              "      <td>7.3</td>\n",
              "      <td>2023-01-01 12:39:35</td>\n",
              "      <td>1</td>\n",
              "      <td>F001007000052246</td>\n",
              "      <td>En el Local</td>\n",
              "      <td>Visa</td>\n",
              "      <td>ALIMENTOS</td>\n",
              "      <td>MENU</td>\n",
              "      <td>GUARNICIONES</td>\n",
              "    </tr>\n",
              "    <tr>\n",
              "      <th>2</th>\n",
              "      <td>2300000001</td>\n",
              "      <td>2023-01-01 12:39:00</td>\n",
              "      <td>008</td>\n",
              "      <td>JUANC SERRANO</td>\n",
              "      <td>FACTURADO</td>\n",
              "      <td>David Vera</td>\n",
              "      <td>002</td>\n",
              "      <td>PAPA RELLENA</td>\n",
              "      <td>1</td>\n",
              "      <td>4.098361</td>\n",
              "      <td>...</td>\n",
              "      <td>0.409836</td>\n",
              "      <td>5</td>\n",
              "      <td>2023-01-01 12:39:35</td>\n",
              "      <td>1</td>\n",
              "      <td>F001007000052246</td>\n",
              "      <td>En el Local</td>\n",
              "      <td>Visa</td>\n",
              "      <td>ALIMENTOS</td>\n",
              "      <td>MENU</td>\n",
              "      <td>GUARNICIONES</td>\n",
              "    </tr>\n",
              "    <tr>\n",
              "      <th>3</th>\n",
              "      <td>2300000001</td>\n",
              "      <td>2023-01-01 12:39:00</td>\n",
              "      <td>008</td>\n",
              "      <td>JUANC SERRANO</td>\n",
              "      <td>FACTURADO</td>\n",
              "      <td>David Vera</td>\n",
              "      <td>003</td>\n",
              "      <td>SPRITE 400ML</td>\n",
              "      <td>1</td>\n",
              "      <td>1.885246</td>\n",
              "      <td>...</td>\n",
              "      <td>0.188525</td>\n",
              "      <td>2.3</td>\n",
              "      <td>2023-01-01 12:39:35</td>\n",
              "      <td>1</td>\n",
              "      <td>F001007000052246</td>\n",
              "      <td>En el Local</td>\n",
              "      <td>Visa</td>\n",
              "      <td>BEBIDAS</td>\n",
              "      <td>NO ALCOHOLICAS</td>\n",
              "      <td>GASEOSAS</td>\n",
              "    </tr>\n",
              "    <tr>\n",
              "      <th>4</th>\n",
              "      <td>2300000001</td>\n",
              "      <td>2023-01-01 12:39:00</td>\n",
              "      <td>008</td>\n",
              "      <td>JUANC SERRANO</td>\n",
              "      <td>FACTURADO</td>\n",
              "      <td>David Vera</td>\n",
              "      <td>004</td>\n",
              "      <td>COCA COLA 500ML</td>\n",
              "      <td>1</td>\n",
              "      <td>1.885246</td>\n",
              "      <td>...</td>\n",
              "      <td>0.188525</td>\n",
              "      <td>2.3</td>\n",
              "      <td>2023-01-01 12:39:35</td>\n",
              "      <td>1</td>\n",
              "      <td>F001007000052246</td>\n",
              "      <td>En el Local</td>\n",
              "      <td>Visa</td>\n",
              "      <td>BEBIDAS</td>\n",
              "      <td>NO ALCOHOLICAS</td>\n",
              "      <td>GASEOSAS</td>\n",
              "    </tr>\n",
              "    <tr>\n",
              "      <th>5</th>\n",
              "      <td>2300000001</td>\n",
              "      <td>2023-01-01 12:39:00</td>\n",
              "      <td>008</td>\n",
              "      <td>JUANC SERRANO</td>\n",
              "      <td>FACTURADO</td>\n",
              "      <td>David Vera</td>\n",
              "      <td>005</td>\n",
              "      <td>6052 MIX PARRILLERO P#3</td>\n",
              "      <td>1</td>\n",
              "      <td>2.254545</td>\n",
              "      <td>...</td>\n",
              "      <td>0.225455</td>\n",
              "      <td>2.48</td>\n",
              "      <td>2023-01-01 12:39:35</td>\n",
              "      <td>1</td>\n",
              "      <td>F001007000052246</td>\n",
              "      <td>En el Local</td>\n",
              "      <td>Visa</td>\n",
              "      <td>ALIMENTOS</td>\n",
              "      <td>PARRILLA</td>\n",
              "      <td>EMBUTIDOS</td>\n",
              "    </tr>\n",
              "  </tbody>\n",
              "</table>\n",
              "<p>5 rows × 21 columns</p>\n",
              "</div>\n",
              "    <div class=\"colab-df-buttons\">\n",
              "\n",
              "  <div class=\"colab-df-container\">\n",
              "    <button class=\"colab-df-convert\" onclick=\"convertToInteractive('df-950ef8c5-a492-449e-918c-22a186c4acc8')\"\n",
              "            title=\"Convert this dataframe to an interactive table.\"\n",
              "            style=\"display:none;\">\n",
              "\n",
              "  <svg xmlns=\"http://www.w3.org/2000/svg\" height=\"24px\" viewBox=\"0 -960 960 960\">\n",
              "    <path d=\"M120-120v-720h720v720H120Zm60-500h600v-160H180v160Zm220 220h160v-160H400v160Zm0 220h160v-160H400v160ZM180-400h160v-160H180v160Zm440 0h160v-160H620v160ZM180-180h160v-160H180v160Zm440 0h160v-160H620v160Z\"/>\n",
              "  </svg>\n",
              "    </button>\n",
              "\n",
              "  <style>\n",
              "    .colab-df-container {\n",
              "      display:flex;\n",
              "      gap: 12px;\n",
              "    }\n",
              "\n",
              "    .colab-df-convert {\n",
              "      background-color: #E8F0FE;\n",
              "      border: none;\n",
              "      border-radius: 50%;\n",
              "      cursor: pointer;\n",
              "      display: none;\n",
              "      fill: #1967D2;\n",
              "      height: 32px;\n",
              "      padding: 0 0 0 0;\n",
              "      width: 32px;\n",
              "    }\n",
              "\n",
              "    .colab-df-convert:hover {\n",
              "      background-color: #E2EBFA;\n",
              "      box-shadow: 0px 1px 2px rgba(60, 64, 67, 0.3), 0px 1px 3px 1px rgba(60, 64, 67, 0.15);\n",
              "      fill: #174EA6;\n",
              "    }\n",
              "\n",
              "    .colab-df-buttons div {\n",
              "      margin-bottom: 4px;\n",
              "    }\n",
              "\n",
              "    [theme=dark] .colab-df-convert {\n",
              "      background-color: #3B4455;\n",
              "      fill: #D2E3FC;\n",
              "    }\n",
              "\n",
              "    [theme=dark] .colab-df-convert:hover {\n",
              "      background-color: #434B5C;\n",
              "      box-shadow: 0px 1px 3px 1px rgba(0, 0, 0, 0.15);\n",
              "      filter: drop-shadow(0px 1px 2px rgba(0, 0, 0, 0.3));\n",
              "      fill: #FFFFFF;\n",
              "    }\n",
              "  </style>\n",
              "\n",
              "    <script>\n",
              "      const buttonEl =\n",
              "        document.querySelector('#df-950ef8c5-a492-449e-918c-22a186c4acc8 button.colab-df-convert');\n",
              "      buttonEl.style.display =\n",
              "        google.colab.kernel.accessAllowed ? 'block' : 'none';\n",
              "\n",
              "      async function convertToInteractive(key) {\n",
              "        const element = document.querySelector('#df-950ef8c5-a492-449e-918c-22a186c4acc8');\n",
              "        const dataTable =\n",
              "          await google.colab.kernel.invokeFunction('convertToInteractive',\n",
              "                                                    [key], {});\n",
              "        if (!dataTable) return;\n",
              "\n",
              "        const docLinkHtml = 'Like what you see? Visit the ' +\n",
              "          '<a target=\"_blank\" href=https://colab.research.google.com/notebooks/data_table.ipynb>data table notebook</a>'\n",
              "          + ' to learn more about interactive tables.';\n",
              "        element.innerHTML = '';\n",
              "        dataTable['output_type'] = 'display_data';\n",
              "        await google.colab.output.renderOutput(dataTable, element);\n",
              "        const docLink = document.createElement('div');\n",
              "        docLink.innerHTML = docLinkHtml;\n",
              "        element.appendChild(docLink);\n",
              "      }\n",
              "    </script>\n",
              "  </div>\n",
              "\n",
              "\n",
              "<div id=\"df-06457934-8b30-4477-81ee-e330a55a2858\">\n",
              "  <button class=\"colab-df-quickchart\" onclick=\"quickchart('df-06457934-8b30-4477-81ee-e330a55a2858')\"\n",
              "            title=\"Suggest charts\"\n",
              "            style=\"display:none;\">\n",
              "\n",
              "<svg xmlns=\"http://www.w3.org/2000/svg\" height=\"24px\"viewBox=\"0 0 24 24\"\n",
              "     width=\"24px\">\n",
              "    <g>\n",
              "        <path d=\"M19 3H5c-1.1 0-2 .9-2 2v14c0 1.1.9 2 2 2h14c1.1 0 2-.9 2-2V5c0-1.1-.9-2-2-2zM9 17H7v-7h2v7zm4 0h-2V7h2v10zm4 0h-2v-4h2v4z\"/>\n",
              "    </g>\n",
              "</svg>\n",
              "  </button>\n",
              "\n",
              "<style>\n",
              "  .colab-df-quickchart {\n",
              "      --bg-color: #E8F0FE;\n",
              "      --fill-color: #1967D2;\n",
              "      --hover-bg-color: #E2EBFA;\n",
              "      --hover-fill-color: #174EA6;\n",
              "      --disabled-fill-color: #AAA;\n",
              "      --disabled-bg-color: #DDD;\n",
              "  }\n",
              "\n",
              "  [theme=dark] .colab-df-quickchart {\n",
              "      --bg-color: #3B4455;\n",
              "      --fill-color: #D2E3FC;\n",
              "      --hover-bg-color: #434B5C;\n",
              "      --hover-fill-color: #FFFFFF;\n",
              "      --disabled-bg-color: #3B4455;\n",
              "      --disabled-fill-color: #666;\n",
              "  }\n",
              "\n",
              "  .colab-df-quickchart {\n",
              "    background-color: var(--bg-color);\n",
              "    border: none;\n",
              "    border-radius: 50%;\n",
              "    cursor: pointer;\n",
              "    display: none;\n",
              "    fill: var(--fill-color);\n",
              "    height: 32px;\n",
              "    padding: 0;\n",
              "    width: 32px;\n",
              "  }\n",
              "\n",
              "  .colab-df-quickchart:hover {\n",
              "    background-color: var(--hover-bg-color);\n",
              "    box-shadow: 0 1px 2px rgba(60, 64, 67, 0.3), 0 1px 3px 1px rgba(60, 64, 67, 0.15);\n",
              "    fill: var(--button-hover-fill-color);\n",
              "  }\n",
              "\n",
              "  .colab-df-quickchart-complete:disabled,\n",
              "  .colab-df-quickchart-complete:disabled:hover {\n",
              "    background-color: var(--disabled-bg-color);\n",
              "    fill: var(--disabled-fill-color);\n",
              "    box-shadow: none;\n",
              "  }\n",
              "\n",
              "  .colab-df-spinner {\n",
              "    border: 2px solid var(--fill-color);\n",
              "    border-color: transparent;\n",
              "    border-bottom-color: var(--fill-color);\n",
              "    animation:\n",
              "      spin 1s steps(1) infinite;\n",
              "  }\n",
              "\n",
              "  @keyframes spin {\n",
              "    0% {\n",
              "      border-color: transparent;\n",
              "      border-bottom-color: var(--fill-color);\n",
              "      border-left-color: var(--fill-color);\n",
              "    }\n",
              "    20% {\n",
              "      border-color: transparent;\n",
              "      border-left-color: var(--fill-color);\n",
              "      border-top-color: var(--fill-color);\n",
              "    }\n",
              "    30% {\n",
              "      border-color: transparent;\n",
              "      border-left-color: var(--fill-color);\n",
              "      border-top-color: var(--fill-color);\n",
              "      border-right-color: var(--fill-color);\n",
              "    }\n",
              "    40% {\n",
              "      border-color: transparent;\n",
              "      border-right-color: var(--fill-color);\n",
              "      border-top-color: var(--fill-color);\n",
              "    }\n",
              "    60% {\n",
              "      border-color: transparent;\n",
              "      border-right-color: var(--fill-color);\n",
              "    }\n",
              "    80% {\n",
              "      border-color: transparent;\n",
              "      border-right-color: var(--fill-color);\n",
              "      border-bottom-color: var(--fill-color);\n",
              "    }\n",
              "    90% {\n",
              "      border-color: transparent;\n",
              "      border-bottom-color: var(--fill-color);\n",
              "    }\n",
              "  }\n",
              "</style>\n",
              "\n",
              "  <script>\n",
              "    async function quickchart(key) {\n",
              "      const quickchartButtonEl =\n",
              "        document.querySelector('#' + key + ' button');\n",
              "      quickchartButtonEl.disabled = true;  // To prevent multiple clicks.\n",
              "      quickchartButtonEl.classList.add('colab-df-spinner');\n",
              "      try {\n",
              "        const charts = await google.colab.kernel.invokeFunction(\n",
              "            'suggestCharts', [key], {});\n",
              "      } catch (error) {\n",
              "        console.error('Error during call to suggestCharts:', error);\n",
              "      }\n",
              "      quickchartButtonEl.classList.remove('colab-df-spinner');\n",
              "      quickchartButtonEl.classList.add('colab-df-quickchart-complete');\n",
              "    }\n",
              "    (() => {\n",
              "      let quickchartButtonEl =\n",
              "        document.querySelector('#df-06457934-8b30-4477-81ee-e330a55a2858 button');\n",
              "      quickchartButtonEl.style.display =\n",
              "        google.colab.kernel.accessAllowed ? 'block' : 'none';\n",
              "    })();\n",
              "  </script>\n",
              "</div>\n",
              "\n",
              "    </div>\n",
              "  </div>\n"
            ],
            "application/vnd.google.colaboratory.intrinsic+json": {
              "type": "dataframe",
              "variable_name": "dataNP"
            }
          },
          "metadata": {},
          "execution_count": 8
        }
      ]
    },
    {
      "cell_type": "code",
      "execution_count": null,
      "metadata": {
        "colab": {
          "base_uri": "https://localhost:8080/"
        },
        "id": "XMNvz_2nrxXu",
        "outputId": "42923d5e-d01d-4f56-c73d-6e1811bf716e"
      },
      "outputs": [
        {
          "output_type": "stream",
          "name": "stdout",
          "text": [
            "El número inicial de instancias y atributos es 588757 y 21 respectivamente.\n"
          ]
        },
        {
          "output_type": "stream",
          "name": "stderr",
          "text": [
            "/usr/local/lib/python3.10/dist-packages/ipykernel/ipkernel.py:283: DeprecationWarning: `should_run_async` will not call `transform_cell` automatically in the future. Please pass the result to `transformed_cell` argument and any exception that happen during thetransform in `preprocessing_exc_tuple` in IPython 7.17 and above.\n",
            "  and should_run_async(code)\n"
          ]
        }
      ],
      "source": [
        "print(\"El número inicial de instancias y atributos es\", dataNP.shape[0],\"y\", dataNP.shape[1], \"respectivamente.\")"
      ]
    },
    {
      "cell_type": "markdown",
      "metadata": {
        "id": "DRDaiyEtDVJQ"
      },
      "source": [
        "Con estos datos, se puede verificar inicialmente que es una base de datos de facturación, por lo que las columnas (atributos) corresponden a varios datos que son útiles para dar seguimiento a este cobro de artículos. Sin embargo, al tener conocimiento neto del data set otorgado por una empresa privada, se puede separar fácilmente los atributos e instancias potencialmente útiles para el fin que se espera, que es la puesta en marcha de un sistema de recomendación de alimentos del menú, como entradas, guarniciones, bebidas y otros."
      ]
    },
    {
      "cell_type": "markdown",
      "metadata": {
        "id": "Gby8Z39-EXgE"
      },
      "source": [
        "## Missing values"
      ]
    },
    {
      "cell_type": "markdown",
      "metadata": {
        "id": "kW9Q2Ye4FvfK"
      },
      "source": [
        "A través de un mapa de calor, se puede corroborar en qué parte del dataset están los Missing Values. Se designa el color amarillo para Missing Values, y color café para los que no lo son."
      ]
    },
    {
      "cell_type": "code",
      "execution_count": null,
      "metadata": {
        "colab": {
          "base_uri": "https://localhost:8080/",
          "height": 821
        },
        "id": "8YD9hAeQFy_i",
        "outputId": "49913116-5364-4010-eed7-860b65c56114"
      },
      "outputs": [
        {
          "output_type": "display_data",
          "data": {
            "text/plain": [
              "<Figure size 1200x800 with 2 Axes>"
            ],
            "image/png": "[encoded data removed]"
          },
          "metadata": {}
        }
      ],
      "source": [
        "# Definir los colores\n",
        "colours = ['grey', 'blue']\n",
        "\n",
        "# Crear la figura y los ejes\n",
        "fig, ax = plt.subplots(figsize=(12,8))\n",
        "\n",
        "# Crear el mapa de calor\n",
        "sns.heatmap(dataNP.isnull(), cmap=sns.color_palette(colours), ax=ax)\n",
        "\n",
        "# Añadir un título\n",
        "ax.set_title('Mapa de Calor de Datos Faltantes', fontsize=15)\n",
        "\n",
        "# Añadir etiquetas a los ejes\n",
        "ax.set_xlabel('Columnas', fontsize=13)\n",
        "ax.set_ylabel('Filas', fontsize=13)\n",
        "\n",
        "# Mostrar la gráfica\n",
        "plt.show()"
      ]
    },
    {
      "cell_type": "code",
      "source": [
        "# Calcula el número total de elementos en el DataFrame\n",
        "total = dataNP.size\n",
        "\n",
        "# Calcula el número de elementos faltantes en el DataFrame\n",
        "missing = dataNP.isnull().sum().sum()\n",
        "\n",
        "# Calcula el porcentaje de datos faltantes\n",
        "porcentaje_faltante = round((missing / total) * 100,2)\n",
        "\n",
        "print(f'El porcentaje de datos faltantes es: {porcentaje_faltante}%')"
      ],
      "metadata": {
        "colab": {
          "base_uri": "https://localhost:8080/"
        },
        "id": "rU4MAOJlZgYV",
        "outputId": "9948c855-5e65-41d2-c07b-ae49fc3c36b5"
      },
      "execution_count": null,
      "outputs": [
        {
          "output_type": "stream",
          "name": "stderr",
          "text": [
            "/usr/local/lib/python3.10/dist-packages/ipykernel/ipkernel.py:283: DeprecationWarning: `should_run_async` will not call `transform_cell` automatically in the future. Please pass the result to `transformed_cell` argument and any exception that happen during thetransform in `preprocessing_exc_tuple` in IPython 7.17 and above.\n",
            "  and should_run_async(code)\n"
          ]
        },
        {
          "output_type": "stream",
          "name": "stdout",
          "text": [
            "El porcentaje de datos faltantes es: 6.28%\n"
          ]
        }
      ]
    },
    {
      "cell_type": "markdown",
      "metadata": {
        "id": "AI4KhonyJNIl"
      },
      "source": [
        "Con este gráfico se puede llegar a la conclusión de que los valores faltantes comienzan desde la columna 'MOZO', siendo lineal en su mayor parte, lo que indica un patrón. Para confirmar esto, solicita al programa que muestre los valores nulos en la columna mencionada anteriormente."
      ]
    },
    {
      "cell_type": "code",
      "execution_count": null,
      "metadata": {
        "colab": {
          "base_uri": "https://localhost:8080/",
          "height": 446
        },
        "id": "jo7XCNSZFOI-",
        "outputId": "06f41c4d-0959-4dd9-a309-ed18aac04c13"
      },
      "outputs": [
        {
          "output_type": "execute_result",
          "data": {
            "text/plain": [
              "0           Pedido      Fecha      Caja   Usuario    Estado Mozo tItem  \\\n",
              "8   Total Pedido :  32.873604  1.662295   3.28736  37.82326  NaN   NaN   \n",
              "19  Total Pedido :  72.928777  2.912178  7.185735  83.02669  NaN   NaN   \n",
              "32  Total Pedido :  63.973375  4.131148  6.397337  74.50186  NaN   NaN   \n",
              "39  Total Pedido :  33.281684  0.782319  3.274597   37.3386  NaN   NaN   \n",
              "51  Total Pedido :  36.524115  3.069145   3.59884   43.1921  NaN   NaN   \n",
              "\n",
              "0  Producto Cant. Sub Total  ... Impuesto 2 Total Fecha Envio Envios  \\\n",
              "8       nan   NaN       NaN  ...        NaN   NaN         NaN    NaN   \n",
              "19      nan   NaN       NaN  ...        NaN   NaN         NaN    NaN   \n",
              "32      nan   NaN       NaN  ...        NaN   NaN         NaN    NaN   \n",
              "39      nan   NaN       NaN  ...        NaN   NaN         NaN    NaN   \n",
              "51      nan   NaN       NaN  ...        NaN   NaN         NaN    NaN   \n",
              "\n",
              "0  Documento Canal Venta Formas Pago Grupo Sub Grupo Tipo de Servicio  \n",
              "8        NaN         NaN         NaN   NaN       NaN              nan  \n",
              "19       NaN         NaN         NaN   NaN       NaN              nan  \n",
              "32       NaN         NaN         NaN   NaN       NaN              nan  \n",
              "39       NaN         NaN         NaN   NaN       NaN              nan  \n",
              "51       NaN         NaN         NaN   NaN       NaN              nan  \n",
              "\n",
              "[5 rows x 21 columns]"
            ],
            "text/html": [
              "\n",
              "  <div id=\"df-d1be7931-a2bf-4028-9145-48c34c45fe0a\" class=\"colab-df-container\">\n",
              "    <div>\n",
              "<style scoped>\n",
              "    .dataframe tbody tr th:only-of-type {\n",
              "        vertical-align: middle;\n",
              "    }\n",
              "\n",
              "    .dataframe tbody tr th {\n",
              "        vertical-align: top;\n",
              "    }\n",
              "\n",
              "    .dataframe thead th {\n",
              "        text-align: right;\n",
              "    }\n",
              "</style>\n",
              "<table border=\"1\" class=\"dataframe\">\n",
              "  <thead>\n",
              "    <tr style=\"text-align: right;\">\n",
              "      <th></th>\n",
              "      <th>Pedido</th>\n",
              "      <th>Fecha</th>\n",
              "      <th>Caja</th>\n",
              "      <th>Usuario</th>\n",
              "      <th>Estado</th>\n",
              "      <th>Mozo</th>\n",
              "      <th>tItem</th>\n",
              "      <th>Producto</th>\n",
              "      <th>Cant.</th>\n",
              "      <th>Sub Total</th>\n",
              "      <th>...</th>\n",
              "      <th>Impuesto 2</th>\n",
              "      <th>Total</th>\n",
              "      <th>Fecha Envio</th>\n",
              "      <th>Envios</th>\n",
              "      <th>Documento</th>\n",
              "      <th>Canal Venta</th>\n",
              "      <th>Formas Pago</th>\n",
              "      <th>Grupo</th>\n",
              "      <th>Sub Grupo</th>\n",
              "      <th>Tipo de Servicio</th>\n",
              "    </tr>\n",
              "  </thead>\n",
              "  <tbody>\n",
              "    <tr>\n",
              "      <th>8</th>\n",
              "      <td>Total Pedido :</td>\n",
              "      <td>32.873604</td>\n",
              "      <td>1.662295</td>\n",
              "      <td>3.28736</td>\n",
              "      <td>37.82326</td>\n",
              "      <td>NaN</td>\n",
              "      <td>NaN</td>\n",
              "      <td>nan</td>\n",
              "      <td>NaN</td>\n",
              "      <td>NaN</td>\n",
              "      <td>...</td>\n",
              "      <td>NaN</td>\n",
              "      <td>NaN</td>\n",
              "      <td>NaN</td>\n",
              "      <td>NaN</td>\n",
              "      <td>NaN</td>\n",
              "      <td>NaN</td>\n",
              "      <td>NaN</td>\n",
              "      <td>NaN</td>\n",
              "      <td>NaN</td>\n",
              "      <td>nan</td>\n",
              "    </tr>\n",
              "    <tr>\n",
              "      <th>19</th>\n",
              "      <td>Total Pedido :</td>\n",
              "      <td>72.928777</td>\n",
              "      <td>2.912178</td>\n",
              "      <td>7.185735</td>\n",
              "      <td>83.02669</td>\n",
              "      <td>NaN</td>\n",
              "      <td>NaN</td>\n",
              "      <td>nan</td>\n",
              "      <td>NaN</td>\n",
              "      <td>NaN</td>\n",
              "      <td>...</td>\n",
              "      <td>NaN</td>\n",
              "      <td>NaN</td>\n",
              "      <td>NaN</td>\n",
              "      <td>NaN</td>\n",
              "      <td>NaN</td>\n",
              "      <td>NaN</td>\n",
              "      <td>NaN</td>\n",
              "      <td>NaN</td>\n",
              "      <td>NaN</td>\n",
              "      <td>nan</td>\n",
              "    </tr>\n",
              "    <tr>\n",
              "      <th>32</th>\n",
              "      <td>Total Pedido :</td>\n",
              "      <td>63.973375</td>\n",
              "      <td>4.131148</td>\n",
              "      <td>6.397337</td>\n",
              "      <td>74.50186</td>\n",
              "      <td>NaN</td>\n",
              "      <td>NaN</td>\n",
              "      <td>nan</td>\n",
              "      <td>NaN</td>\n",
              "      <td>NaN</td>\n",
              "      <td>...</td>\n",
              "      <td>NaN</td>\n",
              "      <td>NaN</td>\n",
              "      <td>NaN</td>\n",
              "      <td>NaN</td>\n",
              "      <td>NaN</td>\n",
              "      <td>NaN</td>\n",
              "      <td>NaN</td>\n",
              "      <td>NaN</td>\n",
              "      <td>NaN</td>\n",
              "      <td>nan</td>\n",
              "    </tr>\n",
              "    <tr>\n",
              "      <th>39</th>\n",
              "      <td>Total Pedido :</td>\n",
              "      <td>33.281684</td>\n",
              "      <td>0.782319</td>\n",
              "      <td>3.274597</td>\n",
              "      <td>37.3386</td>\n",
              "      <td>NaN</td>\n",
              "      <td>NaN</td>\n",
              "      <td>nan</td>\n",
              "      <td>NaN</td>\n",
              "      <td>NaN</td>\n",
              "      <td>...</td>\n",
              "      <td>NaN</td>\n",
              "      <td>NaN</td>\n",
              "      <td>NaN</td>\n",
              "      <td>NaN</td>\n",
              "      <td>NaN</td>\n",
              "      <td>NaN</td>\n",
              "      <td>NaN</td>\n",
              "      <td>NaN</td>\n",
              "      <td>NaN</td>\n",
              "      <td>nan</td>\n",
              "    </tr>\n",
              "    <tr>\n",
              "      <th>51</th>\n",
              "      <td>Total Pedido :</td>\n",
              "      <td>36.524115</td>\n",
              "      <td>3.069145</td>\n",
              "      <td>3.59884</td>\n",
              "      <td>43.1921</td>\n",
              "      <td>NaN</td>\n",
              "      <td>NaN</td>\n",
              "      <td>nan</td>\n",
              "      <td>NaN</td>\n",
              "      <td>NaN</td>\n",
              "      <td>...</td>\n",
              "      <td>NaN</td>\n",
              "      <td>NaN</td>\n",
              "      <td>NaN</td>\n",
              "      <td>NaN</td>\n",
              "      <td>NaN</td>\n",
              "      <td>NaN</td>\n",
              "      <td>NaN</td>\n",
              "      <td>NaN</td>\n",
              "      <td>NaN</td>\n",
              "      <td>nan</td>\n",
              "    </tr>\n",
              "  </tbody>\n",
              "</table>\n",
              "<p>5 rows × 21 columns</p>\n",
              "</div>\n",
              "    <div class=\"colab-df-buttons\">\n",
              "\n",
              "  <div class=\"colab-df-container\">\n",
              "    <button class=\"colab-df-convert\" onclick=\"convertToInteractive('df-d1be7931-a2bf-4028-9145-48c34c45fe0a')\"\n",
              "            title=\"Convert this dataframe to an interactive table.\"\n",
              "            style=\"display:none;\">\n",
              "\n",
              "  <svg xmlns=\"http://www.w3.org/2000/svg\" height=\"24px\" viewBox=\"0 -960 960 960\">\n",
              "    <path d=\"M120-120v-720h720v720H120Zm60-500h600v-160H180v160Zm220 220h160v-160H400v160Zm0 220h160v-160H400v160ZM180-400h160v-160H180v160Zm440 0h160v-160H620v160ZM180-180h160v-160H180v160Zm440 0h160v-160H620v160Z\"/>\n",
              "  </svg>\n",
              "    </button>\n",
              "\n",
              "  <style>\n",
              "    .colab-df-container {\n",
              "      display:flex;\n",
              "      gap: 12px;\n",
              "    }\n",
              "\n",
              "    .colab-df-convert {\n",
              "      background-color: #E8F0FE;\n",
              "      border: none;\n",
              "      border-radius: 50%;\n",
              "      cursor: pointer;\n",
              "      display: none;\n",
              "      fill: #1967D2;\n",
              "      height: 32px;\n",
              "      padding: 0 0 0 0;\n",
              "      width: 32px;\n",
              "    }\n",
              "\n",
              "    .colab-df-convert:hover {\n",
              "      background-color: #E2EBFA;\n",
              "      box-shadow: 0px 1px 2px rgba(60, 64, 67, 0.3), 0px 1px 3px 1px rgba(60, 64, 67, 0.15);\n",
              "      fill: #174EA6;\n",
              "    }\n",
              "\n",
              "    .colab-df-buttons div {\n",
              "      margin-bottom: 4px;\n",
              "    }\n",
              "\n",
              "    [theme=dark] .colab-df-convert {\n",
              "      background-color: #3B4455;\n",
              "      fill: #D2E3FC;\n",
              "    }\n",
              "\n",
              "    [theme=dark] .colab-df-convert:hover {\n",
              "      background-color: #434B5C;\n",
              "      box-shadow: 0px 1px 3px 1px rgba(0, 0, 0, 0.15);\n",
              "      filter: drop-shadow(0px 1px 2px rgba(0, 0, 0, 0.3));\n",
              "      fill: #FFFFFF;\n",
              "    }\n",
              "  </style>\n",
              "\n",
              "    <script>\n",
              "      const buttonEl =\n",
              "        document.querySelector('#df-d1be7931-a2bf-4028-9145-48c34c45fe0a button.colab-df-convert');\n",
              "      buttonEl.style.display =\n",
              "        google.colab.kernel.accessAllowed ? 'block' : 'none';\n",
              "\n",
              "      async function convertToInteractive(key) {\n",
              "        const element = document.querySelector('#df-d1be7931-a2bf-4028-9145-48c34c45fe0a');\n",
              "        const dataTable =\n",
              "          await google.colab.kernel.invokeFunction('convertToInteractive',\n",
              "                                                    [key], {});\n",
              "        if (!dataTable) return;\n",
              "\n",
              "        const docLinkHtml = 'Like what you see? Visit the ' +\n",
              "          '<a target=\"_blank\" href=https://colab.research.google.com/notebooks/data_table.ipynb>data table notebook</a>'\n",
              "          + ' to learn more about interactive tables.';\n",
              "        element.innerHTML = '';\n",
              "        dataTable['output_type'] = 'display_data';\n",
              "        await google.colab.output.renderOutput(dataTable, element);\n",
              "        const docLink = document.createElement('div');\n",
              "        docLink.innerHTML = docLinkHtml;\n",
              "        element.appendChild(docLink);\n",
              "      }\n",
              "    </script>\n",
              "  </div>\n",
              "\n",
              "\n",
              "<div id=\"df-78f2849e-1689-4cd5-9712-b110937b9c97\">\n",
              "  <button class=\"colab-df-quickchart\" onclick=\"quickchart('df-78f2849e-1689-4cd5-9712-b110937b9c97')\"\n",
              "            title=\"Suggest charts\"\n",
              "            style=\"display:none;\">\n",
              "\n",
              "<svg xmlns=\"http://www.w3.org/2000/svg\" height=\"24px\"viewBox=\"0 0 24 24\"\n",
              "     width=\"24px\">\n",
              "    <g>\n",
              "        <path d=\"M19 3H5c-1.1 0-2 .9-2 2v14c0 1.1.9 2 2 2h14c1.1 0 2-.9 2-2V5c0-1.1-.9-2-2-2zM9 17H7v-7h2v7zm4 0h-2V7h2v10zm4 0h-2v-4h2v4z\"/>\n",
              "    </g>\n",
              "</svg>\n",
              "  </button>\n",
              "\n",
              "<style>\n",
              "  .colab-df-quickchart {\n",
              "      --bg-color: #E8F0FE;\n",
              "      --fill-color: #1967D2;\n",
              "      --hover-bg-color: #E2EBFA;\n",
              "      --hover-fill-color: #174EA6;\n",
              "      --disabled-fill-color: #AAA;\n",
              "      --disabled-bg-color: #DDD;\n",
              "  }\n",
              "\n",
              "  [theme=dark] .colab-df-quickchart {\n",
              "      --bg-color: #3B4455;\n",
              "      --fill-color: #D2E3FC;\n",
              "      --hover-bg-color: #434B5C;\n",
              "      --hover-fill-color: #FFFFFF;\n",
              "      --disabled-bg-color: #3B4455;\n",
              "      --disabled-fill-color: #666;\n",
              "  }\n",
              "\n",
              "  .colab-df-quickchart {\n",
              "    background-color: var(--bg-color);\n",
              "    border: none;\n",
              "    border-radius: 50%;\n",
              "    cursor: pointer;\n",
              "    display: none;\n",
              "    fill: var(--fill-color);\n",
              "    height: 32px;\n",
              "    padding: 0;\n",
              "    width: 32px;\n",
              "  }\n",
              "\n",
              "  .colab-df-quickchart:hover {\n",
              "    background-color: var(--hover-bg-color);\n",
              "    box-shadow: 0 1px 2px rgba(60, 64, 67, 0.3), 0 1px 3px 1px rgba(60, 64, 67, 0.15);\n",
              "    fill: var(--button-hover-fill-color);\n",
              "  }\n",
              "\n",
              "  .colab-df-quickchart-complete:disabled,\n",
              "  .colab-df-quickchart-complete:disabled:hover {\n",
              "    background-color: var(--disabled-bg-color);\n",
              "    fill: var(--disabled-fill-color);\n",
              "    box-shadow: none;\n",
              "  }\n",
              "\n",
              "  .colab-df-spinner {\n",
              "    border: 2px solid var(--fill-color);\n",
              "    border-color: transparent;\n",
              "    border-bottom-color: var(--fill-color);\n",
              "    animation:\n",
              "      spin 1s steps(1) infinite;\n",
              "  }\n",
              "\n",
              "  @keyframes spin {\n",
              "    0% {\n",
              "      border-color: transparent;\n",
              "      border-bottom-color: var(--fill-color);\n",
              "      border-left-color: var(--fill-color);\n",
              "    }\n",
              "    20% {\n",
              "      border-color: transparent;\n",
              "      border-left-color: var(--fill-color);\n",
              "      border-top-color: var(--fill-color);\n",
              "    }\n",
              "    30% {\n",
              "      border-color: transparent;\n",
              "      border-left-color: var(--fill-color);\n",
              "      border-top-color: var(--fill-color);\n",
              "      border-right-color: var(--fill-color);\n",
              "    }\n",
              "    40% {\n",
              "      border-color: transparent;\n",
              "      border-right-color: var(--fill-color);\n",
              "      border-top-color: var(--fill-color);\n",
              "    }\n",
              "    60% {\n",
              "      border-color: transparent;\n",
              "      border-right-color: var(--fill-color);\n",
              "    }\n",
              "    80% {\n",
              "      border-color: transparent;\n",
              "      border-right-color: var(--fill-color);\n",
              "      border-bottom-color: var(--fill-color);\n",
              "    }\n",
              "    90% {\n",
              "      border-color: transparent;\n",
              "      border-bottom-color: var(--fill-color);\n",
              "    }\n",
              "  }\n",
              "</style>\n",
              "\n",
              "  <script>\n",
              "    async function quickchart(key) {\n",
              "      const quickchartButtonEl =\n",
              "        document.querySelector('#' + key + ' button');\n",
              "      quickchartButtonEl.disabled = true;  // To prevent multiple clicks.\n",
              "      quickchartButtonEl.classList.add('colab-df-spinner');\n",
              "      try {\n",
              "        const charts = await google.colab.kernel.invokeFunction(\n",
              "            'suggestCharts', [key], {});\n",
              "      } catch (error) {\n",
              "        console.error('Error during call to suggestCharts:', error);\n",
              "      }\n",
              "      quickchartButtonEl.classList.remove('colab-df-spinner');\n",
              "      quickchartButtonEl.classList.add('colab-df-quickchart-complete');\n",
              "    }\n",
              "    (() => {\n",
              "      let quickchartButtonEl =\n",
              "        document.querySelector('#df-78f2849e-1689-4cd5-9712-b110937b9c97 button');\n",
              "      quickchartButtonEl.style.display =\n",
              "        google.colab.kernel.accessAllowed ? 'block' : 'none';\n",
              "    })();\n",
              "  </script>\n",
              "</div>\n",
              "\n",
              "    </div>\n",
              "  </div>\n"
            ]
          },
          "metadata": {},
          "execution_count": 12
        }
      ],
      "source": [
        "dataNP[dataNP['Mozo'].isnull()].head(5)"
      ]
    },
    {
      "cell_type": "markdown",
      "metadata": {
        "id": "x_VZStLQ7O1a"
      },
      "source": [
        "Se puede verificar que existen al menos un dato en la columna 'Pedido' que está relacionada con los valores nulos en la columna 'Mozo' (Total Pedido:). Estas filas son valores de suma de cantidades de venta del producto, datos que no son de utilidad para  el fin que se está buscando, es por ello que se decide eliminar estas filas. Sin embargo, se corrobora esta hipótesis con el siguiente comando, que cuenta el número de instancias únicas de una columna especificada."
      ]
    },
    {
      "cell_type": "code",
      "execution_count": null,
      "metadata": {
        "colab": {
          "base_uri": "https://localhost:8080/"
        },
        "id": "nZbvOz-9Ml8k",
        "outputId": "b5f02add-7a44-4c37-e2b7-477df3daee24"
      },
      "outputs": [
        {
          "output_type": "execute_result",
          "data": {
            "text/plain": [
              "Total Pedido :    54926\n",
              "Total :              13\n",
              "Name: Pedido, dtype: int64"
            ]
          },
          "metadata": {},
          "execution_count": 13
        }
      ],
      "source": [
        "null_dataNP = dataNP[dataNP['Mozo'].isnull()]\n",
        "null_dataNP['Pedido'].value_counts()"
      ]
    },
    {
      "cell_type": "markdown",
      "metadata": {
        "id": "Yvab2_H0DjNB"
      },
      "source": [
        "Con esto se comprueba que efectivamente solo existen dos valores (repetidos) en la columna 'Pedido'. Luego se procede a la eliminación de este Missing Value, designando un nuevo Data Frame de nombre 'new_dataNP' para las modificaciones que se hagan desde este punto en adelante."
      ]
    },
    {
      "cell_type": "code",
      "execution_count": null,
      "metadata": {
        "id": "Jr_oSwNKyptE",
        "colab": {
          "base_uri": "https://localhost:8080/"
        },
        "outputId": "9f951ae8-2064-4ad7-e18a-bb00b6d59002"
      },
      "outputs": [
        {
          "output_type": "stream",
          "name": "stderr",
          "text": [
            "/usr/local/lib/python3.10/dist-packages/ipykernel/ipkernel.py:283: DeprecationWarning: `should_run_async` will not call `transform_cell` automatically in the future. Please pass the result to `transformed_cell` argument and any exception that happen during thetransform in `preprocessing_exc_tuple` in IPython 7.17 and above.\n",
            "  and should_run_async(code)\n"
          ]
        }
      ],
      "source": [
        "new_dataNP = dataNP.dropna(subset=['Mozo'])"
      ]
    },
    {
      "cell_type": "markdown",
      "metadata": {
        "id": "0BktVjUvCQr3"
      },
      "source": [
        "\n",
        "Se vuelve a verificar a través de un mapa de calor los valores perdidos, esta vez del DataFrame 'new_dataNP', siguiendo el mismo patrón de colores del anterior, es decir, el color amarillo para Missing Values, y color café para los que no lo son."
      ]
    },
    {
      "cell_type": "code",
      "source": [
        "nulos_NP = new_dataNP.isnull().sum()\n",
        "\n",
        "# Crea un nuevo DataFrame con los resultados\n",
        "df_nulos = pd.DataFrame({'new_dataNP': nulos_NP})\n",
        "\n",
        "print(df_nulos)"
      ],
      "metadata": {
        "colab": {
          "base_uri": "https://localhost:8080/"
        },
        "id": "lW0T6FrmMBG_",
        "outputId": "4a2b9f41-1a57-47e9-b72b-dfa399b2d693"
      },
      "execution_count": null,
      "outputs": [
        {
          "output_type": "stream",
          "name": "stderr",
          "text": [
            "/usr/local/lib/python3.10/dist-packages/ipykernel/ipkernel.py:283: DeprecationWarning: `should_run_async` will not call `transform_cell` automatically in the future. Please pass the result to `transformed_cell` argument and any exception that happen during thetransform in `preprocessing_exc_tuple` in IPython 7.17 and above.\n",
            "  and should_run_async(code)\n"
          ]
        },
        {
          "output_type": "stream",
          "name": "stdout",
          "text": [
            "                  new_dataNP\n",
            "0                           \n",
            "Pedido                     0\n",
            "Fecha                      0\n",
            "Caja                       0\n",
            "Usuario                    0\n",
            "Estado                     0\n",
            "Mozo                       0\n",
            "tItem                    733\n",
            "Producto                   0\n",
            "Cant.                      0\n",
            "Sub Total                  0\n",
            "Impuesto 1                 0\n",
            "Impuesto 2                 0\n",
            "Total                      0\n",
            "Fecha Envio              792\n",
            "Envios                     0\n",
            "Documento               1980\n",
            "Canal Venta                0\n",
            "Formas Pago             2009\n",
            "Grupo                    733\n",
            "Sub Grupo                733\n",
            "Tipo de Servicio           0\n"
          ]
        }
      ]
    },
    {
      "cell_type": "markdown",
      "metadata": {
        "id": "zYCXGNozC_5z"
      },
      "source": [
        "Se puede visualizar claramente que existe aún Missing Values en las columnas 'Documento' y en 'Formas Pago', por lo que se repite el procedimiento anterior."
      ]
    },
    {
      "cell_type": "code",
      "execution_count": null,
      "metadata": {
        "colab": {
          "base_uri": "https://localhost:8080/",
          "height": 429
        },
        "id": "Iw4tpu-wDSFr",
        "outputId": "386a4da4-b537-4b0b-b4ec-e1d649461b40"
      },
      "outputs": [
        {
          "output_type": "execute_result",
          "data": {
            "text/plain": [
              "0         Pedido                Fecha Caja  Usuario   Estado          Mozo  \\\n",
              "681   2300000062  2023-01-01 17:58:00  006    NLEON  ANULADO    SIN MESERO   \n",
              "2108  2300000194  2023-01-02 14:15:00  007  HVINCES  ANULADO  NICOLE CHICA   \n",
              "2109  2300000194  2023-01-02 14:15:00  007  HVINCES  ANULADO  NICOLE CHICA   \n",
              "2110  2300000194  2023-01-02 14:15:00  007  HVINCES  ANULADO  NICOLE CHICA   \n",
              "2168  2300000200  2023-01-02 14:29:00  006  HVINCES  ANULADO    SIN MESERO   \n",
              "\n",
              "0    tItem                         Producto Cant. Sub Total  ... Impuesto 2  \\\n",
              "681    NaN                              nan     0         0  ...          0   \n",
              "2108   001         6042 PECHUGA FILETE 300G   0.3  3.144545  ...   0.314455   \n",
              "2109   002                  6004 CHINCHULIN     1  4.427273  ...   0.442727   \n",
              "2110   006  6521 RIB EYE E/V DON EUGENIO NP  1.05    30.765  ...     3.0765   \n",
              "2168   NaN                              nan     0         0  ...          0   \n",
              "\n",
              "0       Total          Fecha Envio Envios Documento  Canal Venta Formas Pago  \\\n",
              "681         0                  NaN      0       NaN  En el Local         NaN   \n",
              "2108    3.459  2023-01-02 14:19:29      1       NaN  En el Local         NaN   \n",
              "2109     4.87  2023-01-02 14:19:29      1       NaN  En el Local         NaN   \n",
              "2110  33.8415  2023-01-02 14:25:45      1       NaN  En el Local         NaN   \n",
              "2168        0                  NaN      0       NaN  En el Local         NaN   \n",
              "\n",
              "0         Grupo Sub Grupo Tipo de Servicio  \n",
              "681         NaN       NaN              nan  \n",
              "2108  ALIMENTOS  PARRILLA            POLLO  \n",
              "2109  ALIMENTOS  PARRILLA              RES  \n",
              "2110  ALIMENTOS  PARRILLA              RES  \n",
              "2168        NaN       NaN              nan  \n",
              "\n",
              "[5 rows x 21 columns]"
            ],
            "text/html": [
              "\n",
              "  <div id=\"df-ae54542e-4f0e-4113-80c2-b219d712c4c0\" class=\"colab-df-container\">\n",
              "    <div>\n",
              "<style scoped>\n",
              "    .dataframe tbody tr th:only-of-type {\n",
              "        vertical-align: middle;\n",
              "    }\n",
              "\n",
              "    .dataframe tbody tr th {\n",
              "        vertical-align: top;\n",
              "    }\n",
              "\n",
              "    .dataframe thead th {\n",
              "        text-align: right;\n",
              "    }\n",
              "</style>\n",
              "<table border=\"1\" class=\"dataframe\">\n",
              "  <thead>\n",
              "    <tr style=\"text-align: right;\">\n",
              "      <th></th>\n",
              "      <th>Pedido</th>\n",
              "      <th>Fecha</th>\n",
              "      <th>Caja</th>\n",
              "      <th>Usuario</th>\n",
              "      <th>Estado</th>\n",
              "      <th>Mozo</th>\n",
              "      <th>tItem</th>\n",
              "      <th>Producto</th>\n",
              "      <th>Cant.</th>\n",
              "      <th>Sub Total</th>\n",
              "      <th>...</th>\n",
              "      <th>Impuesto 2</th>\n",
              "      <th>Total</th>\n",
              "      <th>Fecha Envio</th>\n",
              "      <th>Envios</th>\n",
              "      <th>Documento</th>\n",
              "      <th>Canal Venta</th>\n",
              "      <th>Formas Pago</th>\n",
              "      <th>Grupo</th>\n",
              "      <th>Sub Grupo</th>\n",
              "      <th>Tipo de Servicio</th>\n",
              "    </tr>\n",
              "  </thead>\n",
              "  <tbody>\n",
              "    <tr>\n",
              "      <th>681</th>\n",
              "      <td>2300000062</td>\n",
              "      <td>2023-01-01 17:58:00</td>\n",
              "      <td>006</td>\n",
              "      <td>NLEON</td>\n",
              "      <td>ANULADO</td>\n",
              "      <td>SIN MESERO</td>\n",
              "      <td>NaN</td>\n",
              "      <td>nan</td>\n",
              "      <td>0</td>\n",
              "      <td>0</td>\n",
              "      <td>...</td>\n",
              "      <td>0</td>\n",
              "      <td>0</td>\n",
              "      <td>NaN</td>\n",
              "      <td>0</td>\n",
              "      <td>NaN</td>\n",
              "      <td>En el Local</td>\n",
              "      <td>NaN</td>\n",
              "      <td>NaN</td>\n",
              "      <td>NaN</td>\n",
              "      <td>nan</td>\n",
              "    </tr>\n",
              "    <tr>\n",
              "      <th>2108</th>\n",
              "      <td>2300000194</td>\n",
              "      <td>2023-01-02 14:15:00</td>\n",
              "      <td>007</td>\n",
              "      <td>HVINCES</td>\n",
              "      <td>ANULADO</td>\n",
              "      <td>NICOLE CHICA</td>\n",
              "      <td>001</td>\n",
              "      <td>6042 PECHUGA FILETE 300G</td>\n",
              "      <td>0.3</td>\n",
              "      <td>3.144545</td>\n",
              "      <td>...</td>\n",
              "      <td>0.314455</td>\n",
              "      <td>3.459</td>\n",
              "      <td>2023-01-02 14:19:29</td>\n",
              "      <td>1</td>\n",
              "      <td>NaN</td>\n",
              "      <td>En el Local</td>\n",
              "      <td>NaN</td>\n",
              "      <td>ALIMENTOS</td>\n",
              "      <td>PARRILLA</td>\n",
              "      <td>POLLO</td>\n",
              "    </tr>\n",
              "    <tr>\n",
              "      <th>2109</th>\n",
              "      <td>2300000194</td>\n",
              "      <td>2023-01-02 14:15:00</td>\n",
              "      <td>007</td>\n",
              "      <td>HVINCES</td>\n",
              "      <td>ANULADO</td>\n",
              "      <td>NICOLE CHICA</td>\n",
              "      <td>002</td>\n",
              "      <td>6004 CHINCHULIN</td>\n",
              "      <td>1</td>\n",
              "      <td>4.427273</td>\n",
              "      <td>...</td>\n",
              "      <td>0.442727</td>\n",
              "      <td>4.87</td>\n",
              "      <td>2023-01-02 14:19:29</td>\n",
              "      <td>1</td>\n",
              "      <td>NaN</td>\n",
              "      <td>En el Local</td>\n",
              "      <td>NaN</td>\n",
              "      <td>ALIMENTOS</td>\n",
              "      <td>PARRILLA</td>\n",
              "      <td>RES</td>\n",
              "    </tr>\n",
              "    <tr>\n",
              "      <th>2110</th>\n",
              "      <td>2300000194</td>\n",
              "      <td>2023-01-02 14:15:00</td>\n",
              "      <td>007</td>\n",
              "      <td>HVINCES</td>\n",
              "      <td>ANULADO</td>\n",
              "      <td>NICOLE CHICA</td>\n",
              "      <td>006</td>\n",
              "      <td>6521 RIB EYE E/V DON EUGENIO NP</td>\n",
              "      <td>1.05</td>\n",
              "      <td>30.765</td>\n",
              "      <td>...</td>\n",
              "      <td>3.0765</td>\n",
              "      <td>33.8415</td>\n",
              "      <td>2023-01-02 14:25:45</td>\n",
              "      <td>1</td>\n",
              "      <td>NaN</td>\n",
              "      <td>En el Local</td>\n",
              "      <td>NaN</td>\n",
              "      <td>ALIMENTOS</td>\n",
              "      <td>PARRILLA</td>\n",
              "      <td>RES</td>\n",
              "    </tr>\n",
              "    <tr>\n",
              "      <th>2168</th>\n",
              "      <td>2300000200</td>\n",
              "      <td>2023-01-02 14:29:00</td>\n",
              "      <td>006</td>\n",
              "      <td>HVINCES</td>\n",
              "      <td>ANULADO</td>\n",
              "      <td>SIN MESERO</td>\n",
              "      <td>NaN</td>\n",
              "      <td>nan</td>\n",
              "      <td>0</td>\n",
              "      <td>0</td>\n",
              "      <td>...</td>\n",
              "      <td>0</td>\n",
              "      <td>0</td>\n",
              "      <td>NaN</td>\n",
              "      <td>0</td>\n",
              "      <td>NaN</td>\n",
              "      <td>En el Local</td>\n",
              "      <td>NaN</td>\n",
              "      <td>NaN</td>\n",
              "      <td>NaN</td>\n",
              "      <td>nan</td>\n",
              "    </tr>\n",
              "  </tbody>\n",
              "</table>\n",
              "<p>5 rows × 21 columns</p>\n",
              "</div>\n",
              "    <div class=\"colab-df-buttons\">\n",
              "\n",
              "  <div class=\"colab-df-container\">\n",
              "    <button class=\"colab-df-convert\" onclick=\"convertToInteractive('df-ae54542e-4f0e-4113-80c2-b219d712c4c0')\"\n",
              "            title=\"Convert this dataframe to an interactive table.\"\n",
              "            style=\"display:none;\">\n",
              "\n",
              "  <svg xmlns=\"http://www.w3.org/2000/svg\" height=\"24px\" viewBox=\"0 -960 960 960\">\n",
              "    <path d=\"M120-120v-720h720v720H120Zm60-500h600v-160H180v160Zm220 220h160v-160H400v160Zm0 220h160v-160H400v160ZM180-400h160v-160H180v160Zm440 0h160v-160H620v160ZM180-180h160v-160H180v160Zm440 0h160v-160H620v160Z\"/>\n",
              "  </svg>\n",
              "    </button>\n",
              "\n",
              "  <style>\n",
              "    .colab-df-container {\n",
              "      display:flex;\n",
              "      gap: 12px;\n",
              "    }\n",
              "\n",
              "    .colab-df-convert {\n",
              "      background-color: #E8F0FE;\n",
              "      border: none;\n",
              "      border-radius: 50%;\n",
              "      cursor: pointer;\n",
              "      display: none;\n",
              "      fill: #1967D2;\n",
              "      height: 32px;\n",
              "      padding: 0 0 0 0;\n",
              "      width: 32px;\n",
              "    }\n",
              "\n",
              "    .colab-df-convert:hover {\n",
              "      background-color: #E2EBFA;\n",
              "      box-shadow: 0px 1px 2px rgba(60, 64, 67, 0.3), 0px 1px 3px 1px rgba(60, 64, 67, 0.15);\n",
              "      fill: #174EA6;\n",
              "    }\n",
              "\n",
              "    .colab-df-buttons div {\n",
              "      margin-bottom: 4px;\n",
              "    }\n",
              "\n",
              "    [theme=dark] .colab-df-convert {\n",
              "      background-color: #3B4455;\n",
              "      fill: #D2E3FC;\n",
              "    }\n",
              "\n",
              "    [theme=dark] .colab-df-convert:hover {\n",
              "      background-color: #434B5C;\n",
              "      box-shadow: 0px 1px 3px 1px rgba(0, 0, 0, 0.15);\n",
              "      filter: drop-shadow(0px 1px 2px rgba(0, 0, 0, 0.3));\n",
              "      fill: #FFFFFF;\n",
              "    }\n",
              "  </style>\n",
              "\n",
              "    <script>\n",
              "      const buttonEl =\n",
              "        document.querySelector('#df-ae54542e-4f0e-4113-80c2-b219d712c4c0 button.colab-df-convert');\n",
              "      buttonEl.style.display =\n",
              "        google.colab.kernel.accessAllowed ? 'block' : 'none';\n",
              "\n",
              "      async function convertToInteractive(key) {\n",
              "        const element = document.querySelector('#df-ae54542e-4f0e-4113-80c2-b219d712c4c0');\n",
              "        const dataTable =\n",
              "          await google.colab.kernel.invokeFunction('convertToInteractive',\n",
              "                                                    [key], {});\n",
              "        if (!dataTable) return;\n",
              "\n",
              "        const docLinkHtml = 'Like what you see? Visit the ' +\n",
              "          '<a target=\"_blank\" href=https://colab.research.google.com/notebooks/data_table.ipynb>data table notebook</a>'\n",
              "          + ' to learn more about interactive tables.';\n",
              "        element.innerHTML = '';\n",
              "        dataTable['output_type'] = 'display_data';\n",
              "        await google.colab.output.renderOutput(dataTable, element);\n",
              "        const docLink = document.createElement('div');\n",
              "        docLink.innerHTML = docLinkHtml;\n",
              "        element.appendChild(docLink);\n",
              "      }\n",
              "    </script>\n",
              "  </div>\n",
              "\n",
              "\n",
              "<div id=\"df-46cb911c-14a3-4867-9636-97ade8f76623\">\n",
              "  <button class=\"colab-df-quickchart\" onclick=\"quickchart('df-46cb911c-14a3-4867-9636-97ade8f76623')\"\n",
              "            title=\"Suggest charts\"\n",
              "            style=\"display:none;\">\n",
              "\n",
              "<svg xmlns=\"http://www.w3.org/2000/svg\" height=\"24px\"viewBox=\"0 0 24 24\"\n",
              "     width=\"24px\">\n",
              "    <g>\n",
              "        <path d=\"M19 3H5c-1.1 0-2 .9-2 2v14c0 1.1.9 2 2 2h14c1.1 0 2-.9 2-2V5c0-1.1-.9-2-2-2zM9 17H7v-7h2v7zm4 0h-2V7h2v10zm4 0h-2v-4h2v4z\"/>\n",
              "    </g>\n",
              "</svg>\n",
              "  </button>\n",
              "\n",
              "<style>\n",
              "  .colab-df-quickchart {\n",
              "      --bg-color: #E8F0FE;\n",
              "      --fill-color: #1967D2;\n",
              "      --hover-bg-color: #E2EBFA;\n",
              "      --hover-fill-color: #174EA6;\n",
              "      --disabled-fill-color: #AAA;\n",
              "      --disabled-bg-color: #DDD;\n",
              "  }\n",
              "\n",
              "  [theme=dark] .colab-df-quickchart {\n",
              "      --bg-color: #3B4455;\n",
              "      --fill-color: #D2E3FC;\n",
              "      --hover-bg-color: #434B5C;\n",
              "      --hover-fill-color: #FFFFFF;\n",
              "      --disabled-bg-color: #3B4455;\n",
              "      --disabled-fill-color: #666;\n",
              "  }\n",
              "\n",
              "  .colab-df-quickchart {\n",
              "    background-color: var(--bg-color);\n",
              "    border: none;\n",
              "    border-radius: 50%;\n",
              "    cursor: pointer;\n",
              "    display: none;\n",
              "    fill: var(--fill-color);\n",
              "    height: 32px;\n",
              "    padding: 0;\n",
              "    width: 32px;\n",
              "  }\n",
              "\n",
              "  .colab-df-quickchart:hover {\n",
              "    background-color: var(--hover-bg-color);\n",
              "    box-shadow: 0 1px 2px rgba(60, 64, 67, 0.3), 0 1px 3px 1px rgba(60, 64, 67, 0.15);\n",
              "    fill: var(--button-hover-fill-color);\n",
              "  }\n",
              "\n",
              "  .colab-df-quickchart-complete:disabled,\n",
              "  .colab-df-quickchart-complete:disabled:hover {\n",
              "    background-color: var(--disabled-bg-color);\n",
              "    fill: var(--disabled-fill-color);\n",
              "    box-shadow: none;\n",
              "  }\n",
              "\n",
              "  .colab-df-spinner {\n",
              "    border: 2px solid var(--fill-color);\n",
              "    border-color: transparent;\n",
              "    border-bottom-color: var(--fill-color);\n",
              "    animation:\n",
              "      spin 1s steps(1) infinite;\n",
              "  }\n",
              "\n",
              "  @keyframes spin {\n",
              "    0% {\n",
              "      border-color: transparent;\n",
              "      border-bottom-color: var(--fill-color);\n",
              "      border-left-color: var(--fill-color);\n",
              "    }\n",
              "    20% {\n",
              "      border-color: transparent;\n",
              "      border-left-color: var(--fill-color);\n",
              "      border-top-color: var(--fill-color);\n",
              "    }\n",
              "    30% {\n",
              "      border-color: transparent;\n",
              "      border-left-color: var(--fill-color);\n",
              "      border-top-color: var(--fill-color);\n",
              "      border-right-color: var(--fill-color);\n",
              "    }\n",
              "    40% {\n",
              "      border-color: transparent;\n",
              "      border-right-color: var(--fill-color);\n",
              "      border-top-color: var(--fill-color);\n",
              "    }\n",
              "    60% {\n",
              "      border-color: transparent;\n",
              "      border-right-color: var(--fill-color);\n",
              "    }\n",
              "    80% {\n",
              "      border-color: transparent;\n",
              "      border-right-color: var(--fill-color);\n",
              "      border-bottom-color: var(--fill-color);\n",
              "    }\n",
              "    90% {\n",
              "      border-color: transparent;\n",
              "      border-bottom-color: var(--fill-color);\n",
              "    }\n",
              "  }\n",
              "</style>\n",
              "\n",
              "  <script>\n",
              "    async function quickchart(key) {\n",
              "      const quickchartButtonEl =\n",
              "        document.querySelector('#' + key + ' button');\n",
              "      quickchartButtonEl.disabled = true;  // To prevent multiple clicks.\n",
              "      quickchartButtonEl.classList.add('colab-df-spinner');\n",
              "      try {\n",
              "        const charts = await google.colab.kernel.invokeFunction(\n",
              "            'suggestCharts', [key], {});\n",
              "      } catch (error) {\n",
              "        console.error('Error during call to suggestCharts:', error);\n",
              "      }\n",
              "      quickchartButtonEl.classList.remove('colab-df-spinner');\n",
              "      quickchartButtonEl.classList.add('colab-df-quickchart-complete');\n",
              "    }\n",
              "    (() => {\n",
              "      let quickchartButtonEl =\n",
              "        document.querySelector('#df-46cb911c-14a3-4867-9636-97ade8f76623 button');\n",
              "      quickchartButtonEl.style.display =\n",
              "        google.colab.kernel.accessAllowed ? 'block' : 'none';\n",
              "    })();\n",
              "  </script>\n",
              "</div>\n",
              "\n",
              "    </div>\n",
              "  </div>\n"
            ]
          },
          "metadata": {},
          "execution_count": 16
        }
      ],
      "source": [
        "new_dataNP[new_dataNP['Documento'].isnull()].head(5)"
      ]
    },
    {
      "cell_type": "markdown",
      "metadata": {
        "id": "rn9Ha2BTGAY8"
      },
      "source": [
        "Se puede deducir que existe una relación entre los pedidos anulados y los valores perdidos en la columna 'Documento' y 'Formas Pago'. Del mismo modo se decide eliminar estas filas, debido a que los pedidos anulados pueden distrorsionar la data para el entrenamiento que se requiere más adelante, pues estos productos podrían no ser la decisión final del cliente, e incluso, una equivocación al ingreso del pedido por parte del mesero encargado. A pesar ello, también se comprueba pidiendo al programa que muestre en un DataFrame, denominado 'null_new_dataNP', los datos vacíos de la columna 'Documento', para después solicitar cuántos valores existen por cada dato repetido en la base de datos en la columna 'Estado'."
      ]
    },
    {
      "cell_type": "code",
      "execution_count": null,
      "metadata": {
        "id": "lNUwpM8wJETl"
      },
      "outputs": [],
      "source": [
        "null_new_dataNP = new_dataNP[new_dataNP['Documento'].isnull()]"
      ]
    },
    {
      "cell_type": "code",
      "execution_count": null,
      "metadata": {
        "colab": {
          "base_uri": "https://localhost:8080/"
        },
        "id": "kBomBSabJKIT",
        "outputId": "a65c5f57-45aa-454a-de24-cd73c73a8470"
      },
      "outputs": [
        {
          "output_type": "execute_result",
          "data": {
            "text/plain": [
              "ANULADO      1870\n",
              "FACTURADO     110\n",
              "Name: Estado, dtype: int64"
            ]
          },
          "metadata": {},
          "execution_count": 18
        }
      ],
      "source": [
        "null_new_dataNP['Estado'].value_counts()"
      ]
    },
    {
      "cell_type": "markdown",
      "metadata": {
        "id": "jsZvBn1pNG5T"
      },
      "source": [
        "De estos valores, se puede decir que:\n",
        "*   El campo 'ANULADO' será desechado debido a lo mencionado anteriormente.\n",
        "*   El campo 'FACTURADO' con Missing Values tienen una cantidad muy pequeña de valores, que se consideran descartables, debido a que constituyen menos del 1% del total de los valores, tal y como se muestra a continuación:\n",
        "\n",
        "\n",
        "\n",
        "\n"
      ]
    },
    {
      "cell_type": "code",
      "source": [
        "total_values = int(new_dataNP.shape[0])\n",
        "null_values_fac = int(null_new_dataNP['Estado'].value_counts()[1])\n",
        "percent_fac = null_values_fac/total_values\n",
        "print('Mientras que los Missing Values de \"FACTURADO\" con respecto al total es de %.6f%%'%percent_fac)"
      ],
      "metadata": {
        "colab": {
          "base_uri": "https://localhost:8080/"
        },
        "id": "1iwZNhs4NQws",
        "outputId": "5a291f02-f38c-4c41-e9d0-980d328d91b5"
      },
      "execution_count": null,
      "outputs": [
        {
          "output_type": "stream",
          "name": "stdout",
          "text": [
            "Mientras que los Missing Values de \"FACTURADO\" con respecto al total es de 0.000206%\n"
          ]
        }
      ]
    },
    {
      "cell_type": "markdown",
      "metadata": {
        "id": "XN3JEEfQUdmt"
      },
      "source": [
        "Es por ello que se eliminan estas filas que contengan los datos mencionados anteriormente, con el siguiente comando:"
      ]
    },
    {
      "cell_type": "code",
      "execution_count": null,
      "metadata": {
        "id": "RRAiwg0sVxqH",
        "colab": {
          "base_uri": "https://localhost:8080/"
        },
        "outputId": "714e2418-0cb6-45e0-8579-f8066a66b7cc"
      },
      "outputs": [
        {
          "output_type": "stream",
          "name": "stderr",
          "text": [
            "/usr/local/lib/python3.10/dist-packages/ipykernel/ipkernel.py:283: DeprecationWarning: `should_run_async` will not call `transform_cell` automatically in the future. Please pass the result to `transformed_cell` argument and any exception that happen during thetransform in `preprocessing_exc_tuple` in IPython 7.17 and above.\n",
            "  and should_run_async(code)\n"
          ]
        }
      ],
      "source": [
        "new_dataNP = dataNP.dropna(subset=['Documento'])"
      ]
    },
    {
      "cell_type": "markdown",
      "metadata": {
        "id": "9iWbn35gXlkI"
      },
      "source": [
        "Se constata de mejor manera los valores perdidos restantes a través del porcentaje de Missing Values, separados por columnas."
      ]
    },
    {
      "cell_type": "code",
      "execution_count": null,
      "metadata": {
        "colab": {
          "base_uri": "https://localhost:8080/"
        },
        "id": "yV2T22uuWy1k",
        "outputId": "71f186cc-16e0-4fdd-a50b-c4577643f8f9"
      },
      "outputs": [
        {
          "output_type": "stream",
          "name": "stdout",
          "text": [
            "Pedido - 0.000000%%\n",
            "Fecha - 0.000000%%\n",
            "Caja - 0.000000%%\n",
            "Usuario - 0.000000%%\n",
            "Estado - 0.000000%%\n",
            "Mozo - 0.000000%%\n",
            "tItem - 0.000000%%\n",
            "Producto - 0.000000%%\n",
            "Cant. - 0.000000%%\n",
            "Sub Total - 0.000000%%\n",
            "Impuesto 1 - 0.000000%%\n",
            "Impuesto 2 - 0.000000%%\n",
            "Total - 0.000000%%\n",
            "Fecha Envio - 0.000023%%\n",
            "Envios - 0.000000%%\n",
            "Documento - 0.000000%%\n",
            "Canal Venta - 0.000000%%\n",
            "Formas Pago - 0.000055%%\n",
            "Grupo - 0.000000%%\n",
            "Sub Grupo - 0.000000%%\n",
            "Tipo de Servicio - 0.000000%%\n"
          ]
        }
      ],
      "source": [
        "for file in new_dataNP.columns:\n",
        "    percent_missing = np.mean(new_dataNP[file].isnull())\n",
        "    print('{} - {}%'.format(file, '%.6f%%'%percent_missing))"
      ]
    },
    {
      "cell_type": "markdown",
      "metadata": {
        "id": "XddKRKXeh8va"
      },
      "source": [
        "De estos datos se puede rescatar que aún existen valores perdidos en 'Formas Pago' y 'Fecha Envio', aunque corresponde a menos de 1% del total de datos. Se hará una revisión para verificar de qué constan estos valores y si tienen alguna relación con valores que podrían ser descartados."
      ]
    },
    {
      "cell_type": "code",
      "execution_count": null,
      "metadata": {
        "colab": {
          "base_uri": "https://localhost:8080/",
          "height": 446
        },
        "id": "uvsK-CQxhdMg",
        "outputId": "dd01f3ae-94aa-4a3c-aee0-6757a79ee022"
      },
      "outputs": [
        {
          "output_type": "stream",
          "name": "stderr",
          "text": [
            "/usr/local/lib/python3.10/dist-packages/ipykernel/ipkernel.py:283: DeprecationWarning: `should_run_async` will not call `transform_cell` automatically in the future. Please pass the result to `transformed_cell` argument and any exception that happen during thetransform in `preprocessing_exc_tuple` in IPython 7.17 and above.\n",
            "  and should_run_async(code)\n"
          ]
        },
        {
          "output_type": "execute_result",
          "data": {
            "text/plain": [
              "0          Pedido                Fecha Caja    Usuario     Estado  \\\n",
              "4105   2300000361  2023-01-02 20:31:00  008  JILLESCAS  FACTURADO   \n",
              "4106   2300000361  2023-01-02 20:31:00  008  JILLESCAS  FACTURADO   \n",
              "4107   2300000361  2023-01-02 20:31:00  008  JILLESCAS  FACTURADO   \n",
              "22336  2300002063  2023-01-10 22:07:00  008      LSIRA  FACTURADO   \n",
              "28629  2300002635  2023-01-13 21:23:00  008   MSEGOVIA  FACTURADO   \n",
              "\n",
              "0                 Mozo tItem                Producto Cant.  Sub Total  ...  \\\n",
              "4105   ANDREW GRANADOS   016            MADURO FRITO     1   2.213115  ...   \n",
              "4106   ANDREW GRANADOS   017               PATACONES     1    3.52459  ...   \n",
              "4107   ANDREW GRANADOS   018     EXTRA QUESO CRIOLLO     1   0.983607  ...   \n",
              "22336      IVAN MACIAS   003  6426 BIFE ANCHO NP RES  0.33     9.2994  ...   \n",
              "28629    EMANUEL PETAO   001  6428 ROAST BEEF NP RES   0.4  10.469091  ...   \n",
              "\n",
              "0     Impuesto 2     Total          Fecha Envio Envios         Documento  \\\n",
              "4105    0.221311       2.7  2023-01-02 19:25:00      1  0001007000000032   \n",
              "4106    0.352459       4.3  2023-01-02 19:25:00      1  0001007000000032   \n",
              "4107    0.098361       1.2  2023-01-02 19:25:00      1  0001007000000032   \n",
              "22336    0.92994  10.22934  2023-01-10 20:40:00      1  0001007000000033   \n",
              "28629   1.046909    11.516  2023-01-13 21:23:34      1  0001007000000035   \n",
              "\n",
              "0      Canal Venta Formas Pago      Grupo Sub Grupo Tipo de Servicio  \n",
              "4105   En el Local         NaN  ALIMENTOS      MENU         ENTRADAS  \n",
              "4106   En el Local         NaN  ALIMENTOS      MENU         ENTRADAS  \n",
              "4107   En el Local         NaN  ALIMENTOS      MENU     GUARNICIONES  \n",
              "22336  En el Local         NaN  ALIMENTOS  PARRILLA              RES  \n",
              "28629  En el Local         NaN  ALIMENTOS  PARRILLA              RES  \n",
              "\n",
              "[5 rows x 21 columns]"
            ],
            "text/html": [
              "\n",
              "  <div id=\"df-bf46dabb-f0f5-4b91-8dca-211a97d1e5b6\" class=\"colab-df-container\">\n",
              "    <div>\n",
              "<style scoped>\n",
              "    .dataframe tbody tr th:only-of-type {\n",
              "        vertical-align: middle;\n",
              "    }\n",
              "\n",
              "    .dataframe tbody tr th {\n",
              "        vertical-align: top;\n",
              "    }\n",
              "\n",
              "    .dataframe thead th {\n",
              "        text-align: right;\n",
              "    }\n",
              "</style>\n",
              "<table border=\"1\" class=\"dataframe\">\n",
              "  <thead>\n",
              "    <tr style=\"text-align: right;\">\n",
              "      <th></th>\n",
              "      <th>Pedido</th>\n",
              "      <th>Fecha</th>\n",
              "      <th>Caja</th>\n",
              "      <th>Usuario</th>\n",
              "      <th>Estado</th>\n",
              "      <th>Mozo</th>\n",
              "      <th>tItem</th>\n",
              "      <th>Producto</th>\n",
              "      <th>Cant.</th>\n",
              "      <th>Sub Total</th>\n",
              "      <th>...</th>\n",
              "      <th>Impuesto 2</th>\n",
              "      <th>Total</th>\n",
              "      <th>Fecha Envio</th>\n",
              "      <th>Envios</th>\n",
              "      <th>Documento</th>\n",
              "      <th>Canal Venta</th>\n",
              "      <th>Formas Pago</th>\n",
              "      <th>Grupo</th>\n",
              "      <th>Sub Grupo</th>\n",
              "      <th>Tipo de Servicio</th>\n",
              "    </tr>\n",
              "  </thead>\n",
              "  <tbody>\n",
              "    <tr>\n",
              "      <th>4105</th>\n",
              "      <td>2300000361</td>\n",
              "      <td>2023-01-02 20:31:00</td>\n",
              "      <td>008</td>\n",
              "      <td>JILLESCAS</td>\n",
              "      <td>FACTURADO</td>\n",
              "      <td>ANDREW GRANADOS</td>\n",
              "      <td>016</td>\n",
              "      <td>MADURO FRITO</td>\n",
              "      <td>1</td>\n",
              "      <td>2.213115</td>\n",
              "      <td>...</td>\n",
              "      <td>0.221311</td>\n",
              "      <td>2.7</td>\n",
              "      <td>2023-01-02 19:25:00</td>\n",
              "      <td>1</td>\n",
              "      <td>0001007000000032</td>\n",
              "      <td>En el Local</td>\n",
              "      <td>NaN</td>\n",
              "      <td>ALIMENTOS</td>\n",
              "      <td>MENU</td>\n",
              "      <td>ENTRADAS</td>\n",
              "    </tr>\n",
              "    <tr>\n",
              "      <th>4106</th>\n",
              "      <td>2300000361</td>\n",
              "      <td>2023-01-02 20:31:00</td>\n",
              "      <td>008</td>\n",
              "      <td>JILLESCAS</td>\n",
              "      <td>FACTURADO</td>\n",
              "      <td>ANDREW GRANADOS</td>\n",
              "      <td>017</td>\n",
              "      <td>PATACONES</td>\n",
              "      <td>1</td>\n",
              "      <td>3.52459</td>\n",
              "      <td>...</td>\n",
              "      <td>0.352459</td>\n",
              "      <td>4.3</td>\n",
              "      <td>2023-01-02 19:25:00</td>\n",
              "      <td>1</td>\n",
              "      <td>0001007000000032</td>\n",
              "      <td>En el Local</td>\n",
              "      <td>NaN</td>\n",
              "      <td>ALIMENTOS</td>\n",
              "      <td>MENU</td>\n",
              "      <td>ENTRADAS</td>\n",
              "    </tr>\n",
              "    <tr>\n",
              "      <th>4107</th>\n",
              "      <td>2300000361</td>\n",
              "      <td>2023-01-02 20:31:00</td>\n",
              "      <td>008</td>\n",
              "      <td>JILLESCAS</td>\n",
              "      <td>FACTURADO</td>\n",
              "      <td>ANDREW GRANADOS</td>\n",
              "      <td>018</td>\n",
              "      <td>EXTRA QUESO CRIOLLO</td>\n",
              "      <td>1</td>\n",
              "      <td>0.983607</td>\n",
              "      <td>...</td>\n",
              "      <td>0.098361</td>\n",
              "      <td>1.2</td>\n",
              "      <td>2023-01-02 19:25:00</td>\n",
              "      <td>1</td>\n",
              "      <td>0001007000000032</td>\n",
              "      <td>En el Local</td>\n",
              "      <td>NaN</td>\n",
              "      <td>ALIMENTOS</td>\n",
              "      <td>MENU</td>\n",
              "      <td>GUARNICIONES</td>\n",
              "    </tr>\n",
              "    <tr>\n",
              "      <th>22336</th>\n",
              "      <td>2300002063</td>\n",
              "      <td>2023-01-10 22:07:00</td>\n",
              "      <td>008</td>\n",
              "      <td>LSIRA</td>\n",
              "      <td>FACTURADO</td>\n",
              "      <td>IVAN MACIAS</td>\n",
              "      <td>003</td>\n",
              "      <td>6426 BIFE ANCHO NP RES</td>\n",
              "      <td>0.33</td>\n",
              "      <td>9.2994</td>\n",
              "      <td>...</td>\n",
              "      <td>0.92994</td>\n",
              "      <td>10.22934</td>\n",
              "      <td>2023-01-10 20:40:00</td>\n",
              "      <td>1</td>\n",
              "      <td>0001007000000033</td>\n",
              "      <td>En el Local</td>\n",
              "      <td>NaN</td>\n",
              "      <td>ALIMENTOS</td>\n",
              "      <td>PARRILLA</td>\n",
              "      <td>RES</td>\n",
              "    </tr>\n",
              "    <tr>\n",
              "      <th>28629</th>\n",
              "      <td>2300002635</td>\n",
              "      <td>2023-01-13 21:23:00</td>\n",
              "      <td>008</td>\n",
              "      <td>MSEGOVIA</td>\n",
              "      <td>FACTURADO</td>\n",
              "      <td>EMANUEL PETAO</td>\n",
              "      <td>001</td>\n",
              "      <td>6428 ROAST BEEF NP RES</td>\n",
              "      <td>0.4</td>\n",
              "      <td>10.469091</td>\n",
              "      <td>...</td>\n",
              "      <td>1.046909</td>\n",
              "      <td>11.516</td>\n",
              "      <td>2023-01-13 21:23:34</td>\n",
              "      <td>1</td>\n",
              "      <td>0001007000000035</td>\n",
              "      <td>En el Local</td>\n",
              "      <td>NaN</td>\n",
              "      <td>ALIMENTOS</td>\n",
              "      <td>PARRILLA</td>\n",
              "      <td>RES</td>\n",
              "    </tr>\n",
              "  </tbody>\n",
              "</table>\n",
              "<p>5 rows × 21 columns</p>\n",
              "</div>\n",
              "    <div class=\"colab-df-buttons\">\n",
              "\n",
              "  <div class=\"colab-df-container\">\n",
              "    <button class=\"colab-df-convert\" onclick=\"convertToInteractive('df-bf46dabb-f0f5-4b91-8dca-211a97d1e5b6')\"\n",
              "            title=\"Convert this dataframe to an interactive table.\"\n",
              "            style=\"display:none;\">\n",
              "\n",
              "  <svg xmlns=\"http://www.w3.org/2000/svg\" height=\"24px\" viewBox=\"0 -960 960 960\">\n",
              "    <path d=\"M120-120v-720h720v720H120Zm60-500h600v-160H180v160Zm220 220h160v-160H400v160Zm0 220h160v-160H400v160ZM180-400h160v-160H180v160Zm440 0h160v-160H620v160ZM180-180h160v-160H180v160Zm440 0h160v-160H620v160Z\"/>\n",
              "  </svg>\n",
              "    </button>\n",
              "\n",
              "  <style>\n",
              "    .colab-df-container {\n",
              "      display:flex;\n",
              "      gap: 12px;\n",
              "    }\n",
              "\n",
              "    .colab-df-convert {\n",
              "      background-color: #E8F0FE;\n",
              "      border: none;\n",
              "      border-radius: 50%;\n",
              "      cursor: pointer;\n",
              "      display: none;\n",
              "      fill: #1967D2;\n",
              "      height: 32px;\n",
              "      padding: 0 0 0 0;\n",
              "      width: 32px;\n",
              "    }\n",
              "\n",
              "    .colab-df-convert:hover {\n",
              "      background-color: #E2EBFA;\n",
              "      box-shadow: 0px 1px 2px rgba(60, 64, 67, 0.3), 0px 1px 3px 1px rgba(60, 64, 67, 0.15);\n",
              "      fill: #174EA6;\n",
              "    }\n",
              "\n",
              "    .colab-df-buttons div {\n",
              "      margin-bottom: 4px;\n",
              "    }\n",
              "\n",
              "    [theme=dark] .colab-df-convert {\n",
              "      background-color: #3B4455;\n",
              "      fill: #D2E3FC;\n",
              "    }\n",
              "\n",
              "    [theme=dark] .colab-df-convert:hover {\n",
              "      background-color: #434B5C;\n",
              "      box-shadow: 0px 1px 3px 1px rgba(0, 0, 0, 0.15);\n",
              "      filter: drop-shadow(0px 1px 2px rgba(0, 0, 0, 0.3));\n",
              "      fill: #FFFFFF;\n",
              "    }\n",
              "  </style>\n",
              "\n",
              "    <script>\n",
              "      const buttonEl =\n",
              "        document.querySelector('#df-bf46dabb-f0f5-4b91-8dca-211a97d1e5b6 button.colab-df-convert');\n",
              "      buttonEl.style.display =\n",
              "        google.colab.kernel.accessAllowed ? 'block' : 'none';\n",
              "\n",
              "      async function convertToInteractive(key) {\n",
              "        const element = document.querySelector('#df-bf46dabb-f0f5-4b91-8dca-211a97d1e5b6');\n",
              "        const dataTable =\n",
              "          await google.colab.kernel.invokeFunction('convertToInteractive',\n",
              "                                                    [key], {});\n",
              "        if (!dataTable) return;\n",
              "\n",
              "        const docLinkHtml = 'Like what you see? Visit the ' +\n",
              "          '<a target=\"_blank\" href=https://colab.research.google.com/notebooks/data_table.ipynb>data table notebook</a>'\n",
              "          + ' to learn more about interactive tables.';\n",
              "        element.innerHTML = '';\n",
              "        dataTable['output_type'] = 'display_data';\n",
              "        await google.colab.output.renderOutput(dataTable, element);\n",
              "        const docLink = document.createElement('div');\n",
              "        docLink.innerHTML = docLinkHtml;\n",
              "        element.appendChild(docLink);\n",
              "      }\n",
              "    </script>\n",
              "  </div>\n",
              "\n",
              "\n",
              "<div id=\"df-e2d7ef75-7b97-40d3-b553-e2b18eb098e0\">\n",
              "  <button class=\"colab-df-quickchart\" onclick=\"quickchart('df-e2d7ef75-7b97-40d3-b553-e2b18eb098e0')\"\n",
              "            title=\"Suggest charts\"\n",
              "            style=\"display:none;\">\n",
              "\n",
              "<svg xmlns=\"http://www.w3.org/2000/svg\" height=\"24px\"viewBox=\"0 0 24 24\"\n",
              "     width=\"24px\">\n",
              "    <g>\n",
              "        <path d=\"M19 3H5c-1.1 0-2 .9-2 2v14c0 1.1.9 2 2 2h14c1.1 0 2-.9 2-2V5c0-1.1-.9-2-2-2zM9 17H7v-7h2v7zm4 0h-2V7h2v10zm4 0h-2v-4h2v4z\"/>\n",
              "    </g>\n",
              "</svg>\n",
              "  </button>\n",
              "\n",
              "<style>\n",
              "  .colab-df-quickchart {\n",
              "      --bg-color: #E8F0FE;\n",
              "      --fill-color: #1967D2;\n",
              "      --hover-bg-color: #E2EBFA;\n",
              "      --hover-fill-color: #174EA6;\n",
              "      --disabled-fill-color: #AAA;\n",
              "      --disabled-bg-color: #DDD;\n",
              "  }\n",
              "\n",
              "  [theme=dark] .colab-df-quickchart {\n",
              "      --bg-color: #3B4455;\n",
              "      --fill-color: #D2E3FC;\n",
              "      --hover-bg-color: #434B5C;\n",
              "      --hover-fill-color: #FFFFFF;\n",
              "      --disabled-bg-color: #3B4455;\n",
              "      --disabled-fill-color: #666;\n",
              "  }\n",
              "\n",
              "  .colab-df-quickchart {\n",
              "    background-color: var(--bg-color);\n",
              "    border: none;\n",
              "    border-radius: 50%;\n",
              "    cursor: pointer;\n",
              "    display: none;\n",
              "    fill: var(--fill-color);\n",
              "    height: 32px;\n",
              "    padding: 0;\n",
              "    width: 32px;\n",
              "  }\n",
              "\n",
              "  .colab-df-quickchart:hover {\n",
              "    background-color: var(--hover-bg-color);\n",
              "    box-shadow: 0 1px 2px rgba(60, 64, 67, 0.3), 0 1px 3px 1px rgba(60, 64, 67, 0.15);\n",
              "    fill: var(--button-hover-fill-color);\n",
              "  }\n",
              "\n",
              "  .colab-df-quickchart-complete:disabled,\n",
              "  .colab-df-quickchart-complete:disabled:hover {\n",
              "    background-color: var(--disabled-bg-color);\n",
              "    fill: var(--disabled-fill-color);\n",
              "    box-shadow: none;\n",
              "  }\n",
              "\n",
              "  .colab-df-spinner {\n",
              "    border: 2px solid var(--fill-color);\n",
              "    border-color: transparent;\n",
              "    border-bottom-color: var(--fill-color);\n",
              "    animation:\n",
              "      spin 1s steps(1) infinite;\n",
              "  }\n",
              "\n",
              "  @keyframes spin {\n",
              "    0% {\n",
              "      border-color: transparent;\n",
              "      border-bottom-color: var(--fill-color);\n",
              "      border-left-color: var(--fill-color);\n",
              "    }\n",
              "    20% {\n",
              "      border-color: transparent;\n",
              "      border-left-color: var(--fill-color);\n",
              "      border-top-color: var(--fill-color);\n",
              "    }\n",
              "    30% {\n",
              "      border-color: transparent;\n",
              "      border-left-color: var(--fill-color);\n",
              "      border-top-color: var(--fill-color);\n",
              "      border-right-color: var(--fill-color);\n",
              "    }\n",
              "    40% {\n",
              "      border-color: transparent;\n",
              "      border-right-color: var(--fill-color);\n",
              "      border-top-color: var(--fill-color);\n",
              "    }\n",
              "    60% {\n",
              "      border-color: transparent;\n",
              "      border-right-color: var(--fill-color);\n",
              "    }\n",
              "    80% {\n",
              "      border-color: transparent;\n",
              "      border-right-color: var(--fill-color);\n",
              "      border-bottom-color: var(--fill-color);\n",
              "    }\n",
              "    90% {\n",
              "      border-color: transparent;\n",
              "      border-bottom-color: var(--fill-color);\n",
              "    }\n",
              "  }\n",
              "</style>\n",
              "\n",
              "  <script>\n",
              "    async function quickchart(key) {\n",
              "      const quickchartButtonEl =\n",
              "        document.querySelector('#' + key + ' button');\n",
              "      quickchartButtonEl.disabled = true;  // To prevent multiple clicks.\n",
              "      quickchartButtonEl.classList.add('colab-df-spinner');\n",
              "      try {\n",
              "        const charts = await google.colab.kernel.invokeFunction(\n",
              "            'suggestCharts', [key], {});\n",
              "      } catch (error) {\n",
              "        console.error('Error during call to suggestCharts:', error);\n",
              "      }\n",
              "      quickchartButtonEl.classList.remove('colab-df-spinner');\n",
              "      quickchartButtonEl.classList.add('colab-df-quickchart-complete');\n",
              "    }\n",
              "    (() => {\n",
              "      let quickchartButtonEl =\n",
              "        document.querySelector('#df-e2d7ef75-7b97-40d3-b553-e2b18eb098e0 button');\n",
              "      quickchartButtonEl.style.display =\n",
              "        google.colab.kernel.accessAllowed ? 'block' : 'none';\n",
              "    })();\n",
              "  </script>\n",
              "</div>\n",
              "\n",
              "    </div>\n",
              "  </div>\n"
            ],
            "application/vnd.google.colaboratory.intrinsic+json": {
              "type": "dataframe",
              "variable_name": "null_fp_new_dataNP"
            }
          },
          "metadata": {},
          "execution_count": 11
        }
      ],
      "source": [
        "null_fp_new_dataNP = new_dataNP[new_dataNP['Formas Pago'].isnull()]\n",
        "#null_fp_new_dataNP.iloc[:, [4, 17, 20]]\n",
        "null_fp_new_dataNP.head(5)"
      ]
    },
    {
      "cell_type": "code",
      "source": [
        "new_dataNP = new_dataNP.dropna(subset=['Formas Pago'])\n",
        "new_dataNP = new_dataNP.dropna(subset=['Fecha Envio'])"
      ],
      "metadata": {
        "id": "3imR1o3CyP2T",
        "colab": {
          "base_uri": "https://localhost:8080/"
        },
        "outputId": "efb3820d-56f6-4606-8fdb-22aad99a0469"
      },
      "execution_count": null,
      "outputs": [
        {
          "output_type": "stream",
          "name": "stderr",
          "text": [
            "/usr/local/lib/python3.10/dist-packages/ipykernel/ipkernel.py:283: DeprecationWarning: `should_run_async` will not call `transform_cell` automatically in the future. Please pass the result to `transformed_cell` argument and any exception that happen during thetransform in `preprocessing_exc_tuple` in IPython 7.17 and above.\n",
            "  and should_run_async(code)\n"
          ]
        }
      ]
    },
    {
      "cell_type": "code",
      "source": [
        "# Calcula el número total de elementos en el DataFrame\n",
        "total = new_dataNP.size\n",
        "\n",
        "# Calcula el número de elementos faltantes en el DataFrame\n",
        "missing = new_dataNP.isnull().sum().sum()\n",
        "\n",
        "# Calcula el porcentaje de datos faltantes\n",
        "porcentaje_faltante = round((missing / total) * 100,2)\n",
        "\n",
        "print(f'El porcentaje de datos faltantes es: {porcentaje_faltante}%')"
      ],
      "metadata": {
        "colab": {
          "base_uri": "https://localhost:8080/"
        },
        "id": "ivDmC06NzN04",
        "outputId": "7a26ef13-f0e8-40e7-e76d-20f1ba16ed2c"
      },
      "execution_count": null,
      "outputs": [
        {
          "output_type": "stream",
          "name": "stderr",
          "text": [
            "/usr/local/lib/python3.10/dist-packages/ipykernel/ipkernel.py:283: DeprecationWarning: `should_run_async` will not call `transform_cell` automatically in the future. Please pass the result to `transformed_cell` argument and any exception that happen during thetransform in `preprocessing_exc_tuple` in IPython 7.17 and above.\n",
            "  and should_run_async(code)\n"
          ]
        },
        {
          "output_type": "stream",
          "name": "stdout",
          "text": [
            "El porcentaje de datos faltantes es: 0.0%\n"
          ]
        }
      ]
    },
    {
      "cell_type": "markdown",
      "metadata": {
        "id": "snkP_prFxJ6i"
      },
      "source": [
        "## Transformación de los datos"
      ]
    },
    {
      "cell_type": "markdown",
      "metadata": {
        "id": "sSYdzg08xTMv"
      },
      "source": [
        "Para esta sección se transforman los datos, de ser necesario. En este caso, se decide conservar solo la fecha de la columna 'Fecha' que consta del dato de la fecha y la hora del pedido. Esto para llevar trazabilidad de los pedidos y, posteriormente, tomar datos de volumen de ventas en fines de semana y días laborables. En primer lugar, se vuelve a nombrar a la columna que se va a separar."
      ]
    },
    {
      "cell_type": "code",
      "execution_count": null,
      "metadata": {
        "id": "1Xxh2pY776GA",
        "colab": {
          "base_uri": "https://localhost:8080/"
        },
        "outputId": "1cecbe4f-ae27-4512-fd87-75c4965348ef"
      },
      "outputs": [
        {
          "output_type": "stream",
          "name": "stderr",
          "text": [
            "/usr/local/lib/python3.10/dist-packages/ipykernel/ipkernel.py:283: DeprecationWarning: `should_run_async` will not call `transform_cell` automatically in the future. Please pass the result to `transformed_cell` argument and any exception that happen during thetransform in `preprocessing_exc_tuple` in IPython 7.17 and above.\n",
            "  and should_run_async(code)\n"
          ]
        }
      ],
      "source": [
        "new_dataNP = new_dataNP.rename(columns={'Fecha': 'Fecha_hora'})"
      ]
    },
    {
      "cell_type": "markdown",
      "metadata": {
        "id": "ypjmUzebx-98"
      },
      "source": [
        "Seguido a ello, se separan los términos para extraer solo el valor deseado."
      ]
    },
    {
      "cell_type": "code",
      "execution_count": null,
      "metadata": {
        "colab": {
          "base_uri": "https://localhost:8080/",
          "height": 513
        },
        "id": "DSxIGJa061c3",
        "outputId": "9bdc26de-6f11-4ddc-b0f1-33c0eeb54f0b"
      },
      "outputs": [
        {
          "output_type": "stream",
          "name": "stderr",
          "text": [
            "/usr/local/lib/python3.10/dist-packages/ipykernel/ipkernel.py:283: DeprecationWarning: `should_run_async` will not call `transform_cell` automatically in the future. Please pass the result to `transformed_cell` argument and any exception that happen during thetransform in `preprocessing_exc_tuple` in IPython 7.17 and above.\n",
            "  and should_run_async(code)\n",
            "<ipython-input-15-61c5d6941e76>:1: FutureWarning: In a future version of pandas all arguments of StringMethods.split except for the argument 'pat' will be keyword-only.\n",
            "  new_dataNP[['Fecha', 'Hora']] = new_dataNP['Fecha_hora'].str.split(' ', 1, expand=True)\n"
          ]
        },
        {
          "output_type": "execute_result",
          "data": {
            "text/plain": [
              "0               Fecha_hora       Fecha      Hora\n",
              "1      2023-01-01 12:39:00  2023-01-01  12:39:00\n",
              "2      2023-01-01 12:39:00  2023-01-01  12:39:00\n",
              "3      2023-01-01 12:39:00  2023-01-01  12:39:00\n",
              "4      2023-01-01 12:39:00  2023-01-01  12:39:00\n",
              "5      2023-01-01 12:39:00  2023-01-01  12:39:00\n",
              "...                    ...         ...       ...\n",
              "42725  2023-12-31 17:08:00  2023-12-31  17:08:00\n",
              "42726  2023-12-31 17:08:00  2023-12-31  17:08:00\n",
              "42727  2023-12-31 17:08:00  2023-12-31  17:08:00\n",
              "42729  2023-12-31 17:12:00  2023-12-31  17:12:00\n",
              "42730  2023-12-31 17:12:00  2023-12-31  17:12:00\n",
              "\n",
              "[531802 rows x 3 columns]"
            ],
            "text/html": [
              "\n",
              "  <div id=\"df-e9e70e59-498a-400b-a9a3-50a8a2c6dabc\" class=\"colab-df-container\">\n",
              "    <div>\n",
              "<style scoped>\n",
              "    .dataframe tbody tr th:only-of-type {\n",
              "        vertical-align: middle;\n",
              "    }\n",
              "\n",
              "    .dataframe tbody tr th {\n",
              "        vertical-align: top;\n",
              "    }\n",
              "\n",
              "    .dataframe thead th {\n",
              "        text-align: right;\n",
              "    }\n",
              "</style>\n",
              "<table border=\"1\" class=\"dataframe\">\n",
              "  <thead>\n",
              "    <tr style=\"text-align: right;\">\n",
              "      <th></th>\n",
              "      <th>Fecha_hora</th>\n",
              "      <th>Fecha</th>\n",
              "      <th>Hora</th>\n",
              "    </tr>\n",
              "  </thead>\n",
              "  <tbody>\n",
              "    <tr>\n",
              "      <th>1</th>\n",
              "      <td>2023-01-01 12:39:00</td>\n",
              "      <td>2023-01-01</td>\n",
              "      <td>12:39:00</td>\n",
              "    </tr>\n",
              "    <tr>\n",
              "      <th>2</th>\n",
              "      <td>2023-01-01 12:39:00</td>\n",
              "      <td>2023-01-01</td>\n",
              "      <td>12:39:00</td>\n",
              "    </tr>\n",
              "    <tr>\n",
              "      <th>3</th>\n",
              "      <td>2023-01-01 12:39:00</td>\n",
              "      <td>2023-01-01</td>\n",
              "      <td>12:39:00</td>\n",
              "    </tr>\n",
              "    <tr>\n",
              "      <th>4</th>\n",
              "      <td>2023-01-01 12:39:00</td>\n",
              "      <td>2023-01-01</td>\n",
              "      <td>12:39:00</td>\n",
              "    </tr>\n",
              "    <tr>\n",
              "      <th>5</th>\n",
              "      <td>2023-01-01 12:39:00</td>\n",
              "      <td>2023-01-01</td>\n",
              "      <td>12:39:00</td>\n",
              "    </tr>\n",
              "    <tr>\n",
              "      <th>...</th>\n",
              "      <td>...</td>\n",
              "      <td>...</td>\n",
              "      <td>...</td>\n",
              "    </tr>\n",
              "    <tr>\n",
              "      <th>42725</th>\n",
              "      <td>2023-12-31 17:08:00</td>\n",
              "      <td>2023-12-31</td>\n",
              "      <td>17:08:00</td>\n",
              "    </tr>\n",
              "    <tr>\n",
              "      <th>42726</th>\n",
              "      <td>2023-12-31 17:08:00</td>\n",
              "      <td>2023-12-31</td>\n",
              "      <td>17:08:00</td>\n",
              "    </tr>\n",
              "    <tr>\n",
              "      <th>42727</th>\n",
              "      <td>2023-12-31 17:08:00</td>\n",
              "      <td>2023-12-31</td>\n",
              "      <td>17:08:00</td>\n",
              "    </tr>\n",
              "    <tr>\n",
              "      <th>42729</th>\n",
              "      <td>2023-12-31 17:12:00</td>\n",
              "      <td>2023-12-31</td>\n",
              "      <td>17:12:00</td>\n",
              "    </tr>\n",
              "    <tr>\n",
              "      <th>42730</th>\n",
              "      <td>2023-12-31 17:12:00</td>\n",
              "      <td>2023-12-31</td>\n",
              "      <td>17:12:00</td>\n",
              "    </tr>\n",
              "  </tbody>\n",
              "</table>\n",
              "<p>531802 rows × 3 columns</p>\n",
              "</div>\n",
              "    <div class=\"colab-df-buttons\">\n",
              "\n",
              "  <div class=\"colab-df-container\">\n",
              "    <button class=\"colab-df-convert\" onclick=\"convertToInteractive('df-e9e70e59-498a-400b-a9a3-50a8a2c6dabc')\"\n",
              "            title=\"Convert this dataframe to an interactive table.\"\n",
              "            style=\"display:none;\">\n",
              "\n",
              "  <svg xmlns=\"http://www.w3.org/2000/svg\" height=\"24px\" viewBox=\"0 -960 960 960\">\n",
              "    <path d=\"M120-120v-720h720v720H120Zm60-500h600v-160H180v160Zm220 220h160v-160H400v160Zm0 220h160v-160H400v160ZM180-400h160v-160H180v160Zm440 0h160v-160H620v160ZM180-180h160v-160H180v160Zm440 0h160v-160H620v160Z\"/>\n",
              "  </svg>\n",
              "    </button>\n",
              "\n",
              "  <style>\n",
              "    .colab-df-container {\n",
              "      display:flex;\n",
              "      gap: 12px;\n",
              "    }\n",
              "\n",
              "    .colab-df-convert {\n",
              "      background-color: #E8F0FE;\n",
              "      border: none;\n",
              "      border-radius: 50%;\n",
              "      cursor: pointer;\n",
              "      display: none;\n",
              "      fill: #1967D2;\n",
              "      height: 32px;\n",
              "      padding: 0 0 0 0;\n",
              "      width: 32px;\n",
              "    }\n",
              "\n",
              "    .colab-df-convert:hover {\n",
              "      background-color: #E2EBFA;\n",
              "      box-shadow: 0px 1px 2px rgba(60, 64, 67, 0.3), 0px 1px 3px 1px rgba(60, 64, 67, 0.15);\n",
              "      fill: #174EA6;\n",
              "    }\n",
              "\n",
              "    .colab-df-buttons div {\n",
              "      margin-bottom: 4px;\n",
              "    }\n",
              "\n",
              "    [theme=dark] .colab-df-convert {\n",
              "      background-color: #3B4455;\n",
              "      fill: #D2E3FC;\n",
              "    }\n",
              "\n",
              "    [theme=dark] .colab-df-convert:hover {\n",
              "      background-color: #434B5C;\n",
              "      box-shadow: 0px 1px 3px 1px rgba(0, 0, 0, 0.15);\n",
              "      filter: drop-shadow(0px 1px 2px rgba(0, 0, 0, 0.3));\n",
              "      fill: #FFFFFF;\n",
              "    }\n",
              "  </style>\n",
              "\n",
              "    <script>\n",
              "      const buttonEl =\n",
              "        document.querySelector('#df-e9e70e59-498a-400b-a9a3-50a8a2c6dabc button.colab-df-convert');\n",
              "      buttonEl.style.display =\n",
              "        google.colab.kernel.accessAllowed ? 'block' : 'none';\n",
              "\n",
              "      async function convertToInteractive(key) {\n",
              "        const element = document.querySelector('#df-e9e70e59-498a-400b-a9a3-50a8a2c6dabc');\n",
              "        const dataTable =\n",
              "          await google.colab.kernel.invokeFunction('convertToInteractive',\n",
              "                                                    [key], {});\n",
              "        if (!dataTable) return;\n",
              "\n",
              "        const docLinkHtml = 'Like what you see? Visit the ' +\n",
              "          '<a target=\"_blank\" href=https://colab.research.google.com/notebooks/data_table.ipynb>data table notebook</a>'\n",
              "          + ' to learn more about interactive tables.';\n",
              "        element.innerHTML = '';\n",
              "        dataTable['output_type'] = 'display_data';\n",
              "        await google.colab.output.renderOutput(dataTable, element);\n",
              "        const docLink = document.createElement('div');\n",
              "        docLink.innerHTML = docLinkHtml;\n",
              "        element.appendChild(docLink);\n",
              "      }\n",
              "    </script>\n",
              "  </div>\n",
              "\n",
              "\n",
              "<div id=\"df-5c268066-0cbf-4a62-8b74-01150264c804\">\n",
              "  <button class=\"colab-df-quickchart\" onclick=\"quickchart('df-5c268066-0cbf-4a62-8b74-01150264c804')\"\n",
              "            title=\"Suggest charts\"\n",
              "            style=\"display:none;\">\n",
              "\n",
              "<svg xmlns=\"http://www.w3.org/2000/svg\" height=\"24px\"viewBox=\"0 0 24 24\"\n",
              "     width=\"24px\">\n",
              "    <g>\n",
              "        <path d=\"M19 3H5c-1.1 0-2 .9-2 2v14c0 1.1.9 2 2 2h14c1.1 0 2-.9 2-2V5c0-1.1-.9-2-2-2zM9 17H7v-7h2v7zm4 0h-2V7h2v10zm4 0h-2v-4h2v4z\"/>\n",
              "    </g>\n",
              "</svg>\n",
              "  </button>\n",
              "\n",
              "<style>\n",
              "  .colab-df-quickchart {\n",
              "      --bg-color: #E8F0FE;\n",
              "      --fill-color: #1967D2;\n",
              "      --hover-bg-color: #E2EBFA;\n",
              "      --hover-fill-color: #174EA6;\n",
              "      --disabled-fill-color: #AAA;\n",
              "      --disabled-bg-color: #DDD;\n",
              "  }\n",
              "\n",
              "  [theme=dark] .colab-df-quickchart {\n",
              "      --bg-color: #3B4455;\n",
              "      --fill-color: #D2E3FC;\n",
              "      --hover-bg-color: #434B5C;\n",
              "      --hover-fill-color: #FFFFFF;\n",
              "      --disabled-bg-color: #3B4455;\n",
              "      --disabled-fill-color: #666;\n",
              "  }\n",
              "\n",
              "  .colab-df-quickchart {\n",
              "    background-color: var(--bg-color);\n",
              "    border: none;\n",
              "    border-radius: 50%;\n",
              "    cursor: pointer;\n",
              "    display: none;\n",
              "    fill: var(--fill-color);\n",
              "    height: 32px;\n",
              "    padding: 0;\n",
              "    width: 32px;\n",
              "  }\n",
              "\n",
              "  .colab-df-quickchart:hover {\n",
              "    background-color: var(--hover-bg-color);\n",
              "    box-shadow: 0 1px 2px rgba(60, 64, 67, 0.3), 0 1px 3px 1px rgba(60, 64, 67, 0.15);\n",
              "    fill: var(--button-hover-fill-color);\n",
              "  }\n",
              "\n",
              "  .colab-df-quickchart-complete:disabled,\n",
              "  .colab-df-quickchart-complete:disabled:hover {\n",
              "    background-color: var(--disabled-bg-color);\n",
              "    fill: var(--disabled-fill-color);\n",
              "    box-shadow: none;\n",
              "  }\n",
              "\n",
              "  .colab-df-spinner {\n",
              "    border: 2px solid var(--fill-color);\n",
              "    border-color: transparent;\n",
              "    border-bottom-color: var(--fill-color);\n",
              "    animation:\n",
              "      spin 1s steps(1) infinite;\n",
              "  }\n",
              "\n",
              "  @keyframes spin {\n",
              "    0% {\n",
              "      border-color: transparent;\n",
              "      border-bottom-color: var(--fill-color);\n",
              "      border-left-color: var(--fill-color);\n",
              "    }\n",
              "    20% {\n",
              "      border-color: transparent;\n",
              "      border-left-color: var(--fill-color);\n",
              "      border-top-color: var(--fill-color);\n",
              "    }\n",
              "    30% {\n",
              "      border-color: transparent;\n",
              "      border-left-color: var(--fill-color);\n",
              "      border-top-color: var(--fill-color);\n",
              "      border-right-color: var(--fill-color);\n",
              "    }\n",
              "    40% {\n",
              "      border-color: transparent;\n",
              "      border-right-color: var(--fill-color);\n",
              "      border-top-color: var(--fill-color);\n",
              "    }\n",
              "    60% {\n",
              "      border-color: transparent;\n",
              "      border-right-color: var(--fill-color);\n",
              "    }\n",
              "    80% {\n",
              "      border-color: transparent;\n",
              "      border-right-color: var(--fill-color);\n",
              "      border-bottom-color: var(--fill-color);\n",
              "    }\n",
              "    90% {\n",
              "      border-color: transparent;\n",
              "      border-bottom-color: var(--fill-color);\n",
              "    }\n",
              "  }\n",
              "</style>\n",
              "\n",
              "  <script>\n",
              "    async function quickchart(key) {\n",
              "      const quickchartButtonEl =\n",
              "        document.querySelector('#' + key + ' button');\n",
              "      quickchartButtonEl.disabled = true;  // To prevent multiple clicks.\n",
              "      quickchartButtonEl.classList.add('colab-df-spinner');\n",
              "      try {\n",
              "        const charts = await google.colab.kernel.invokeFunction(\n",
              "            'suggestCharts', [key], {});\n",
              "      } catch (error) {\n",
              "        console.error('Error during call to suggestCharts:', error);\n",
              "      }\n",
              "      quickchartButtonEl.classList.remove('colab-df-spinner');\n",
              "      quickchartButtonEl.classList.add('colab-df-quickchart-complete');\n",
              "    }\n",
              "    (() => {\n",
              "      let quickchartButtonEl =\n",
              "        document.querySelector('#df-5c268066-0cbf-4a62-8b74-01150264c804 button');\n",
              "      quickchartButtonEl.style.display =\n",
              "        google.colab.kernel.accessAllowed ? 'block' : 'none';\n",
              "    })();\n",
              "  </script>\n",
              "</div>\n",
              "\n",
              "    </div>\n",
              "  </div>\n"
            ],
            "application/vnd.google.colaboratory.intrinsic+json": {
              "type": "dataframe"
            }
          },
          "metadata": {},
          "execution_count": 15
        }
      ],
      "source": [
        "new_dataNP[['Fecha', 'Hora']] = new_dataNP['Fecha_hora'].str.split(' ', 1, expand=True)\n",
        "new_dataNP.iloc[:, [1, 21, 22]]"
      ]
    },
    {
      "cell_type": "markdown",
      "metadata": {
        "id": "3Xriqbet07Ei"
      },
      "source": [
        "Además de ello, se define el tipo de variable de la columna de 'Fecha' generada y 'Cant.' de la siguiente manera"
      ]
    },
    {
      "cell_type": "code",
      "execution_count": null,
      "metadata": {
        "id": "tfW6LbGH06X4",
        "colab": {
          "base_uri": "https://localhost:8080/"
        },
        "outputId": "526019f5-b3d6-49ac-ba07-e39354255e64"
      },
      "outputs": [
        {
          "output_type": "stream",
          "name": "stderr",
          "text": [
            "/usr/local/lib/python3.10/dist-packages/ipykernel/ipkernel.py:283: DeprecationWarning: `should_run_async` will not call `transform_cell` automatically in the future. Please pass the result to `transformed_cell` argument and any exception that happen during thetransform in `preprocessing_exc_tuple` in IPython 7.17 and above.\n",
            "  and should_run_async(code)\n"
          ]
        }
      ],
      "source": [
        "new_dataNP['Cant.'] = new_dataNP['Cant.'].astype(float)"
      ]
    },
    {
      "cell_type": "code",
      "execution_count": null,
      "metadata": {
        "id": "TIaq1kMT1gzp",
        "colab": {
          "base_uri": "https://localhost:8080/"
        },
        "outputId": "88644655-36d5-437c-8376-94c0fefb886e"
      },
      "outputs": [
        {
          "output_type": "stream",
          "name": "stderr",
          "text": [
            "/usr/local/lib/python3.10/dist-packages/ipykernel/ipkernel.py:283: DeprecationWarning: `should_run_async` will not call `transform_cell` automatically in the future. Please pass the result to `transformed_cell` argument and any exception that happen during thetransform in `preprocessing_exc_tuple` in IPython 7.17 and above.\n",
            "  and should_run_async(code)\n"
          ]
        }
      ],
      "source": [
        "new_dataNP['Fecha'] = pd.to_datetime(new_dataNP['Fecha'], format='%Y-%m-%d')"
      ]
    },
    {
      "cell_type": "code",
      "source": [
        "# Convertir la columna a datetime\n",
        "new_dataNP['Hora'] = pd.to_datetime(new_dataNP['Hora'])\n",
        "\n",
        "# Formatear la hora al formato deseado (sin segundos)\n",
        "new_dataNP['Hora'] = new_dataNP['Hora'].dt.strftime(\"%H:%M\")\n",
        "\n",
        "# Imprimir el DataFrame\n",
        "new_dataNP.head(5)"
      ],
      "metadata": {
        "colab": {
          "base_uri": "https://localhost:8080/",
          "height": 412
        },
        "id": "4vV593aMLZNA",
        "outputId": "bfa52732-a3d9-47c5-8c30-1b73c540bfbe"
      },
      "execution_count": null,
      "outputs": [
        {
          "output_type": "stream",
          "name": "stderr",
          "text": [
            "/usr/local/lib/python3.10/dist-packages/ipykernel/ipkernel.py:283: DeprecationWarning: `should_run_async` will not call `transform_cell` automatically in the future. Please pass the result to `transformed_cell` argument and any exception that happen during thetransform in `preprocessing_exc_tuple` in IPython 7.17 and above.\n",
            "  and should_run_async(code)\n"
          ]
        },
        {
          "output_type": "execute_result",
          "data": {
            "text/plain": [
              "0      Pedido           Fecha_hora Caja        Usuario     Estado        Mozo  \\\n",
              "1  2300000001  2023-01-01 12:39:00  008  JUANC SERRANO  FACTURADO  David Vera   \n",
              "2  2300000001  2023-01-01 12:39:00  008  JUANC SERRANO  FACTURADO  David Vera   \n",
              "3  2300000001  2023-01-01 12:39:00  008  JUANC SERRANO  FACTURADO  David Vera   \n",
              "4  2300000001  2023-01-01 12:39:00  008  JUANC SERRANO  FACTURADO  David Vera   \n",
              "5  2300000001  2023-01-01 12:39:00  008  JUANC SERRANO  FACTURADO  David Vera   \n",
              "\n",
              "0 tItem                 Producto  Cant. Sub Total  ...          Fecha Envio  \\\n",
              "1   001             MORO RISOTTO    1.0  5.983607  ...  2023-01-01 12:39:35   \n",
              "2   002             PAPA RELLENA    1.0  4.098361  ...  2023-01-01 12:39:35   \n",
              "3   003             SPRITE 400ML    1.0  1.885246  ...  2023-01-01 12:39:35   \n",
              "4   004          COCA COLA 500ML    1.0  1.885246  ...  2023-01-01 12:39:35   \n",
              "5   005  6052 MIX PARRILLERO P#3    1.0  2.254545  ...  2023-01-01 12:39:35   \n",
              "\n",
              "0 Envios         Documento  Canal Venta Formas Pago      Grupo  \\\n",
              "1      1  F001007000052246  En el Local        Visa  ALIMENTOS   \n",
              "2      1  F001007000052246  En el Local        Visa  ALIMENTOS   \n",
              "3      1  F001007000052246  En el Local        Visa    BEBIDAS   \n",
              "4      1  F001007000052246  En el Local        Visa    BEBIDAS   \n",
              "5      1  F001007000052246  En el Local        Visa  ALIMENTOS   \n",
              "\n",
              "0       Sub Grupo Tipo de Servicio      Fecha   Hora  \n",
              "1            MENU     GUARNICIONES 2023-01-01  12:39  \n",
              "2            MENU     GUARNICIONES 2023-01-01  12:39  \n",
              "3  NO ALCOHOLICAS         GASEOSAS 2023-01-01  12:39  \n",
              "4  NO ALCOHOLICAS         GASEOSAS 2023-01-01  12:39  \n",
              "5        PARRILLA        EMBUTIDOS 2023-01-01  12:39  \n",
              "\n",
              "[5 rows x 23 columns]"
            ],
            "text/html": [
              "\n",
              "  <div id=\"df-be08347e-c094-435f-bc05-ed1d8469c48d\" class=\"colab-df-container\">\n",
              "    <div>\n",
              "<style scoped>\n",
              "    .dataframe tbody tr th:only-of-type {\n",
              "        vertical-align: middle;\n",
              "    }\n",
              "\n",
              "    .dataframe tbody tr th {\n",
              "        vertical-align: top;\n",
              "    }\n",
              "\n",
              "    .dataframe thead th {\n",
              "        text-align: right;\n",
              "    }\n",
              "</style>\n",
              "<table border=\"1\" class=\"dataframe\">\n",
              "  <thead>\n",
              "    <tr style=\"text-align: right;\">\n",
              "      <th></th>\n",
              "      <th>Pedido</th>\n",
              "      <th>Fecha_hora</th>\n",
              "      <th>Caja</th>\n",
              "      <th>Usuario</th>\n",
              "      <th>Estado</th>\n",
              "      <th>Mozo</th>\n",
              "      <th>tItem</th>\n",
              "      <th>Producto</th>\n",
              "      <th>Cant.</th>\n",
              "      <th>Sub Total</th>\n",
              "      <th>...</th>\n",
              "      <th>Fecha Envio</th>\n",
              "      <th>Envios</th>\n",
              "      <th>Documento</th>\n",
              "      <th>Canal Venta</th>\n",
              "      <th>Formas Pago</th>\n",
              "      <th>Grupo</th>\n",
              "      <th>Sub Grupo</th>\n",
              "      <th>Tipo de Servicio</th>\n",
              "      <th>Fecha</th>\n",
              "      <th>Hora</th>\n",
              "    </tr>\n",
              "  </thead>\n",
              "  <tbody>\n",
              "    <tr>\n",
              "      <th>1</th>\n",
              "      <td>2300000001</td>\n",
              "      <td>2023-01-01 12:39:00</td>\n",
              "      <td>008</td>\n",
              "      <td>JUANC SERRANO</td>\n",
              "      <td>FACTURADO</td>\n",
              "      <td>David Vera</td>\n",
              "      <td>001</td>\n",
              "      <td>MORO RISOTTO</td>\n",
              "      <td>1.0</td>\n",
              "      <td>5.983607</td>\n",
              "      <td>...</td>\n",
              "      <td>2023-01-01 12:39:35</td>\n",
              "      <td>1</td>\n",
              "      <td>F001007000052246</td>\n",
              "      <td>En el Local</td>\n",
              "      <td>Visa</td>\n",
              "      <td>ALIMENTOS</td>\n",
              "      <td>MENU</td>\n",
              "      <td>GUARNICIONES</td>\n",
              "      <td>2023-01-01</td>\n",
              "      <td>12:39</td>\n",
              "    </tr>\n",
              "    <tr>\n",
              "      <th>2</th>\n",
              "      <td>2300000001</td>\n",
              "      <td>2023-01-01 12:39:00</td>\n",
              "      <td>008</td>\n",
              "      <td>JUANC SERRANO</td>\n",
              "      <td>FACTURADO</td>\n",
              "      <td>David Vera</td>\n",
              "      <td>002</td>\n",
              "      <td>PAPA RELLENA</td>\n",
              "      <td>1.0</td>\n",
              "      <td>4.098361</td>\n",
              "      <td>...</td>\n",
              "      <td>2023-01-01 12:39:35</td>\n",
              "      <td>1</td>\n",
              "      <td>F001007000052246</td>\n",
              "      <td>En el Local</td>\n",
              "      <td>Visa</td>\n",
              "      <td>ALIMENTOS</td>\n",
              "      <td>MENU</td>\n",
              "      <td>GUARNICIONES</td>\n",
              "      <td>2023-01-01</td>\n",
              "      <td>12:39</td>\n",
              "    </tr>\n",
              "    <tr>\n",
              "      <th>3</th>\n",
              "      <td>2300000001</td>\n",
              "      <td>2023-01-01 12:39:00</td>\n",
              "      <td>008</td>\n",
              "      <td>JUANC SERRANO</td>\n",
              "      <td>FACTURADO</td>\n",
              "      <td>David Vera</td>\n",
              "      <td>003</td>\n",
              "      <td>SPRITE 400ML</td>\n",
              "      <td>1.0</td>\n",
              "      <td>1.885246</td>\n",
              "      <td>...</td>\n",
              "      <td>2023-01-01 12:39:35</td>\n",
              "      <td>1</td>\n",
              "      <td>F001007000052246</td>\n",
              "      <td>En el Local</td>\n",
              "      <td>Visa</td>\n",
              "      <td>BEBIDAS</td>\n",
              "      <td>NO ALCOHOLICAS</td>\n",
              "      <td>GASEOSAS</td>\n",
              "      <td>2023-01-01</td>\n",
              "      <td>12:39</td>\n",
              "    </tr>\n",
              "    <tr>\n",
              "      <th>4</th>\n",
              "      <td>2300000001</td>\n",
              "      <td>2023-01-01 12:39:00</td>\n",
              "      <td>008</td>\n",
              "      <td>JUANC SERRANO</td>\n",
              "      <td>FACTURADO</td>\n",
              "      <td>David Vera</td>\n",
              "      <td>004</td>\n",
              "      <td>COCA COLA 500ML</td>\n",
              "      <td>1.0</td>\n",
              "      <td>1.885246</td>\n",
              "      <td>...</td>\n",
              "      <td>2023-01-01 12:39:35</td>\n",
              "      <td>1</td>\n",
              "      <td>F001007000052246</td>\n",
              "      <td>En el Local</td>\n",
              "      <td>Visa</td>\n",
              "      <td>BEBIDAS</td>\n",
              "      <td>NO ALCOHOLICAS</td>\n",
              "      <td>GASEOSAS</td>\n",
              "      <td>2023-01-01</td>\n",
              "      <td>12:39</td>\n",
              "    </tr>\n",
              "    <tr>\n",
              "      <th>5</th>\n",
              "      <td>2300000001</td>\n",
              "      <td>2023-01-01 12:39:00</td>\n",
              "      <td>008</td>\n",
              "      <td>JUANC SERRANO</td>\n",
              "      <td>FACTURADO</td>\n",
              "      <td>David Vera</td>\n",
              "      <td>005</td>\n",
              "      <td>6052 MIX PARRILLERO P#3</td>\n",
              "      <td>1.0</td>\n",
              "      <td>2.254545</td>\n",
              "      <td>...</td>\n",
              "      <td>2023-01-01 12:39:35</td>\n",
              "      <td>1</td>\n",
              "      <td>F001007000052246</td>\n",
              "      <td>En el Local</td>\n",
              "      <td>Visa</td>\n",
              "      <td>ALIMENTOS</td>\n",
              "      <td>PARRILLA</td>\n",
              "      <td>EMBUTIDOS</td>\n",
              "      <td>2023-01-01</td>\n",
              "      <td>12:39</td>\n",
              "    </tr>\n",
              "  </tbody>\n",
              "</table>\n",
              "<p>5 rows × 23 columns</p>\n",
              "</div>\n",
              "    <div class=\"colab-df-buttons\">\n",
              "\n",
              "  <div class=\"colab-df-container\">\n",
              "    <button class=\"colab-df-convert\" onclick=\"convertToInteractive('df-be08347e-c094-435f-bc05-ed1d8469c48d')\"\n",
              "            title=\"Convert this dataframe to an interactive table.\"\n",
              "            style=\"display:none;\">\n",
              "\n",
              "  <svg xmlns=\"http://www.w3.org/2000/svg\" height=\"24px\" viewBox=\"0 -960 960 960\">\n",
              "    <path d=\"M120-120v-720h720v720H120Zm60-500h600v-160H180v160Zm220 220h160v-160H400v160Zm0 220h160v-160H400v160ZM180-400h160v-160H180v160Zm440 0h160v-160H620v160ZM180-180h160v-160H180v160Zm440 0h160v-160H620v160Z\"/>\n",
              "  </svg>\n",
              "    </button>\n",
              "\n",
              "  <style>\n",
              "    .colab-df-container {\n",
              "      display:flex;\n",
              "      gap: 12px;\n",
              "    }\n",
              "\n",
              "    .colab-df-convert {\n",
              "      background-color: #E8F0FE;\n",
              "      border: none;\n",
              "      border-radius: 50%;\n",
              "      cursor: pointer;\n",
              "      display: none;\n",
              "      fill: #1967D2;\n",
              "      height: 32px;\n",
              "      padding: 0 0 0 0;\n",
              "      width: 32px;\n",
              "    }\n",
              "\n",
              "    .colab-df-convert:hover {\n",
              "      background-color: #E2EBFA;\n",
              "      box-shadow: 0px 1px 2px rgba(60, 64, 67, 0.3), 0px 1px 3px 1px rgba(60, 64, 67, 0.15);\n",
              "      fill: #174EA6;\n",
              "    }\n",
              "\n",
              "    .colab-df-buttons div {\n",
              "      margin-bottom: 4px;\n",
              "    }\n",
              "\n",
              "    [theme=dark] .colab-df-convert {\n",
              "      background-color: #3B4455;\n",
              "      fill: #D2E3FC;\n",
              "    }\n",
              "\n",
              "    [theme=dark] .colab-df-convert:hover {\n",
              "      background-color: #434B5C;\n",
              "      box-shadow: 0px 1px 3px 1px rgba(0, 0, 0, 0.15);\n",
              "      filter: drop-shadow(0px 1px 2px rgba(0, 0, 0, 0.3));\n",
              "      fill: #FFFFFF;\n",
              "    }\n",
              "  </style>\n",
              "\n",
              "    <script>\n",
              "      const buttonEl =\n",
              "        document.querySelector('#df-be08347e-c094-435f-bc05-ed1d8469c48d button.colab-df-convert');\n",
              "      buttonEl.style.display =\n",
              "        google.colab.kernel.accessAllowed ? 'block' : 'none';\n",
              "\n",
              "      async function convertToInteractive(key) {\n",
              "        const element = document.querySelector('#df-be08347e-c094-435f-bc05-ed1d8469c48d');\n",
              "        const dataTable =\n",
              "          await google.colab.kernel.invokeFunction('convertToInteractive',\n",
              "                                                    [key], {});\n",
              "        if (!dataTable) return;\n",
              "\n",
              "        const docLinkHtml = 'Like what you see? Visit the ' +\n",
              "          '<a target=\"_blank\" href=https://colab.research.google.com/notebooks/data_table.ipynb>data table notebook</a>'\n",
              "          + ' to learn more about interactive tables.';\n",
              "        element.innerHTML = '';\n",
              "        dataTable['output_type'] = 'display_data';\n",
              "        await google.colab.output.renderOutput(dataTable, element);\n",
              "        const docLink = document.createElement('div');\n",
              "        docLink.innerHTML = docLinkHtml;\n",
              "        element.appendChild(docLink);\n",
              "      }\n",
              "    </script>\n",
              "  </div>\n",
              "\n",
              "\n",
              "<div id=\"df-cbdd231f-9c3d-4b1f-b6e5-9acfa8673ced\">\n",
              "  <button class=\"colab-df-quickchart\" onclick=\"quickchart('df-cbdd231f-9c3d-4b1f-b6e5-9acfa8673ced')\"\n",
              "            title=\"Suggest charts\"\n",
              "            style=\"display:none;\">\n",
              "\n",
              "<svg xmlns=\"http://www.w3.org/2000/svg\" height=\"24px\"viewBox=\"0 0 24 24\"\n",
              "     width=\"24px\">\n",
              "    <g>\n",
              "        <path d=\"M19 3H5c-1.1 0-2 .9-2 2v14c0 1.1.9 2 2 2h14c1.1 0 2-.9 2-2V5c0-1.1-.9-2-2-2zM9 17H7v-7h2v7zm4 0h-2V7h2v10zm4 0h-2v-4h2v4z\"/>\n",
              "    </g>\n",
              "</svg>\n",
              "  </button>\n",
              "\n",
              "<style>\n",
              "  .colab-df-quickchart {\n",
              "      --bg-color: #E8F0FE;\n",
              "      --fill-color: #1967D2;\n",
              "      --hover-bg-color: #E2EBFA;\n",
              "      --hover-fill-color: #174EA6;\n",
              "      --disabled-fill-color: #AAA;\n",
              "      --disabled-bg-color: #DDD;\n",
              "  }\n",
              "\n",
              "  [theme=dark] .colab-df-quickchart {\n",
              "      --bg-color: #3B4455;\n",
              "      --fill-color: #D2E3FC;\n",
              "      --hover-bg-color: #434B5C;\n",
              "      --hover-fill-color: #FFFFFF;\n",
              "      --disabled-bg-color: #3B4455;\n",
              "      --disabled-fill-color: #666;\n",
              "  }\n",
              "\n",
              "  .colab-df-quickchart {\n",
              "    background-color: var(--bg-color);\n",
              "    border: none;\n",
              "    border-radius: 50%;\n",
              "    cursor: pointer;\n",
              "    display: none;\n",
              "    fill: var(--fill-color);\n",
              "    height: 32px;\n",
              "    padding: 0;\n",
              "    width: 32px;\n",
              "  }\n",
              "\n",
              "  .colab-df-quickchart:hover {\n",
              "    background-color: var(--hover-bg-color);\n",
              "    box-shadow: 0 1px 2px rgba(60, 64, 67, 0.3), 0 1px 3px 1px rgba(60, 64, 67, 0.15);\n",
              "    fill: var(--button-hover-fill-color);\n",
              "  }\n",
              "\n",
              "  .colab-df-quickchart-complete:disabled,\n",
              "  .colab-df-quickchart-complete:disabled:hover {\n",
              "    background-color: var(--disabled-bg-color);\n",
              "    fill: var(--disabled-fill-color);\n",
              "    box-shadow: none;\n",
              "  }\n",
              "\n",
              "  .colab-df-spinner {\n",
              "    border: 2px solid var(--fill-color);\n",
              "    border-color: transparent;\n",
              "    border-bottom-color: var(--fill-color);\n",
              "    animation:\n",
              "      spin 1s steps(1) infinite;\n",
              "  }\n",
              "\n",
              "  @keyframes spin {\n",
              "    0% {\n",
              "      border-color: transparent;\n",
              "      border-bottom-color: var(--fill-color);\n",
              "      border-left-color: var(--fill-color);\n",
              "    }\n",
              "    20% {\n",
              "      border-color: transparent;\n",
              "      border-left-color: var(--fill-color);\n",
              "      border-top-color: var(--fill-color);\n",
              "    }\n",
              "    30% {\n",
              "      border-color: transparent;\n",
              "      border-left-color: var(--fill-color);\n",
              "      border-top-color: var(--fill-color);\n",
              "      border-right-color: var(--fill-color);\n",
              "    }\n",
              "    40% {\n",
              "      border-color: transparent;\n",
              "      border-right-color: var(--fill-color);\n",
              "      border-top-color: var(--fill-color);\n",
              "    }\n",
              "    60% {\n",
              "      border-color: transparent;\n",
              "      border-right-color: var(--fill-color);\n",
              "    }\n",
              "    80% {\n",
              "      border-color: transparent;\n",
              "      border-right-color: var(--fill-color);\n",
              "      border-bottom-color: var(--fill-color);\n",
              "    }\n",
              "    90% {\n",
              "      border-color: transparent;\n",
              "      border-bottom-color: var(--fill-color);\n",
              "    }\n",
              "  }\n",
              "</style>\n",
              "\n",
              "  <script>\n",
              "    async function quickchart(key) {\n",
              "      const quickchartButtonEl =\n",
              "        document.querySelector('#' + key + ' button');\n",
              "      quickchartButtonEl.disabled = true;  // To prevent multiple clicks.\n",
              "      quickchartButtonEl.classList.add('colab-df-spinner');\n",
              "      try {\n",
              "        const charts = await google.colab.kernel.invokeFunction(\n",
              "            'suggestCharts', [key], {});\n",
              "      } catch (error) {\n",
              "        console.error('Error during call to suggestCharts:', error);\n",
              "      }\n",
              "      quickchartButtonEl.classList.remove('colab-df-spinner');\n",
              "      quickchartButtonEl.classList.add('colab-df-quickchart-complete');\n",
              "    }\n",
              "    (() => {\n",
              "      let quickchartButtonEl =\n",
              "        document.querySelector('#df-cbdd231f-9c3d-4b1f-b6e5-9acfa8673ced button');\n",
              "      quickchartButtonEl.style.display =\n",
              "        google.colab.kernel.accessAllowed ? 'block' : 'none';\n",
              "    })();\n",
              "  </script>\n",
              "</div>\n",
              "\n",
              "    </div>\n",
              "  </div>\n"
            ],
            "application/vnd.google.colaboratory.intrinsic+json": {
              "type": "dataframe",
              "variable_name": "new_dataNP"
            }
          },
          "metadata": {},
          "execution_count": 18
        }
      ]
    },
    {
      "cell_type": "markdown",
      "source": [
        "Seguido a esto se realiza el reemplazo de los items"
      ],
      "metadata": {
        "id": "w_LyQB_rGsBa"
      }
    },
    {
      "cell_type": "code",
      "source": [
        "reemplazos = {\n",
        "    'no usar 1046 BIFE ANC.PER.RES NP': '6426 BIFE ANCHO NP RES',\n",
        "    '1049 PICANA RES NP': '6420 PICANA DE RES NP',\n",
        "    'COCA COLA ZERO 500 ML': 'COCA COLA ZERO 410ML',\n",
        "    '6042N PECHUGA FILETE 300G': '6042 PECHUGA FILETE 300G',\n",
        "    'SHOT DE LIMON': 'SHOT LIMON',\n",
        "    '4814RT LONGANIZA 450 GR': '4814 LONGANIZA 450 GR',\n",
        "    '6524N TOMAHAWK STEAK NP R': '6524 TOMAHAWK STEAK NP RES',\n",
        "    'STELLA DRAFT': 'STELLA DRAFT VASO',\n",
        "    'no usar 1047 BIFE ANG.PER.RES NP': '6427 BIFE ANGOSTO NP RES',\n",
        "    'TE DE MANZANILLA': 'INFUSION MANZANILLA',\n",
        "    'PORC. DE AGUACATE': 'PORC. AGUACATE',\n",
        "    '4771RT RANCHERO 450 GR': '4771 RANCHERO 450 GR',\n",
        "    'TE DE MENTA': 'INFUSION MENTA',\n",
        "    'PORC. MENESTRA LENTEJA': 'PORC MENEST LENTEJA',\n",
        "    '6414 BIFE ANCHO PER. URU': '6414 BIFE ANCHO PER. URUG',\n",
        "    '6414 BIFE ANCH. PERS URUG': '6414 BIFE ANCHO PER. URUG',\n",
        "    'SPRITE 400ML': 'SPRITE 500ML',\n",
        "    'CLUB VERDE': 'CLUB VERDE RETORNABLE',\n",
        "    '4772 CHISTORRA 200 GR': 'CHISTORRA 250 GR',\n",
        "    '5923 COLITA CUADRIL URUG': '7099 COLITA ANGUS URU RES',\n",
        "    'DIABLO DARK RED 750 ML': 'DIABLO RB DARK RED 750 ML',\n",
        "    'POSTRE TIRAMISU': 'TIRAMISU',\n",
        "    'PROMO MOJITO MARACUYA 2X12': 'PROMO MOJITO MARACUYA 2X1',\n",
        "    'PROMO MOJITO CUBANO 2X12': 'PROMO MOJITO CUBANO 2X1',\n",
        "    'PROMO MOJITO FRUTOS ROJOS 2X12': 'PROMO MOJITO FRUTOS ROJOS 2X1',\n",
        "    'PROMO MARGARITA 2X12': 'PROMO MARGARITA 2X1',\n",
        "    'PROMO TEQUILA SUNRISE 2X12': 'PROMO TEQUILA SUNRISE 2X1',\n",
        "    'PROMO MARGARITA MARACUYA 2X12': 'PROMO MARGARITA MARACUYA 2X1',\n",
        "    'PROMO MARGARITA BLUE 2X12': 'PROMO MARGARITA BLUE 2X1',\n",
        "    'PROMO GIN TONIC 2X12': 'PROMO GIN TONIC 2X1',\n",
        "    'PROMO CAIPI MANGO 2X12': 'PROMO CAIPIRISIMA DE MANGO 2X1',\n",
        "    'PROMO LONG ISLAND 2X12': 'PROMO LONG ISLAND 2X1',\n",
        "    'PROMO LONG ISLAND BLUE 2X12': 'PROMO LONG ISLAND BLUE 2X1',\n",
        "    'PROMO CUBA LIBRE 2X12': 'PROMO CUBA LIBRE 2X1',\n",
        "    'PROMO WHISKY SOUR 2X12': 'PROMO RON SOUR 2X1',\n",
        "    'PROMO GIN FRUTOS ROJOS 2X12': 'PROMO GIN TONIC FRUTOS ROJOS 2X1',\n",
        "    'PROMO OREOCOCTEL 2X12': 'OREO COCTEL',\n",
        "    'PROMO DAIQUIRI PINK 2X12': 'DAIQUIRI PINK',\n",
        "    'PROMO FERNET 2X12': 'COCTEL FERNET',\n",
        "    'PROMO DAIQUIR BLACK 2X12': 'DAIQUIRI BLACK',\n",
        "    'PROMO CERVEZA NEGRA HOPFEN 4X15': 'PROMO BOT. 330ML CERVEZA NEGRA HOPFEN 3X15.99',\n",
        "    'PROMO CERVEZA RUBIA HOPFEN 4X15': 'PROMO BOT. 330ML CERVEZA RUBIA HOPFEN 3X15.99'\n",
        "}\n",
        "\n",
        "new_dataNP['Producto'] = new_dataNP['Producto'].replace(reemplazos)\n",
        "\n"
      ],
      "metadata": {
        "id": "Ubp14ueGqNpl",
        "colab": {
          "base_uri": "https://localhost:8080/"
        },
        "outputId": "e6ad38f5-b376-4fe7-e325-8e6fa704c502"
      },
      "execution_count": null,
      "outputs": [
        {
          "output_type": "stream",
          "name": "stderr",
          "text": [
            "/usr/local/lib/python3.10/dist-packages/ipykernel/ipkernel.py:283: DeprecationWarning: `should_run_async` will not call `transform_cell` automatically in the future. Please pass the result to `transformed_cell` argument and any exception that happen during thetransform in `preprocessing_exc_tuple` in IPython 7.17 and above.\n",
            "  and should_run_async(code)\n"
          ]
        }
      ]
    },
    {
      "cell_type": "markdown",
      "source": [
        "## Identificación de variables"
      ],
      "metadata": {
        "id": "iSErL6aTZsJ_"
      }
    },
    {
      "cell_type": "markdown",
      "source": [
        "Los atributos que se van a eliminar como Estado, tItem, Fecha Envio, Envios, Documento, Formas Pago no reflejan información importante para realizar agrupaciones de pedidos, muchos de estos datos son de uso interno y corroboración, como es el caso de formas de pago, documento, envío de pedido a barra/cocina. Las columnas como Caja, Usuario, Estado, Mozo poseen datos del número de caja, nombre del cajero y mesero respectivamente, datos que no son relevantes para el fin que se plantea. Otros atributos de costo como Sub Total, Impuesto 1, Impuesto 2 tampoco dan un valor al objetivo que se persigue, aunque podrían ser relevantes para otro tipo de análisis. Para el caso particular de Canal Venta, que refleja si el cliente ha pedido para llevar o consumir en el local, se tomará en cuenta como pedido, debido a que ya sea para llevar o consumir, se debe hacer la misma recomendación al cliente; la diferencia sustancial de este tipo es el costo adicional que supone el 10% del servicio del local."
      ],
      "metadata": {
        "id": "fA94AjuGHJq4"
      }
    },
    {
      "cell_type": "code",
      "execution_count": null,
      "metadata": {
        "id": "0vd2w33q8n0D",
        "colab": {
          "base_uri": "https://localhost:8080/"
        },
        "outputId": "13da76cd-d562-4530-f89b-c6b4e71e64e5"
      },
      "outputs": [
        {
          "output_type": "stream",
          "name": "stderr",
          "text": [
            "/usr/local/lib/python3.10/dist-packages/ipykernel/ipkernel.py:283: DeprecationWarning: `should_run_async` will not call `transform_cell` automatically in the future. Please pass the result to `transformed_cell` argument and any exception that happen during thetransform in `preprocessing_exc_tuple` in IPython 7.17 and above.\n",
            "  and should_run_async(code)\n"
          ]
        }
      ],
      "source": [
        "new_dataNP = new_dataNP.drop(['Fecha_hora','Caja', 'Usuario', 'Estado', 'Mozo', 'tItem', 'Sub Total', 'Impuesto 1', 'Impuesto 2', 'Fecha Envio', 'Envios', 'Documento', 'Canal Venta', 'Formas Pago'], axis=1)"
      ]
    },
    {
      "cell_type": "code",
      "source": [
        "new_dataNP.head(5)"
      ],
      "metadata": {
        "colab": {
          "base_uri": "https://localhost:8080/",
          "height": 261
        },
        "id": "msHYWaIiGM_L",
        "outputId": "f5d7a5aa-768d-4381-93d3-337cd312bd7a"
      },
      "execution_count": null,
      "outputs": [
        {
          "output_type": "stream",
          "name": "stderr",
          "text": [
            "/usr/local/lib/python3.10/dist-packages/ipykernel/ipkernel.py:283: DeprecationWarning: `should_run_async` will not call `transform_cell` automatically in the future. Please pass the result to `transformed_cell` argument and any exception that happen during thetransform in `preprocessing_exc_tuple` in IPython 7.17 and above.\n",
            "  and should_run_async(code)\n"
          ]
        },
        {
          "output_type": "execute_result",
          "data": {
            "text/plain": [
              "0      Pedido                 Producto  Cant. Total      Grupo  \\\n",
              "1  2300000001             MORO RISOTTO    1.0   7.3  ALIMENTOS   \n",
              "2  2300000001             PAPA RELLENA    1.0     5  ALIMENTOS   \n",
              "3  2300000001             SPRITE 500ML    1.0   2.3    BEBIDAS   \n",
              "4  2300000001          COCA COLA 500ML    1.0   2.3    BEBIDAS   \n",
              "5  2300000001  6052 MIX PARRILLERO P#3    1.0  2.48  ALIMENTOS   \n",
              "\n",
              "0       Sub Grupo Tipo de Servicio      Fecha   Hora  \n",
              "1            MENU     GUARNICIONES 2023-01-01  12:39  \n",
              "2            MENU     GUARNICIONES 2023-01-01  12:39  \n",
              "3  NO ALCOHOLICAS         GASEOSAS 2023-01-01  12:39  \n",
              "4  NO ALCOHOLICAS         GASEOSAS 2023-01-01  12:39  \n",
              "5        PARRILLA        EMBUTIDOS 2023-01-01  12:39  "
            ],
            "text/html": [
              "\n",
              "  <div id=\"df-405e9a6b-4f10-4f5a-bf6b-f5b6d300de68\" class=\"colab-df-container\">\n",
              "    <div>\n",
              "<style scoped>\n",
              "    .dataframe tbody tr th:only-of-type {\n",
              "        vertical-align: middle;\n",
              "    }\n",
              "\n",
              "    .dataframe tbody tr th {\n",
              "        vertical-align: top;\n",
              "    }\n",
              "\n",
              "    .dataframe thead th {\n",
              "        text-align: right;\n",
              "    }\n",
              "</style>\n",
              "<table border=\"1\" class=\"dataframe\">\n",
              "  <thead>\n",
              "    <tr style=\"text-align: right;\">\n",
              "      <th></th>\n",
              "      <th>Pedido</th>\n",
              "      <th>Producto</th>\n",
              "      <th>Cant.</th>\n",
              "      <th>Total</th>\n",
              "      <th>Grupo</th>\n",
              "      <th>Sub Grupo</th>\n",
              "      <th>Tipo de Servicio</th>\n",
              "      <th>Fecha</th>\n",
              "      <th>Hora</th>\n",
              "    </tr>\n",
              "  </thead>\n",
              "  <tbody>\n",
              "    <tr>\n",
              "      <th>1</th>\n",
              "      <td>2300000001</td>\n",
              "      <td>MORO RISOTTO</td>\n",
              "      <td>1.0</td>\n",
              "      <td>7.3</td>\n",
              "      <td>ALIMENTOS</td>\n",
              "      <td>MENU</td>\n",
              "      <td>GUARNICIONES</td>\n",
              "      <td>2023-01-01</td>\n",
              "      <td>12:39</td>\n",
              "    </tr>\n",
              "    <tr>\n",
              "      <th>2</th>\n",
              "      <td>2300000001</td>\n",
              "      <td>PAPA RELLENA</td>\n",
              "      <td>1.0</td>\n",
              "      <td>5</td>\n",
              "      <td>ALIMENTOS</td>\n",
              "      <td>MENU</td>\n",
              "      <td>GUARNICIONES</td>\n",
              "      <td>2023-01-01</td>\n",
              "      <td>12:39</td>\n",
              "    </tr>\n",
              "    <tr>\n",
              "      <th>3</th>\n",
              "      <td>2300000001</td>\n",
              "      <td>SPRITE 500ML</td>\n",
              "      <td>1.0</td>\n",
              "      <td>2.3</td>\n",
              "      <td>BEBIDAS</td>\n",
              "      <td>NO ALCOHOLICAS</td>\n",
              "      <td>GASEOSAS</td>\n",
              "      <td>2023-01-01</td>\n",
              "      <td>12:39</td>\n",
              "    </tr>\n",
              "    <tr>\n",
              "      <th>4</th>\n",
              "      <td>2300000001</td>\n",
              "      <td>COCA COLA 500ML</td>\n",
              "      <td>1.0</td>\n",
              "      <td>2.3</td>\n",
              "      <td>BEBIDAS</td>\n",
              "      <td>NO ALCOHOLICAS</td>\n",
              "      <td>GASEOSAS</td>\n",
              "      <td>2023-01-01</td>\n",
              "      <td>12:39</td>\n",
              "    </tr>\n",
              "    <tr>\n",
              "      <th>5</th>\n",
              "      <td>2300000001</td>\n",
              "      <td>6052 MIX PARRILLERO P#3</td>\n",
              "      <td>1.0</td>\n",
              "      <td>2.48</td>\n",
              "      <td>ALIMENTOS</td>\n",
              "      <td>PARRILLA</td>\n",
              "      <td>EMBUTIDOS</td>\n",
              "      <td>2023-01-01</td>\n",
              "      <td>12:39</td>\n",
              "    </tr>\n",
              "  </tbody>\n",
              "</table>\n",
              "</div>\n",
              "    <div class=\"colab-df-buttons\">\n",
              "\n",
              "  <div class=\"colab-df-container\">\n",
              "    <button class=\"colab-df-convert\" onclick=\"convertToInteractive('df-405e9a6b-4f10-4f5a-bf6b-f5b6d300de68')\"\n",
              "            title=\"Convert this dataframe to an interactive table.\"\n",
              "            style=\"display:none;\">\n",
              "\n",
              "  <svg xmlns=\"http://www.w3.org/2000/svg\" height=\"24px\" viewBox=\"0 -960 960 960\">\n",
              "    <path d=\"M120-120v-720h720v720H120Zm60-500h600v-160H180v160Zm220 220h160v-160H400v160Zm0 220h160v-160H400v160ZM180-400h160v-160H180v160Zm440 0h160v-160H620v160ZM180-180h160v-160H180v160Zm440 0h160v-160H620v160Z\"/>\n",
              "  </svg>\n",
              "    </button>\n",
              "\n",
              "  <style>\n",
              "    .colab-df-container {\n",
              "      display:flex;\n",
              "      gap: 12px;\n",
              "    }\n",
              "\n",
              "    .colab-df-convert {\n",
              "      background-color: #E8F0FE;\n",
              "      border: none;\n",
              "      border-radius: 50%;\n",
              "      cursor: pointer;\n",
              "      display: none;\n",
              "      fill: #1967D2;\n",
              "      height: 32px;\n",
              "      padding: 0 0 0 0;\n",
              "      width: 32px;\n",
              "    }\n",
              "\n",
              "    .colab-df-convert:hover {\n",
              "      background-color: #E2EBFA;\n",
              "      box-shadow: 0px 1px 2px rgba(60, 64, 67, 0.3), 0px 1px 3px 1px rgba(60, 64, 67, 0.15);\n",
              "      fill: #174EA6;\n",
              "    }\n",
              "\n",
              "    .colab-df-buttons div {\n",
              "      margin-bottom: 4px;\n",
              "    }\n",
              "\n",
              "    [theme=dark] .colab-df-convert {\n",
              "      background-color: #3B4455;\n",
              "      fill: #D2E3FC;\n",
              "    }\n",
              "\n",
              "    [theme=dark] .colab-df-convert:hover {\n",
              "      background-color: #434B5C;\n",
              "      box-shadow: 0px 1px 3px 1px rgba(0, 0, 0, 0.15);\n",
              "      filter: drop-shadow(0px 1px 2px rgba(0, 0, 0, 0.3));\n",
              "      fill: #FFFFFF;\n",
              "    }\n",
              "  </style>\n",
              "\n",
              "    <script>\n",
              "      const buttonEl =\n",
              "        document.querySelector('#df-405e9a6b-4f10-4f5a-bf6b-f5b6d300de68 button.colab-df-convert');\n",
              "      buttonEl.style.display =\n",
              "        google.colab.kernel.accessAllowed ? 'block' : 'none';\n",
              "\n",
              "      async function convertToInteractive(key) {\n",
              "        const element = document.querySelector('#df-405e9a6b-4f10-4f5a-bf6b-f5b6d300de68');\n",
              "        const dataTable =\n",
              "          await google.colab.kernel.invokeFunction('convertToInteractive',\n",
              "                                                    [key], {});\n",
              "        if (!dataTable) return;\n",
              "\n",
              "        const docLinkHtml = 'Like what you see? Visit the ' +\n",
              "          '<a target=\"_blank\" href=https://colab.research.google.com/notebooks/data_table.ipynb>data table notebook</a>'\n",
              "          + ' to learn more about interactive tables.';\n",
              "        element.innerHTML = '';\n",
              "        dataTable['output_type'] = 'display_data';\n",
              "        await google.colab.output.renderOutput(dataTable, element);\n",
              "        const docLink = document.createElement('div');\n",
              "        docLink.innerHTML = docLinkHtml;\n",
              "        element.appendChild(docLink);\n",
              "      }\n",
              "    </script>\n",
              "  </div>\n",
              "\n",
              "\n",
              "<div id=\"df-bacb1573-3369-4e12-bb28-af487b8f98ca\">\n",
              "  <button class=\"colab-df-quickchart\" onclick=\"quickchart('df-bacb1573-3369-4e12-bb28-af487b8f98ca')\"\n",
              "            title=\"Suggest charts\"\n",
              "            style=\"display:none;\">\n",
              "\n",
              "<svg xmlns=\"http://www.w3.org/2000/svg\" height=\"24px\"viewBox=\"0 0 24 24\"\n",
              "     width=\"24px\">\n",
              "    <g>\n",
              "        <path d=\"M19 3H5c-1.1 0-2 .9-2 2v14c0 1.1.9 2 2 2h14c1.1 0 2-.9 2-2V5c0-1.1-.9-2-2-2zM9 17H7v-7h2v7zm4 0h-2V7h2v10zm4 0h-2v-4h2v4z\"/>\n",
              "    </g>\n",
              "</svg>\n",
              "  </button>\n",
              "\n",
              "<style>\n",
              "  .colab-df-quickchart {\n",
              "      --bg-color: #E8F0FE;\n",
              "      --fill-color: #1967D2;\n",
              "      --hover-bg-color: #E2EBFA;\n",
              "      --hover-fill-color: #174EA6;\n",
              "      --disabled-fill-color: #AAA;\n",
              "      --disabled-bg-color: #DDD;\n",
              "  }\n",
              "\n",
              "  [theme=dark] .colab-df-quickchart {\n",
              "      --bg-color: #3B4455;\n",
              "      --fill-color: #D2E3FC;\n",
              "      --hover-bg-color: #434B5C;\n",
              "      --hover-fill-color: #FFFFFF;\n",
              "      --disabled-bg-color: #3B4455;\n",
              "      --disabled-fill-color: #666;\n",
              "  }\n",
              "\n",
              "  .colab-df-quickchart {\n",
              "    background-color: var(--bg-color);\n",
              "    border: none;\n",
              "    border-radius: 50%;\n",
              "    cursor: pointer;\n",
              "    display: none;\n",
              "    fill: var(--fill-color);\n",
              "    height: 32px;\n",
              "    padding: 0;\n",
              "    width: 32px;\n",
              "  }\n",
              "\n",
              "  .colab-df-quickchart:hover {\n",
              "    background-color: var(--hover-bg-color);\n",
              "    box-shadow: 0 1px 2px rgba(60, 64, 67, 0.3), 0 1px 3px 1px rgba(60, 64, 67, 0.15);\n",
              "    fill: var(--button-hover-fill-color);\n",
              "  }\n",
              "\n",
              "  .colab-df-quickchart-complete:disabled,\n",
              "  .colab-df-quickchart-complete:disabled:hover {\n",
              "    background-color: var(--disabled-bg-color);\n",
              "    fill: var(--disabled-fill-color);\n",
              "    box-shadow: none;\n",
              "  }\n",
              "\n",
              "  .colab-df-spinner {\n",
              "    border: 2px solid var(--fill-color);\n",
              "    border-color: transparent;\n",
              "    border-bottom-color: var(--fill-color);\n",
              "    animation:\n",
              "      spin 1s steps(1) infinite;\n",
              "  }\n",
              "\n",
              "  @keyframes spin {\n",
              "    0% {\n",
              "      border-color: transparent;\n",
              "      border-bottom-color: var(--fill-color);\n",
              "      border-left-color: var(--fill-color);\n",
              "    }\n",
              "    20% {\n",
              "      border-color: transparent;\n",
              "      border-left-color: var(--fill-color);\n",
              "      border-top-color: var(--fill-color);\n",
              "    }\n",
              "    30% {\n",
              "      border-color: transparent;\n",
              "      border-left-color: var(--fill-color);\n",
              "      border-top-color: var(--fill-color);\n",
              "      border-right-color: var(--fill-color);\n",
              "    }\n",
              "    40% {\n",
              "      border-color: transparent;\n",
              "      border-right-color: var(--fill-color);\n",
              "      border-top-color: var(--fill-color);\n",
              "    }\n",
              "    60% {\n",
              "      border-color: transparent;\n",
              "      border-right-color: var(--fill-color);\n",
              "    }\n",
              "    80% {\n",
              "      border-color: transparent;\n",
              "      border-right-color: var(--fill-color);\n",
              "      border-bottom-color: var(--fill-color);\n",
              "    }\n",
              "    90% {\n",
              "      border-color: transparent;\n",
              "      border-bottom-color: var(--fill-color);\n",
              "    }\n",
              "  }\n",
              "</style>\n",
              "\n",
              "  <script>\n",
              "    async function quickchart(key) {\n",
              "      const quickchartButtonEl =\n",
              "        document.querySelector('#' + key + ' button');\n",
              "      quickchartButtonEl.disabled = true;  // To prevent multiple clicks.\n",
              "      quickchartButtonEl.classList.add('colab-df-spinner');\n",
              "      try {\n",
              "        const charts = await google.colab.kernel.invokeFunction(\n",
              "            'suggestCharts', [key], {});\n",
              "      } catch (error) {\n",
              "        console.error('Error during call to suggestCharts:', error);\n",
              "      }\n",
              "      quickchartButtonEl.classList.remove('colab-df-spinner');\n",
              "      quickchartButtonEl.classList.add('colab-df-quickchart-complete');\n",
              "    }\n",
              "    (() => {\n",
              "      let quickchartButtonEl =\n",
              "        document.querySelector('#df-bacb1573-3369-4e12-bb28-af487b8f98ca button');\n",
              "      quickchartButtonEl.style.display =\n",
              "        google.colab.kernel.accessAllowed ? 'block' : 'none';\n",
              "    })();\n",
              "  </script>\n",
              "</div>\n",
              "\n",
              "    </div>\n",
              "  </div>\n"
            ],
            "application/vnd.google.colaboratory.intrinsic+json": {
              "type": "dataframe",
              "variable_name": "new_dataNP"
            }
          },
          "metadata": {},
          "execution_count": 20
        }
      ]
    },
    {
      "cell_type": "markdown",
      "source": [
        "Se verifica el contenido de la columna Grupo, y se filtra por \"OTROS\""
      ],
      "metadata": {
        "id": "1hwuUauUvZAF"
      }
    },
    {
      "cell_type": "code",
      "source": [
        "new_dataNP = new_dataNP[new_dataNP['Grupo'] != 'OTROS']"
      ],
      "metadata": {
        "id": "dWZIfPfm7WtH",
        "colab": {
          "base_uri": "https://localhost:8080/"
        },
        "outputId": "292cd35a-0f74-4001-dfe2-f56e337bee4f"
      },
      "execution_count": null,
      "outputs": [
        {
          "output_type": "stream",
          "name": "stderr",
          "text": [
            "/usr/local/lib/python3.10/dist-packages/ipykernel/ipkernel.py:283: DeprecationWarning: `should_run_async` will not call `transform_cell` automatically in the future. Please pass the result to `transformed_cell` argument and any exception that happen during thetransform in `preprocessing_exc_tuple` in IPython 7.17 and above.\n",
            "  and should_run_async(code)\n"
          ]
        }
      ]
    },
    {
      "cell_type": "code",
      "source": [
        "# Obtiene los nombres únicos de todos los productos\n",
        "nombres_unicos = new_dataNP['Producto'].unique()\n",
        "\n",
        "# Filtra los nombres únicos que contienen 'KILO'\n",
        "nombres_NP = [nombre for nombre in nombres_unicos if 'KILO' in nombre]\n",
        "\n",
        "for nombre in nombres_NP:\n",
        "    print(nombre)"
      ],
      "metadata": {
        "id": "vv3xv9YvbP4O",
        "colab": {
          "base_uri": "https://localhost:8080/"
        },
        "outputId": "8c44bfaa-286a-47dd-f2c9-52c358d60baf"
      },
      "execution_count": null,
      "outputs": [
        {
          "output_type": "stream",
          "name": "stdout",
          "text": [
            "KILO SALSA DE CHIMICHURRI\n",
            "KILO SALSA DE QUESO\n",
            "KILO SALSA DE ALBAHACA\n",
            "KILO SALSA BBQ\n",
            "KILO MENESTRA FREJOL NEGRO\n",
            "KILO MENESTRA CANARIO\n",
            "KILO MENESTRA LENTEJA\n",
            "KILO VINAGRETA MIEL MOSTAZA\n",
            "KILO VINAGRETA DE LA CASA\n",
            "KILO SALSA DE AJI\n",
            "KILO MENESTRA FREJOL AMARILLO\n",
            "KILO SALSA PESTO\n"
          ]
        },
        {
          "output_type": "stream",
          "name": "stderr",
          "text": [
            "/usr/local/lib/python3.10/dist-packages/ipykernel/ipkernel.py:283: DeprecationWarning: `should_run_async` will not call `transform_cell` automatically in the future. Please pass the result to `transformed_cell` argument and any exception that happen during thetransform in `preprocessing_exc_tuple` in IPython 7.17 and above.\n",
            "  and should_run_async(code)\n"
          ]
        }
      ]
    },
    {
      "cell_type": "code",
      "source": [
        "new_dataNP = new_dataNP[~new_dataNP['Producto'].str.contains('KILO')]\n",
        "new_dataNP = new_dataNP[~new_dataNP['Producto'].str.contains('LITRO')]"
      ],
      "metadata": {
        "id": "mw_G-FevcTQX",
        "colab": {
          "base_uri": "https://localhost:8080/"
        },
        "outputId": "76ddcd02-0c95-418c-e256-cd6768a0555c"
      },
      "execution_count": null,
      "outputs": [
        {
          "output_type": "stream",
          "name": "stderr",
          "text": [
            "/usr/local/lib/python3.10/dist-packages/ipykernel/ipkernel.py:283: DeprecationWarning: `should_run_async` will not call `transform_cell` automatically in the future. Please pass the result to `transformed_cell` argument and any exception that happen during thetransform in `preprocessing_exc_tuple` in IPython 7.17 and above.\n",
            "  and should_run_async(code)\n"
          ]
        }
      ]
    },
    {
      "cell_type": "markdown",
      "source": [
        "PARA REVISIÓN GRÁFICA 1"
      ],
      "metadata": {
        "id": "t5RKzGAWE0Q-"
      }
    },
    {
      "cell_type": "code",
      "source": [
        "new_dataNP.to_csv('data1.csv', index=False)"
      ],
      "metadata": {
        "id": "L0YyYUD48owe",
        "colab": {
          "base_uri": "https://localhost:8080/"
        },
        "outputId": "e3cd0b62-72ea-4070-ed47-5ca101c9e275"
      },
      "execution_count": null,
      "outputs": [
        {
          "output_type": "stream",
          "name": "stderr",
          "text": [
            "/usr/local/lib/python3.10/dist-packages/ipykernel/ipkernel.py:283: DeprecationWarning: `should_run_async` will not call `transform_cell` automatically in the future. Please pass the result to `transformed_cell` argument and any exception that happen during thetransform in `preprocessing_exc_tuple` in IPython 7.17 and above.\n",
            "  and should_run_async(code)\n"
          ]
        }
      ]
    },
    {
      "cell_type": "markdown",
      "source": [
        "PARA REVISIÓN GRAFICA 2"
      ],
      "metadata": {
        "id": "FL0rVvlGHQ3n"
      }
    },
    {
      "cell_type": "code",
      "source": [
        "new_dataNP = new_dataNP[new_dataNP['Sub Grupo'] != 'MENU EVENTO']"
      ],
      "metadata": {
        "id": "5T6i3AtHGXYQ",
        "colab": {
          "base_uri": "https://localhost:8080/"
        },
        "outputId": "4ca4961b-322c-4da7-a18f-b4322ba0c960"
      },
      "execution_count": null,
      "outputs": [
        {
          "output_type": "stream",
          "name": "stderr",
          "text": [
            "/usr/local/lib/python3.10/dist-packages/ipykernel/ipkernel.py:283: DeprecationWarning: `should_run_async` will not call `transform_cell` automatically in the future. Please pass the result to `transformed_cell` argument and any exception that happen during thetransform in `preprocessing_exc_tuple` in IPython 7.17 and above.\n",
            "  and should_run_async(code)\n"
          ]
        }
      ]
    },
    {
      "cell_type": "code",
      "source": [
        "new_dataNP = new_dataNP[new_dataNP['Sub Grupo'] != 'PROMO ALCOHOLICAS']"
      ],
      "metadata": {
        "id": "Zh_EZ_OcKL59",
        "colab": {
          "base_uri": "https://localhost:8080/"
        },
        "outputId": "9ed177f0-c02f-482e-cad8-75e783111c1f"
      },
      "execution_count": null,
      "outputs": [
        {
          "output_type": "stream",
          "name": "stderr",
          "text": [
            "/usr/local/lib/python3.10/dist-packages/ipykernel/ipkernel.py:283: DeprecationWarning: `should_run_async` will not call `transform_cell` automatically in the future. Please pass the result to `transformed_cell` argument and any exception that happen during thetransform in `preprocessing_exc_tuple` in IPython 7.17 and above.\n",
            "  and should_run_async(code)\n"
          ]
        }
      ]
    },
    {
      "cell_type": "code",
      "source": [
        "new_dataNP = new_dataNP[new_dataNP['Sub Grupo'] != 'MENU PROMO']"
      ],
      "metadata": {
        "id": "Sa8g1kvxKLc5",
        "colab": {
          "base_uri": "https://localhost:8080/"
        },
        "outputId": "fee61f33-2687-4efc-f2c9-5d239d608c4e"
      },
      "execution_count": null,
      "outputs": [
        {
          "output_type": "stream",
          "name": "stderr",
          "text": [
            "/usr/local/lib/python3.10/dist-packages/ipykernel/ipkernel.py:283: DeprecationWarning: `should_run_async` will not call `transform_cell` automatically in the future. Please pass the result to `transformed_cell` argument and any exception that happen during thetransform in `preprocessing_exc_tuple` in IPython 7.17 and above.\n",
            "  and should_run_async(code)\n"
          ]
        }
      ]
    },
    {
      "cell_type": "code",
      "source": [
        "new_dataNP = new_dataNP[new_dataNP['Sub Grupo'] != 'PROMO NO ALCOHOLICAS']"
      ],
      "metadata": {
        "id": "NvjDdj3MKkWc",
        "colab": {
          "base_uri": "https://localhost:8080/"
        },
        "outputId": "31870d8a-c5d9-4eb3-c917-465d2d6318d2"
      },
      "execution_count": null,
      "outputs": [
        {
          "output_type": "stream",
          "name": "stderr",
          "text": [
            "/usr/local/lib/python3.10/dist-packages/ipykernel/ipkernel.py:283: DeprecationWarning: `should_run_async` will not call `transform_cell` automatically in the future. Please pass the result to `transformed_cell` argument and any exception that happen during thetransform in `preprocessing_exc_tuple` in IPython 7.17 and above.\n",
            "  and should_run_async(code)\n"
          ]
        }
      ]
    },
    {
      "cell_type": "code",
      "source": [
        "new_dataNP.to_csv('data2.csv', index=False)"
      ],
      "metadata": {
        "id": "Eom2_GUrHXzx",
        "colab": {
          "base_uri": "https://localhost:8080/"
        },
        "outputId": "5ecb68c7-9ee9-4bd5-be39-cb7c2a6c2dd2"
      },
      "execution_count": null,
      "outputs": [
        {
          "output_type": "stream",
          "name": "stderr",
          "text": [
            "/usr/local/lib/python3.10/dist-packages/ipykernel/ipkernel.py:283: DeprecationWarning: `should_run_async` will not call `transform_cell` automatically in the future. Please pass the result to `transformed_cell` argument and any exception that happen during thetransform in `preprocessing_exc_tuple` in IPython 7.17 and above.\n",
            "  and should_run_async(code)\n"
          ]
        }
      ]
    },
    {
      "cell_type": "markdown",
      "source": [
        "Se revisan las CORTESÍAS de la columna Tipo de Servicio"
      ],
      "metadata": {
        "id": "fOmVcsF4UB5k"
      }
    },
    {
      "cell_type": "code",
      "source": [
        "new_dataNP = new_dataNP[new_dataNP['Tipo de Servicio'] != 'CORTESIA']"
      ],
      "metadata": {
        "id": "zGBXig9habVm",
        "colab": {
          "base_uri": "https://localhost:8080/"
        },
        "outputId": "6c43038b-47bf-4631-a590-24253726eaf0"
      },
      "execution_count": null,
      "outputs": [
        {
          "output_type": "stream",
          "name": "stderr",
          "text": [
            "/usr/local/lib/python3.10/dist-packages/ipykernel/ipkernel.py:283: DeprecationWarning: `should_run_async` will not call `transform_cell` automatically in the future. Please pass the result to `transformed_cell` argument and any exception that happen during thetransform in `preprocessing_exc_tuple` in IPython 7.17 and above.\n",
            "  and should_run_async(code)\n"
          ]
        }
      ]
    },
    {
      "cell_type": "code",
      "source": [
        "new_dataNP = new_dataNP[new_dataNP['Tipo de Servicio'] != 'OTROS']"
      ],
      "metadata": {
        "id": "khcQzgEYacBe",
        "colab": {
          "base_uri": "https://localhost:8080/"
        },
        "outputId": "fdd80b08-9b89-424d-f4ba-cefc4f893c52"
      },
      "execution_count": null,
      "outputs": [
        {
          "output_type": "stream",
          "name": "stderr",
          "text": [
            "/usr/local/lib/python3.10/dist-packages/ipykernel/ipkernel.py:283: DeprecationWarning: `should_run_async` will not call `transform_cell` automatically in the future. Please pass the result to `transformed_cell` argument and any exception that happen during thetransform in `preprocessing_exc_tuple` in IPython 7.17 and above.\n",
            "  and should_run_async(code)\n"
          ]
        }
      ]
    },
    {
      "cell_type": "code",
      "source": [
        "new_dataNP = new_dataNP[new_dataNP['Tipo de Servicio'] != 'DESAYUNOS']"
      ],
      "metadata": {
        "id": "Y9qqpkORYLV2",
        "colab": {
          "base_uri": "https://localhost:8080/"
        },
        "outputId": "bd7c659b-c7ff-4227-b59c-c172920c0ff0"
      },
      "execution_count": null,
      "outputs": [
        {
          "output_type": "stream",
          "name": "stderr",
          "text": [
            "/usr/local/lib/python3.10/dist-packages/ipykernel/ipkernel.py:283: DeprecationWarning: `should_run_async` will not call `transform_cell` automatically in the future. Please pass the result to `transformed_cell` argument and any exception that happen during thetransform in `preprocessing_exc_tuple` in IPython 7.17 and above.\n",
            "  and should_run_async(code)\n"
          ]
        }
      ]
    },
    {
      "cell_type": "code",
      "source": [
        "new_dataNP = new_dataNP[~new_dataNP['Producto'].isin(['P.G#8 LOMO VINO AR. ALBA','P.G#2 POLLO S. DURAZNO','P.G#7 POLLO EN S. CHAMPI','P.G#5 POLLO S. ROMERO','SHOT CHELADA', 'SHOT LIMON', 'SHOT MICHELADA','SHOT FRUTA PICADA', 'SHOT DE SIROPE SIMPLE', 'ZUMO DE LIMON', 'SHOT SIROPE FRUTOS ROJOS'])]\n"
      ],
      "metadata": {
        "colab": {
          "base_uri": "https://localhost:8080/"
        },
        "id": "_d35JrtKUsYX",
        "outputId": "e246c25c-dfa5-4149-a37e-cbe7f27ffe26"
      },
      "execution_count": null,
      "outputs": [
        {
          "output_type": "stream",
          "name": "stderr",
          "text": [
            "/usr/local/lib/python3.10/dist-packages/ipykernel/ipkernel.py:283: DeprecationWarning: `should_run_async` will not call `transform_cell` automatically in the future. Please pass the result to `transformed_cell` argument and any exception that happen during thetransform in `preprocessing_exc_tuple` in IPython 7.17 and above.\n",
            "  and should_run_async(code)\n",
            "/usr/local/lib/python3.10/dist-packages/pandas/core/algorithms.py:522: DeprecationWarning: np.find_common_type is deprecated.  Please use `np.result_type` or `np.promote_types`.\n",
            "See https://numpy.org/devdocs/release/1.25.0-notes.html and the docs for more information.  (Deprecated NumPy 1.25)\n",
            "  common = np.find_common_type([values.dtype, comps_array.dtype], [])\n"
          ]
        }
      ]
    },
    {
      "cell_type": "code",
      "source": [
        "def remover_4_digitos(colProducto):\n",
        "  prot_4 = r\"^\\d{4}\"\n",
        "  colProducto['Producto'] = colProducto['Producto'].str.replace(prot_4, '', regex=True)\n",
        "  return colProducto\n",
        "\n",
        "def remover_2_digitos(colProducto):\n",
        "  prot_2 = r\"^\\d{2}\"\n",
        "  colProducto['Producto'] = colProducto['Producto'].str.replace(prot_2, '', regex=True)\n",
        "  return colProducto\n",
        "\n",
        "new_dataNP = remover_4_digitos(new_dataNP)\n",
        "new_dataNP = remover_2_digitos(new_dataNP)\n",
        "\n",
        "new_dataNP['Producto'] = new_dataNP['Producto'].str.lstrip()"
      ],
      "metadata": {
        "colab": {
          "base_uri": "https://localhost:8080/"
        },
        "id": "j7WGN3U9uHw5",
        "outputId": "20f97b40-3c6c-435e-f1e6-1ec38510343b"
      },
      "execution_count": null,
      "outputs": [
        {
          "output_type": "stream",
          "name": "stderr",
          "text": [
            "/usr/local/lib/python3.10/dist-packages/ipykernel/ipkernel.py:283: DeprecationWarning: `should_run_async` will not call `transform_cell` automatically in the future. Please pass the result to `transformed_cell` argument and any exception that happen during thetransform in `preprocessing_exc_tuple` in IPython 7.17 and above.\n",
            "  and should_run_async(code)\n"
          ]
        }
      ]
    },
    {
      "cell_type": "code",
      "source": [
        "# Creando un diccionario con los nombres antiguos como claves y los nuevos nombres como valores\n",
        "tipo_CorteBebida = {\n",
        "    \"MIX PARRILLERO P#3\": \"EMBUTIDOS Personal\",\n",
        "    \"BIFE ANCHO NP RES\": \"RES Personal\",\n",
        "    \"BIFE ANCHO NP CERDO\": \"CERDO Personal\",\n",
        "    \"ARGENTINO X3\": \"EMBUTIDOS Personal\",\n",
        "    \"PICANA DE RES NP\": \"RES Familiar\",\n",
        "    \"PECHUGA FILETE 300G\": \"POLLO Personal\",\n",
        "    \"ENTRANA FINA NP RES\": \"RES Personal\",\n",
        "    \"TOMAHAWK CERDO NP\": \"CERDO Personal\",\n",
        "    \"BONE NEW YORK STEAK 30\": \"RES Familiar\",\n",
        "    \"MIX PARRILLERO P#2\": \"EMBUTIDOS Personal\",\n",
        "    \"PECHUGA FINAS HIERB\": \"POLLO Personal\",\n",
        "    \"BUTIFARRA 450 GR\": \"EMBUTIDOS Familiar\",\n",
        "    \"CHULETA PARR. NP CERDO\": \"CERDO Personal\",\n",
        "    \"BUTIFARRA X3\": \"EMBUTIDOS Personal\",\n",
        "    \"COSTILLA ESP. CERDO NP\": \"CERDO Personal\",\n",
        "    \"BIFE C/HUESO NP RES\": \"RES Personal\",\n",
        "    \"PANCETA PER. NP CER\": \"CERDO Personal\",\n",
        "    \"BIFE MARUCHA NP RES\": \"RES Personal\",\n",
        "    \"TAPA MATAMBRE PE CE\": \"CERDO Personal\",\n",
        "    \"CHINCHULIN\": \"RES Personal\",\n",
        "    \"T-BONE DE NP RES\": \"RES Personal\",\n",
        "    \"MIX PARRILLERO P#1\": \"EMBUTIDOS Familiar\",\n",
        "    \"PECHITO DE NP CERDO\": \"CERDO Personal\",\n",
        "    \"TOCINETA C/C NP CER\": \"CERDO Familiar\",\n",
        "    \"MORCILLA X3\": \"EMBUTIDOS Personal\",\n",
        "    \"BONE RIB EYE STEAK 30\": \"RES Familiar\",\n",
        "    \"PIERNAS Y CAD. AHUM\": \"POLLO Personal\",\n",
        "    \"ARGENTINO 450GR\": \"EMBUTIDOS Familiar\",\n",
        "    \"BABY RIBS CERDO NP\": \"CERDO Familiar\",\n",
        "    \"CHORIZO LIBANES\": \"EMBUTIDOS Familiar\",\n",
        "    \"BIFE CHORIZO NP RES\": \"RES Familiar\",\n",
        "    \"CRIOLLO 300 GR\": \"EMBUTIDOS Personal\",\n",
        "    \"PECHUGA CANTONESA\": \"POLLO Personal\",\n",
        "    \"CHISTORRA 250 GR\": \"EMBUTIDOS Personal\",\n",
        "    \"TOCINETA SC CERD NP\": \"CERDO Familiar\",\n",
        "    \"ARTESANAL X3\": \"EMBUTIDOS Personal\",\n",
        "    \"TOCINETA S/C PER CE\": \"CERDO Personal\",\n",
        "    \"CHORIZO JALAPENO\": \"EMBUTIDOS Familiar\",\n",
        "    \"MATAMBRE CERDO NP\": \"CERDO Familiar\",\n",
        "    \"LONGANIZA 450 GR\": \"EMBUTIDOS Familiar\",\n",
        "    \"BUTIFARRA PAR 450GR\": \"EMBUTIDOS Familiar\",\n",
        "    \"TOMAHAWK STEAK NP RES\": \"RES Familiar\",\n",
        "    \"ARTESANAL X6\": \"EMBUTIDOS Familiar\",\n",
        "    \"CHORIZO AL VINO\": \"EMBUTIDOS Familiar\",\n",
        "    \"BIFE ANGOSTO NP RES\": \"RES Personal\",\n",
        "    \"CUENCANO X3\": \"EMBUTIDOS Personal\",\n",
        "    \"CUADRIL NP RES\": \"RES Familiar\",\n",
        "    \"PANCETA CERDO NP\": \"CERDO Familiar\",\n",
        "    \"ROAST BEEF NP RES\": \"RES Personal\",\n",
        "    \"COLITA CUADRIL NP RES\": \"RES Familiar\",\n",
        "    \"BIFE ANGOSTO NP CERDO\": \"CERDO Personal\",\n",
        "    \"RIB EYE E/V DON EUGENIO NP\": \"RES Personal\",\n",
        "    \"LOMO FINO RES+3 ARG\": \"EMBUTIDOS Personal\",\n",
        "    \"CHORIZO ESPANOL\": \"EMBUTIDOS Familiar\",\n",
        "    \"PICANA DE CERDO NP\": \"CERDO Familiar\",\n",
        "    \"FALDA PARR. NP RES\": \"RES Familiar\",\n",
        "    \"CUENCANO 450 GR\": \"EMBUTIDOS Familiar\",\n",
        "    \"MORCILLA 450 GR\": \"EMBUTIDOS Familiar\",\n",
        "    \"BRAZO CERDO AHUMADO\": \"CERDO Familiar\",\n",
        "    \"BACK RIBS DE NP CER\": \"CERDO Familiar\",\n",
        "    \"CERVECERO 450 GR\": \"EMBUTIDOS Familiar\",\n",
        "    \"CHORIZO ALEMAN\": \"EMBUTIDOS Familiar\",\n",
        "    \"ENTRANA NP RES\": \"RES Personal\",\n",
        "    \"CHORIZO ITALIANO\": \"EMBUTIDOS Familiar\",\n",
        "    \"TAPA MATAMBRE NP CE\": \"CERDO Familiar\",\n",
        "    \"RANCHERO 450 GR\": \"EMBUTIDOS Familiar\",\n",
        "    \"BEEF ARM STEAK NP RES\": \"RES Familiar\",\n",
        "    \"PECHUGA CON MOSTAZA\": \"POLLO Personal\",\n",
        "    \"TAPA DE ASADO RES NP\": \"RES Familiar\",\n",
        "    \"SHORT RIBS SH NP RES\": \"RES Personal\",\n",
        "    \"BOCADO REINA NP RES\": \"RES Personal\",\n",
        "    \"COLITA CUADRIL CERDO NP\": \"CERDO Personal\",\n",
        "    \"BACK RIB DE NP RES\": \"RES Personal\",\n",
        "    \"TIRAS DE ASADO NP\": \"RES Familiar\",\n",
        "    \"TAPA PARR. NP RES\": \"RES Personal\",\n",
        "    \"LOMO PARR. NP CERDO\": \"CERDO Personal\",\n",
        "    \"BIFE PULPA NP RES\": \"RES Personal\",\n",
        "    \"BIFE PULPA CERDO\": \"CERDO Familiar\",\n",
        "    \"BIFE ANCHO PER. URUG\": \"RES Personal\",\n",
        "    \"BIFE ANG. PER. URUG\": \"RES Personal\",\n",
        "    \"BONE NEW YORK STEAK 60\": \"RES Familiar\",\n",
        "    \"BONE RIB EYE STEAK 60\": \"RES Familiar\",\n",
        "    \"TOCINO E/V DE CERDO\": \"CERDO Familiar\",\n",
        "    \"OSOBUCO E/V DON EUGENIO\": \"RES Personal\",\n",
        "    \"BIFE ANCHO URUGUAYO\": \"RES Familiar\",\n",
        "    \"TIRAS ASADO PER RES\": \"RES Personal\",\n",
        "    \"LOMO CERDO + 3 CRIOLLO\": \"EMBUTIDOS Personal\",\n",
        "    \"HANGERS STEAK\": \"RES Personal\",\n",
        "    \"ASADO TIRA LOMO FINO\": \"RES Personal\",\n",
        "    \"BONE RIB EYE STEAK 90\": \"RES Familiar\",\n",
        "    \"LOMO FINO CERDO + 3 ARGENTINO\": \"CERDO Personal\",\n",
        "    \"FILETE LOMO FINO CERDO\": \"CERDO Personal\",\n",
        "    \"T-BONE STEAK 30\": \"RES Familiar\",\n",
        "    \"T-BONE STEAK 60\": \"RES Familiar\",\n",
        "    \"PICANA PER. RES NP\": \"RES Personal\",\n",
        "    \"CHULETA S/C PER.NP\": \"CERDO Personal\",\n",
        "    \"COSTILLA S/C PER.NP\": \"CERDO Personal\",\n",
        "    \"COLITA ANGUS URU RES\": \"RES Familiar\",\n",
        "    \"PICANA URU ANGUS RES\": \"RES Familiar\",\n",
        "    \"FALDA PER. RES NP\": \"RES Personal\",\n",
        "    \"PICANA PER URUGUAYA\": \"RES Personal\",\n",
        "    \"BONE NEW YORK STEAK 90\": \"RES Familiar\",\n",
        "    \"PIERNA PAVO AHUMADA\": \"POLLO Personal\",\n",
        "    \"T-BONE STEAK 90\": \"RES Familiar\",\n",
        "    \"PICANA USA ANGUS RES\": \"RES Familiar\",\n",
        "    \"BABY RIBS PER CE NP\": \"CERDO Personal\",\n",
        "    \"TOMAHAWK 30 DIAS\": \"RES Familiar\",\n",
        "    \"COLITA USA ANGUS RE\": \"RES Familiar\",\n",
        "    \"CUADRIL ANGUS RES\": \"RES Familiar\",\n",
        "    \"RIB EYE ANGUS USA\": \"RES Familiar\",\n",
        "    \"TOMAHAWK 60 DIAS\": \"RES Familiar\",\n",
        "    \"JARRA SANGRIA\": \"SANGRIAS Familiar\",\n",
        "    \"JARRA LIMONADA\": \"JUGOS Familiar\",\n",
        "    \"JARRA NARANJA\": \"JUGOS Familiar\",\n",
        "    \"VASO LIMONADA\": \"JUGOS Personal\",\n",
        "    \"VASO NARANJA\": \"JUGOS Personal\",\n",
        "    \"JUGO DE COCO\": \"JUGOS Personal\",\n",
        "    \"JUGO DE MORA\": \"JUGOS Personal\",\n",
        "    \"JUGO DE MARACUYA\": \"JUGOS Personal\",\n",
        "    \"JUGO DE PINA\": \"JUGOS Personal\",\n",
        "    \"JARRA CLERICOT\": \"SANGRIAS Familiar\",\n",
        "    \"LIMONADA IMPERIAL\": \"JUGOS Personal\",\n",
        "    \"MEDIA JARRA NARANJA\": \"JUGOS Personal\",\n",
        "    \"MEDIA JARRA LIMONADA\": \"JUGOS Personal\",\n",
        "    \"MEDIA JARRA SANGRIA\": \"SANGRIAS Personal\",\n",
        "    \"LIMONADA HAWAIIAN\": \"JUGOS Personal\",\n",
        "    \"MEDIA JARRA CLERICOT\": \"SANGRIAS Personal\",\n",
        "    \"LIMONADA BLACKBERRY\": \"JUGOS Personal\",\n",
        "    \"COPA SANGRIA\": \"SANGRIAS Personal\",\n",
        "    \"COPA CLERICOT\": \"SANGRIAS Personal\",\n",
        "    \"LIMONADA PEPINO\": \"JUGOS Personal\"\n",
        "}"
      ],
      "metadata": {
        "colab": {
          "base_uri": "https://localhost:8080/"
        },
        "outputId": "061d96c8-e96c-41c0-83f9-257b175b8514",
        "id": "HfhKJLz343C-"
      },
      "execution_count": null,
      "outputs": [
        {
          "output_type": "stream",
          "name": "stderr",
          "text": [
            "/usr/local/lib/python3.10/dist-packages/ipykernel/ipkernel.py:283: DeprecationWarning: `should_run_async` will not call `transform_cell` automatically in the future. Please pass the result to `transformed_cell` argument and any exception that happen during thetransform in `preprocessing_exc_tuple` in IPython 7.17 and above.\n",
            "  and should_run_async(code)\n"
          ]
        }
      ]
    },
    {
      "cell_type": "code",
      "source": [
        "new_dataNP[\"Tipo Corte\"] = new_dataNP[\"Producto\"].map(tipo_CorteBebida)"
      ],
      "metadata": {
        "colab": {
          "base_uri": "https://localhost:8080/"
        },
        "id": "Rn_7oFqq606s",
        "outputId": "0f31776f-bd2b-4452-c9fc-66e909c5b50d"
      },
      "execution_count": null,
      "outputs": [
        {
          "output_type": "stream",
          "name": "stderr",
          "text": [
            "/usr/local/lib/python3.10/dist-packages/ipykernel/ipkernel.py:283: DeprecationWarning: `should_run_async` will not call `transform_cell` automatically in the future. Please pass the result to `transformed_cell` argument and any exception that happen during thetransform in `preprocessing_exc_tuple` in IPython 7.17 and above.\n",
            "  and should_run_async(code)\n"
          ]
        }
      ]
    },
    {
      "cell_type": "code",
      "source": [
        "new_dataNP.to_csv('data3.csv', index=False)"
      ],
      "metadata": {
        "id": "5hrvCnG0a_EV",
        "colab": {
          "base_uri": "https://localhost:8080/"
        },
        "outputId": "9ce69cd2-530f-42ae-af0e-fe9bd8d0cfe5"
      },
      "execution_count": null,
      "outputs": [
        {
          "output_type": "stream",
          "name": "stderr",
          "text": [
            "/usr/local/lib/python3.10/dist-packages/ipykernel/ipkernel.py:283: DeprecationWarning: `should_run_async` will not call `transform_cell` automatically in the future. Please pass the result to `transformed_cell` argument and any exception that happen during thetransform in `preprocessing_exc_tuple` in IPython 7.17 and above.\n",
            "  and should_run_async(code)\n"
          ]
        }
      ]
    },
    {
      "cell_type": "markdown",
      "source": [
        "##Separación de vinos, bajativos y aperitivos"
      ],
      "metadata": {
        "id": "vQPG6k-Qg1Da"
      }
    },
    {
      "cell_type": "code",
      "source": [
        "tipo_vinos = ['VINO TINTO', 'VINO BLANCO', 'VINO ROSADO', 'ESPUMANTES']\n",
        "data_vinos = new_dataNP[new_dataNP['Tipo de Servicio'].isin(tipo_vinos)]"
      ],
      "metadata": {
        "colab": {
          "base_uri": "https://localhost:8080/"
        },
        "id": "6xbTYTbDc6vY",
        "outputId": "9122ef1c-6ba5-4ddf-ed25-0d456f9fb8f4"
      },
      "execution_count": null,
      "outputs": [
        {
          "output_type": "stream",
          "name": "stderr",
          "text": [
            "/usr/local/lib/python3.10/dist-packages/ipykernel/ipkernel.py:283: DeprecationWarning: `should_run_async` will not call `transform_cell` automatically in the future. Please pass the result to `transformed_cell` argument and any exception that happen during thetransform in `preprocessing_exc_tuple` in IPython 7.17 and above.\n",
            "  and should_run_async(code)\n",
            "/usr/local/lib/python3.10/dist-packages/pandas/core/algorithms.py:522: DeprecationWarning: np.find_common_type is deprecated.  Please use `np.result_type` or `np.promote_types`.\n",
            "See https://numpy.org/devdocs/release/1.25.0-notes.html and the docs for more information.  (Deprecated NumPy 1.25)\n",
            "  common = np.find_common_type([values.dtype, comps_array.dtype], [])\n"
          ]
        }
      ]
    },
    {
      "cell_type": "code",
      "source": [
        "data_vinos = data_vinos.drop_duplicates(subset=['Producto'])"
      ],
      "metadata": {
        "id": "xStH3Tulf1py",
        "colab": {
          "base_uri": "https://localhost:8080/"
        },
        "outputId": "f77267b3-79b0-47c7-e7f6-39278f95b47d"
      },
      "execution_count": null,
      "outputs": [
        {
          "output_type": "stream",
          "name": "stderr",
          "text": [
            "/usr/local/lib/python3.10/dist-packages/ipykernel/ipkernel.py:283: DeprecationWarning: `should_run_async` will not call `transform_cell` automatically in the future. Please pass the result to `transformed_cell` argument and any exception that happen during thetransform in `preprocessing_exc_tuple` in IPython 7.17 and above.\n",
            "  and should_run_async(code)\n"
          ]
        }
      ]
    },
    {
      "cell_type": "code",
      "source": [
        "bajat_aperi = ['COCTELES', 'BEBIDA CALIENTE', 'POSTRES', 'LICORES']\n",
        "data_bajat_aperi = new_dataNP[new_dataNP['Tipo de Servicio'].isin(bajat_aperi)]"
      ],
      "metadata": {
        "id": "Ovc0kx3yg_iv",
        "colab": {
          "base_uri": "https://localhost:8080/"
        },
        "outputId": "e26e4931-d540-44d0-ecd3-25c05c2691af"
      },
      "execution_count": null,
      "outputs": [
        {
          "output_type": "stream",
          "name": "stderr",
          "text": [
            "/usr/local/lib/python3.10/dist-packages/ipykernel/ipkernel.py:283: DeprecationWarning: `should_run_async` will not call `transform_cell` automatically in the future. Please pass the result to `transformed_cell` argument and any exception that happen during thetransform in `preprocessing_exc_tuple` in IPython 7.17 and above.\n",
            "  and should_run_async(code)\n",
            "/usr/local/lib/python3.10/dist-packages/pandas/core/algorithms.py:522: DeprecationWarning: np.find_common_type is deprecated.  Please use `np.result_type` or `np.promote_types`.\n",
            "See https://numpy.org/devdocs/release/1.25.0-notes.html and the docs for more information.  (Deprecated NumPy 1.25)\n",
            "  common = np.find_common_type([values.dtype, comps_array.dtype], [])\n"
          ]
        }
      ]
    },
    {
      "cell_type": "code",
      "source": [
        "data_bajat_aperi = data_bajat_aperi.drop_duplicates(subset=['Producto'])"
      ],
      "metadata": {
        "colab": {
          "base_uri": "https://localhost:8080/"
        },
        "id": "MSfbIwWGUVKn",
        "outputId": "43f80c5b-57d6-4b75-d491-4bb8cdf3915e"
      },
      "execution_count": null,
      "outputs": [
        {
          "output_type": "stream",
          "name": "stderr",
          "text": [
            "/usr/local/lib/python3.10/dist-packages/ipykernel/ipkernel.py:283: DeprecationWarning: `should_run_async` will not call `transform_cell` automatically in the future. Please pass the result to `transformed_cell` argument and any exception that happen during thetransform in `preprocessing_exc_tuple` in IPython 7.17 and above.\n",
            "  and should_run_async(code)\n"
          ]
        }
      ]
    },
    {
      "cell_type": "markdown",
      "source": [
        "ELIMINACIÓN VINOS Y LICORES"
      ],
      "metadata": {
        "id": "8K30BNynhrS6"
      }
    },
    {
      "cell_type": "code",
      "source": [
        "new_dataNP = new_dataNP[~new_dataNP['Tipo de Servicio'].isin(['COCTELES','VINO TINTO', 'VINO BLANCO', 'VINO ROSADO', 'ESPUMANTES', 'BEBIDA CALIENTE', 'POSTRES', 'LICORES'])]"
      ],
      "metadata": {
        "colab": {
          "base_uri": "https://localhost:8080/"
        },
        "id": "DExaqMSThIyR",
        "outputId": "bcac9c1c-46c3-404b-89c2-93509ab803d1"
      },
      "execution_count": null,
      "outputs": [
        {
          "output_type": "stream",
          "name": "stderr",
          "text": [
            "/usr/local/lib/python3.10/dist-packages/ipykernel/ipkernel.py:283: DeprecationWarning: `should_run_async` will not call `transform_cell` automatically in the future. Please pass the result to `transformed_cell` argument and any exception that happen during thetransform in `preprocessing_exc_tuple` in IPython 7.17 and above.\n",
            "  and should_run_async(code)\n",
            "/usr/local/lib/python3.10/dist-packages/pandas/core/algorithms.py:522: DeprecationWarning: np.find_common_type is deprecated.  Please use `np.result_type` or `np.promote_types`.\n",
            "See https://numpy.org/devdocs/release/1.25.0-notes.html and the docs for more information.  (Deprecated NumPy 1.25)\n",
            "  common = np.find_common_type([values.dtype, comps_array.dtype], [])\n"
          ]
        }
      ]
    },
    {
      "cell_type": "markdown",
      "source": [
        "## Análisis de datos"
      ],
      "metadata": {
        "id": "YnKuS5tRLEbH"
      }
    },
    {
      "cell_type": "code",
      "source": [
        "# Total de pedidos y productos\n",
        "print(f\"Número total de pedidos: {new_dataNP['Pedido'].nunique()}\")\n",
        "print(f\"Número total de productos: {new_dataNP['Producto'].nunique()}\")"
      ],
      "metadata": {
        "colab": {
          "base_uri": "https://localhost:8080/"
        },
        "id": "oDZcNvZGLJ3q",
        "outputId": "4b84b20e-19f9-4550-b388-973e35d45ec6"
      },
      "execution_count": null,
      "outputs": [
        {
          "output_type": "stream",
          "name": "stdout",
          "text": [
            "Número total de pedidos: 52219\n",
            "Número total de productos: 215\n"
          ]
        },
        {
          "output_type": "stream",
          "name": "stderr",
          "text": [
            "/usr/local/lib/python3.10/dist-packages/ipykernel/ipkernel.py:283: DeprecationWarning: `should_run_async` will not call `transform_cell` automatically in the future. Please pass the result to `transformed_cell` argument and any exception that happen during thetransform in `preprocessing_exc_tuple` in IPython 7.17 and above.\n",
            "  and should_run_async(code)\n"
          ]
        }
      ]
    },
    {
      "cell_type": "markdown",
      "source": [
        "Promedio de factura por mes"
      ],
      "metadata": {
        "id": "pmxGC4_Bjgxy"
      }
    },
    {
      "cell_type": "code",
      "source": [
        "# Convertir la columna 'Fecha' a datetime\n",
        "new_dataNP['Fecha'] = pd.to_datetime(new_dataNP['Fecha'], format='%m/%d/%Y')\n",
        "\n",
        "# Crear una nueva columna 'Mes' que contenga solo el mes y el año\n",
        "new_dataNP['Mes'] = new_dataNP['Fecha'].dt.to_period('M')\n",
        "\n",
        "# Agrupar por 'Mes' y 'Pedido', y calcular la suma de 'Total' para cada grupo\n",
        "gasto_mensual = new_dataNP.groupby(['Mes', 'Pedido'])['Total'].sum()\n",
        "\n",
        "# Calcular el promedio de gasto por factura mensualmente\n",
        "promedio_gasto_mensual = gasto_mensual.groupby('Mes').mean()\n",
        "\n",
        "print(promedio_gasto_mensual)\n"
      ],
      "metadata": {
        "colab": {
          "base_uri": "https://localhost:8080/"
        },
        "id": "0quuLXjjR14-",
        "outputId": "ea28e3d1-2ddb-474f-901c-fac235f87d1d"
      },
      "execution_count": null,
      "outputs": [
        {
          "output_type": "stream",
          "name": "stderr",
          "text": [
            "/usr/local/lib/python3.10/dist-packages/ipykernel/ipkernel.py:283: DeprecationWarning: `should_run_async` will not call `transform_cell` automatically in the future. Please pass the result to `transformed_cell` argument and any exception that happen during thetransform in `preprocessing_exc_tuple` in IPython 7.17 and above.\n",
            "  and should_run_async(code)\n"
          ]
        },
        {
          "output_type": "stream",
          "name": "stdout",
          "text": [
            "Mes\n",
            "2023-01    61.838319\n",
            "2023-02    62.686636\n",
            "2023-03    64.283002\n",
            "2023-04    57.899288\n",
            "2023-05    53.410531\n",
            "2023-06    61.620920\n",
            "2023-07    63.703584\n",
            "2023-08    64.498980\n",
            "2023-09    64.752206\n",
            "2023-10    64.001539\n",
            "2023-11    62.422970\n",
            "2023-12    72.997599\n",
            "Freq: M, Name: Total, dtype: float64\n"
          ]
        }
      ]
    },
    {
      "cell_type": "code",
      "source": [
        "# Convertir el índice 'Mes' a datetime para poder graficarlo\n",
        "promedio_gasto_mensual.index = promedio_gasto_mensual.index.to_timestamp()\n",
        "\n",
        "# Crear la gráfica de líneas\n",
        "plt.figure(figsize=(10, 6))\n",
        "plt.plot(promedio_gasto_mensual, marker='o', linestyle='-')\n",
        "plt.title('Promedio de gasto por factura mensualmente')\n",
        "plt.xlabel('Mes')\n",
        "plt.ylabel('Promedio de gasto')\n",
        "plt.grid(True)\n",
        "plt.show()"
      ],
      "metadata": {
        "colab": {
          "base_uri": "https://localhost:8080/",
          "height": 619
        },
        "id": "ZVb-163EaSkw",
        "outputId": "1371df39-afdc-47da-e969-68518cf86297"
      },
      "execution_count": null,
      "outputs": [
        {
          "output_type": "stream",
          "name": "stderr",
          "text": [
            "/usr/local/lib/python3.10/dist-packages/ipykernel/ipkernel.py:283: DeprecationWarning: `should_run_async` will not call `transform_cell` automatically in the future. Please pass the result to `transformed_cell` argument and any exception that happen during thetransform in `preprocessing_exc_tuple` in IPython 7.17 and above.\n",
            "  and should_run_async(code)\n"
          ]
        },
        {
          "output_type": "display_data",
          "data": {
            "text/plain": [
              "<Figure size 1000x600 with 1 Axes>"
            ],
            "image/png": "[encoded data removed]"
          },
          "metadata": {}
        }
      ]
    },
    {
      "cell_type": "code",
      "source": [
        "# prompt: productos unicos por factura mensual\n",
        "\n",
        "# Contar el número de productos únicos por pedido\n",
        "productos_unicos_por_pedido = new_dataNP.groupby(['Mes', 'Pedido'])['Producto'].nunique()\n",
        "\n",
        "# Calcular el promedio de productos únicos vendidos por pedido mensualmente\n",
        "promedio_productos_unicos_mensual = productos_unicos_por_pedido.groupby('Mes').mean()\n",
        "\n",
        "print(promedio_productos_unicos_mensual)\n"
      ],
      "metadata": {
        "colab": {
          "base_uri": "https://localhost:8080/"
        },
        "id": "WF70dVUfnHWO",
        "outputId": "353757f4-c6d2-4bcd-85a2-a85bb0eccc03"
      },
      "execution_count": null,
      "outputs": [
        {
          "output_type": "stream",
          "name": "stderr",
          "text": [
            "/usr/local/lib/python3.10/dist-packages/ipykernel/ipkernel.py:283: DeprecationWarning: `should_run_async` will not call `transform_cell` automatically in the future. Please pass the result to `transformed_cell` argument and any exception that happen during thetransform in `preprocessing_exc_tuple` in IPython 7.17 and above.\n",
            "  and should_run_async(code)\n"
          ]
        },
        {
          "output_type": "stream",
          "name": "stdout",
          "text": [
            "Mes\n",
            "2023-01    8.434754\n",
            "2023-02    8.426790\n",
            "2023-03    8.753519\n",
            "2023-04    8.569489\n",
            "2023-05    7.773285\n",
            "2023-06    8.388798\n",
            "2023-07    8.265152\n",
            "2023-08    8.349662\n",
            "2023-09    8.247458\n",
            "2023-10    8.215299\n",
            "2023-11    8.133378\n",
            "2023-12    8.471652\n",
            "Freq: M, Name: Producto, dtype: float64\n"
          ]
        }
      ]
    },
    {
      "cell_type": "markdown",
      "source": [
        "En el gráfico anterior es complicado ver una separación de dos franjas que separe el año en dos semestres, es por ello que al organizarlos de mayor a menor, se puede dividir en meses mayor a 8.5 productos únicos por canasta y menor o igual a 8.5 productos por canasta. Es importante señalar que las reglas de asociación toma en consideración los productos únicos que llevan por canasta, mas no las cantidades de cada uno."
      ],
      "metadata": {
        "id": "sLSzsbYZj-e5"
      }
    },
    {
      "cell_type": "markdown",
      "source": [
        "## SIN PERSONALIZACIÓN"
      ],
      "metadata": {
        "id": "y-7Nn5AZPUEw"
      }
    },
    {
      "cell_type": "markdown",
      "source": [
        "En este data set, solo se separará los horarios establecidos anteriormente."
      ],
      "metadata": {
        "id": "-e-DEohWBBCi"
      }
    },
    {
      "cell_type": "code",
      "source": [
        "new_dataNP_unicos = new_dataNP.drop_duplicates(subset=['Pedido', 'Producto'])\n",
        "new_dataNP_unicos.head(5)"
      ],
      "metadata": {
        "colab": {
          "base_uri": "https://localhost:8080/",
          "height": 261
        },
        "id": "LgxYBUvGBQtg",
        "outputId": "a3a7896d-0010-462d-eeab-7a22411cc0d7"
      },
      "execution_count": null,
      "outputs": [
        {
          "output_type": "stream",
          "name": "stderr",
          "text": [
            "/usr/local/lib/python3.10/dist-packages/ipykernel/ipkernel.py:283: DeprecationWarning: `should_run_async` will not call `transform_cell` automatically in the future. Please pass the result to `transformed_cell` argument and any exception that happen during thetransform in `preprocessing_exc_tuple` in IPython 7.17 and above.\n",
            "  and should_run_async(code)\n"
          ]
        },
        {
          "output_type": "execute_result",
          "data": {
            "text/plain": [
              "0      Pedido            Producto  Cant. Total      Grupo       Sub Grupo  \\\n",
              "1  2300000001        MORO RISOTTO    1.0   7.3  ALIMENTOS            MENU   \n",
              "2  2300000001        PAPA RELLENA    1.0     5  ALIMENTOS            MENU   \n",
              "3  2300000001        SPRITE 500ML    1.0   2.3    BEBIDAS  NO ALCOHOLICAS   \n",
              "4  2300000001     COCA COLA 500ML    1.0   2.3    BEBIDAS  NO ALCOHOLICAS   \n",
              "5  2300000001  MIX PARRILLERO P#3    1.0  2.48  ALIMENTOS        PARRILLA   \n",
              "\n",
              "0 Tipo de Servicio      Fecha   Hora  \n",
              "1     GUARNICIONES 2023-01-01  12:39  \n",
              "2     GUARNICIONES 2023-01-01  12:39  \n",
              "3         GASEOSAS 2023-01-01  12:39  \n",
              "4         GASEOSAS 2023-01-01  12:39  \n",
              "5        EMBUTIDOS 2023-01-01  12:39  "
            ],
            "text/html": [
              "\n",
              "  <div id=\"df-4977ac35-850c-4e33-a799-c819030f1d2f\" class=\"colab-df-container\">\n",
              "    <div>\n",
              "<style scoped>\n",
              "    .dataframe tbody tr th:only-of-type {\n",
              "        vertical-align: middle;\n",
              "    }\n",
              "\n",
              "    .dataframe tbody tr th {\n",
              "        vertical-align: top;\n",
              "    }\n",
              "\n",
              "    .dataframe thead th {\n",
              "        text-align: right;\n",
              "    }\n",
              "</style>\n",
              "<table border=\"1\" class=\"dataframe\">\n",
              "  <thead>\n",
              "    <tr style=\"text-align: right;\">\n",
              "      <th></th>\n",
              "      <th>Pedido</th>\n",
              "      <th>Producto</th>\n",
              "      <th>Cant.</th>\n",
              "      <th>Total</th>\n",
              "      <th>Grupo</th>\n",
              "      <th>Sub Grupo</th>\n",
              "      <th>Tipo de Servicio</th>\n",
              "      <th>Fecha</th>\n",
              "      <th>Hora</th>\n",
              "    </tr>\n",
              "  </thead>\n",
              "  <tbody>\n",
              "    <tr>\n",
              "      <th>1</th>\n",
              "      <td>2300000001</td>\n",
              "      <td>MORO RISOTTO</td>\n",
              "      <td>1.0</td>\n",
              "      <td>7.3</td>\n",
              "      <td>ALIMENTOS</td>\n",
              "      <td>MENU</td>\n",
              "      <td>GUARNICIONES</td>\n",
              "      <td>2023-01-01</td>\n",
              "      <td>12:39</td>\n",
              "    </tr>\n",
              "    <tr>\n",
              "      <th>2</th>\n",
              "      <td>2300000001</td>\n",
              "      <td>PAPA RELLENA</td>\n",
              "      <td>1.0</td>\n",
              "      <td>5</td>\n",
              "      <td>ALIMENTOS</td>\n",
              "      <td>MENU</td>\n",
              "      <td>GUARNICIONES</td>\n",
              "      <td>2023-01-01</td>\n",
              "      <td>12:39</td>\n",
              "    </tr>\n",
              "    <tr>\n",
              "      <th>3</th>\n",
              "      <td>2300000001</td>\n",
              "      <td>SPRITE 500ML</td>\n",
              "      <td>1.0</td>\n",
              "      <td>2.3</td>\n",
              "      <td>BEBIDAS</td>\n",
              "      <td>NO ALCOHOLICAS</td>\n",
              "      <td>GASEOSAS</td>\n",
              "      <td>2023-01-01</td>\n",
              "      <td>12:39</td>\n",
              "    </tr>\n",
              "    <tr>\n",
              "      <th>4</th>\n",
              "      <td>2300000001</td>\n",
              "      <td>COCA COLA 500ML</td>\n",
              "      <td>1.0</td>\n",
              "      <td>2.3</td>\n",
              "      <td>BEBIDAS</td>\n",
              "      <td>NO ALCOHOLICAS</td>\n",
              "      <td>GASEOSAS</td>\n",
              "      <td>2023-01-01</td>\n",
              "      <td>12:39</td>\n",
              "    </tr>\n",
              "    <tr>\n",
              "      <th>5</th>\n",
              "      <td>2300000001</td>\n",
              "      <td>MIX PARRILLERO P#3</td>\n",
              "      <td>1.0</td>\n",
              "      <td>2.48</td>\n",
              "      <td>ALIMENTOS</td>\n",
              "      <td>PARRILLA</td>\n",
              "      <td>EMBUTIDOS</td>\n",
              "      <td>2023-01-01</td>\n",
              "      <td>12:39</td>\n",
              "    </tr>\n",
              "  </tbody>\n",
              "</table>\n",
              "</div>\n",
              "    <div class=\"colab-df-buttons\">\n",
              "\n",
              "  <div class=\"colab-df-container\">\n",
              "    <button class=\"colab-df-convert\" onclick=\"convertToInteractive('df-4977ac35-850c-4e33-a799-c819030f1d2f')\"\n",
              "            title=\"Convert this dataframe to an interactive table.\"\n",
              "            style=\"display:none;\">\n",
              "\n",
              "  <svg xmlns=\"http://www.w3.org/2000/svg\" height=\"24px\" viewBox=\"0 -960 960 960\">\n",
              "    <path d=\"M120-120v-720h720v720H120Zm60-500h600v-160H180v160Zm220 220h160v-160H400v160Zm0 220h160v-160H400v160ZM180-400h160v-160H180v160Zm440 0h160v-160H620v160ZM180-180h160v-160H180v160Zm440 0h160v-160H620v160Z\"/>\n",
              "  </svg>\n",
              "    </button>\n",
              "\n",
              "  <style>\n",
              "    .colab-df-container {\n",
              "      display:flex;\n",
              "      gap: 12px;\n",
              "    }\n",
              "\n",
              "    .colab-df-convert {\n",
              "      background-color: #E8F0FE;\n",
              "      border: none;\n",
              "      border-radius: 50%;\n",
              "      cursor: pointer;\n",
              "      display: none;\n",
              "      fill: #1967D2;\n",
              "      height: 32px;\n",
              "      padding: 0 0 0 0;\n",
              "      width: 32px;\n",
              "    }\n",
              "\n",
              "    .colab-df-convert:hover {\n",
              "      background-color: #E2EBFA;\n",
              "      box-shadow: 0px 1px 2px rgba(60, 64, 67, 0.3), 0px 1px 3px 1px rgba(60, 64, 67, 0.15);\n",
              "      fill: #174EA6;\n",
              "    }\n",
              "\n",
              "    .colab-df-buttons div {\n",
              "      margin-bottom: 4px;\n",
              "    }\n",
              "\n",
              "    [theme=dark] .colab-df-convert {\n",
              "      background-color: #3B4455;\n",
              "      fill: #D2E3FC;\n",
              "    }\n",
              "\n",
              "    [theme=dark] .colab-df-convert:hover {\n",
              "      background-color: #434B5C;\n",
              "      box-shadow: 0px 1px 3px 1px rgba(0, 0, 0, 0.15);\n",
              "      filter: drop-shadow(0px 1px 2px rgba(0, 0, 0, 0.3));\n",
              "      fill: #FFFFFF;\n",
              "    }\n",
              "  </style>\n",
              "\n",
              "    <script>\n",
              "      const buttonEl =\n",
              "        document.querySelector('#df-4977ac35-850c-4e33-a799-c819030f1d2f button.colab-df-convert');\n",
              "      buttonEl.style.display =\n",
              "        google.colab.kernel.accessAllowed ? 'block' : 'none';\n",
              "\n",
              "      async function convertToInteractive(key) {\n",
              "        const element = document.querySelector('#df-4977ac35-850c-4e33-a799-c819030f1d2f');\n",
              "        const dataTable =\n",
              "          await google.colab.kernel.invokeFunction('convertToInteractive',\n",
              "                                                    [key], {});\n",
              "        if (!dataTable) return;\n",
              "\n",
              "        const docLinkHtml = 'Like what you see? Visit the ' +\n",
              "          '<a target=\"_blank\" href=https://colab.research.google.com/notebooks/data_table.ipynb>data table notebook</a>'\n",
              "          + ' to learn more about interactive tables.';\n",
              "        element.innerHTML = '';\n",
              "        dataTable['output_type'] = 'display_data';\n",
              "        await google.colab.output.renderOutput(dataTable, element);\n",
              "        const docLink = document.createElement('div');\n",
              "        docLink.innerHTML = docLinkHtml;\n",
              "        element.appendChild(docLink);\n",
              "      }\n",
              "    </script>\n",
              "  </div>\n",
              "\n",
              "\n",
              "<div id=\"df-94bbd886-c4dd-4f6e-8bfa-7f9f96dfa671\">\n",
              "  <button class=\"colab-df-quickchart\" onclick=\"quickchart('df-94bbd886-c4dd-4f6e-8bfa-7f9f96dfa671')\"\n",
              "            title=\"Suggest charts\"\n",
              "            style=\"display:none;\">\n",
              "\n",
              "<svg xmlns=\"http://www.w3.org/2000/svg\" height=\"24px\"viewBox=\"0 0 24 24\"\n",
              "     width=\"24px\">\n",
              "    <g>\n",
              "        <path d=\"M19 3H5c-1.1 0-2 .9-2 2v14c0 1.1.9 2 2 2h14c1.1 0 2-.9 2-2V5c0-1.1-.9-2-2-2zM9 17H7v-7h2v7zm4 0h-2V7h2v10zm4 0h-2v-4h2v4z\"/>\n",
              "    </g>\n",
              "</svg>\n",
              "  </button>\n",
              "\n",
              "<style>\n",
              "  .colab-df-quickchart {\n",
              "      --bg-color: #E8F0FE;\n",
              "      --fill-color: #1967D2;\n",
              "      --hover-bg-color: #E2EBFA;\n",
              "      --hover-fill-color: #174EA6;\n",
              "      --disabled-fill-color: #AAA;\n",
              "      --disabled-bg-color: #DDD;\n",
              "  }\n",
              "\n",
              "  [theme=dark] .colab-df-quickchart {\n",
              "      --bg-color: #3B4455;\n",
              "      --fill-color: #D2E3FC;\n",
              "      --hover-bg-color: #434B5C;\n",
              "      --hover-fill-color: #FFFFFF;\n",
              "      --disabled-bg-color: #3B4455;\n",
              "      --disabled-fill-color: #666;\n",
              "  }\n",
              "\n",
              "  .colab-df-quickchart {\n",
              "    background-color: var(--bg-color);\n",
              "    border: none;\n",
              "    border-radius: 50%;\n",
              "    cursor: pointer;\n",
              "    display: none;\n",
              "    fill: var(--fill-color);\n",
              "    height: 32px;\n",
              "    padding: 0;\n",
              "    width: 32px;\n",
              "  }\n",
              "\n",
              "  .colab-df-quickchart:hover {\n",
              "    background-color: var(--hover-bg-color);\n",
              "    box-shadow: 0 1px 2px rgba(60, 64, 67, 0.3), 0 1px 3px 1px rgba(60, 64, 67, 0.15);\n",
              "    fill: var(--button-hover-fill-color);\n",
              "  }\n",
              "\n",
              "  .colab-df-quickchart-complete:disabled,\n",
              "  .colab-df-quickchart-complete:disabled:hover {\n",
              "    background-color: var(--disabled-bg-color);\n",
              "    fill: var(--disabled-fill-color);\n",
              "    box-shadow: none;\n",
              "  }\n",
              "\n",
              "  .colab-df-spinner {\n",
              "    border: 2px solid var(--fill-color);\n",
              "    border-color: transparent;\n",
              "    border-bottom-color: var(--fill-color);\n",
              "    animation:\n",
              "      spin 1s steps(1) infinite;\n",
              "  }\n",
              "\n",
              "  @keyframes spin {\n",
              "    0% {\n",
              "      border-color: transparent;\n",
              "      border-bottom-color: var(--fill-color);\n",
              "      border-left-color: var(--fill-color);\n",
              "    }\n",
              "    20% {\n",
              "      border-color: transparent;\n",
              "      border-left-color: var(--fill-color);\n",
              "      border-top-color: var(--fill-color);\n",
              "    }\n",
              "    30% {\n",
              "      border-color: transparent;\n",
              "      border-left-color: var(--fill-color);\n",
              "      border-top-color: var(--fill-color);\n",
              "      border-right-color: var(--fill-color);\n",
              "    }\n",
              "    40% {\n",
              "      border-color: transparent;\n",
              "      border-right-color: var(--fill-color);\n",
              "      border-top-color: var(--fill-color);\n",
              "    }\n",
              "    60% {\n",
              "      border-color: transparent;\n",
              "      border-right-color: var(--fill-color);\n",
              "    }\n",
              "    80% {\n",
              "      border-color: transparent;\n",
              "      border-right-color: var(--fill-color);\n",
              "      border-bottom-color: var(--fill-color);\n",
              "    }\n",
              "    90% {\n",
              "      border-color: transparent;\n",
              "      border-bottom-color: var(--fill-color);\n",
              "    }\n",
              "  }\n",
              "</style>\n",
              "\n",
              "  <script>\n",
              "    async function quickchart(key) {\n",
              "      const quickchartButtonEl =\n",
              "        document.querySelector('#' + key + ' button');\n",
              "      quickchartButtonEl.disabled = true;  // To prevent multiple clicks.\n",
              "      quickchartButtonEl.classList.add('colab-df-spinner');\n",
              "      try {\n",
              "        const charts = await google.colab.kernel.invokeFunction(\n",
              "            'suggestCharts', [key], {});\n",
              "      } catch (error) {\n",
              "        console.error('Error during call to suggestCharts:', error);\n",
              "      }\n",
              "      quickchartButtonEl.classList.remove('colab-df-spinner');\n",
              "      quickchartButtonEl.classList.add('colab-df-quickchart-complete');\n",
              "    }\n",
              "    (() => {\n",
              "      let quickchartButtonEl =\n",
              "        document.querySelector('#df-94bbd886-c4dd-4f6e-8bfa-7f9f96dfa671 button');\n",
              "      quickchartButtonEl.style.display =\n",
              "        google.colab.kernel.accessAllowed ? 'block' : 'none';\n",
              "    })();\n",
              "  </script>\n",
              "</div>\n",
              "\n",
              "    </div>\n",
              "  </div>\n"
            ],
            "application/vnd.google.colaboratory.intrinsic+json": {
              "type": "dataframe",
              "variable_name": "new_dataNP_unicos"
            }
          },
          "metadata": {},
          "execution_count": 37
        }
      ]
    },
    {
      "cell_type": "code",
      "source": [
        "sin_personalizacion_tarde = new_dataNP_unicos[new_dataNP_unicos['Hora'].between('12:00', '15:00')]\n",
        "sin_personalizacion_mediatarde = new_dataNP_unicos[new_dataNP_unicos['Hora'].between('15:01', '18:00')]\n",
        "sin_personalizacion_noche = new_dataNP_unicos[new_dataNP_unicos['Hora'].between('18:01', '22:00')]"
      ],
      "metadata": {
        "colab": {
          "base_uri": "https://localhost:8080/"
        },
        "outputId": "f482b4b5-0fea-435d-fd9f-2f1aa3bc9ed9",
        "id": "S5Cy9ov5A_fA"
      },
      "execution_count": null,
      "outputs": [
        {
          "output_type": "stream",
          "name": "stderr",
          "text": [
            "/usr/local/lib/python3.10/dist-packages/ipykernel/ipkernel.py:283: DeprecationWarning: `should_run_async` will not call `transform_cell` automatically in the future. Please pass the result to `transformed_cell` argument and any exception that happen during thetransform in `preprocessing_exc_tuple` in IPython 7.17 and above.\n",
            "  and should_run_async(code)\n"
          ]
        }
      ]
    },
    {
      "cell_type": "code",
      "source": [
        "sin_personalizacion_tarde.to_csv('sin_personalizacion_tarde.csv', index = False)\n",
        "sin_personalizacion_mediatarde.to_csv('sin_personalizacion_mediatarde.csv', index = False)\n",
        "sin_personalizacion_noche.to_csv('sin_personalizacion_noche.csv', index = False)"
      ],
      "metadata": {
        "colab": {
          "base_uri": "https://localhost:8080/"
        },
        "outputId": "edbcf643-1ea3-4698-b7c5-82d9d9784c86",
        "id": "n1KPTRRtA_fD"
      },
      "execution_count": null,
      "outputs": [
        {
          "output_type": "stream",
          "name": "stderr",
          "text": [
            "/usr/local/lib/python3.10/dist-packages/ipykernel/ipkernel.py:283: DeprecationWarning: `should_run_async` will not call `transform_cell` automatically in the future. Please pass the result to `transformed_cell` argument and any exception that happen during thetransform in `preprocessing_exc_tuple` in IPython 7.17 and above.\n",
            "  and should_run_async(code)\n"
          ]
        }
      ]
    },
    {
      "cell_type": "markdown",
      "source": [
        "## PERSONALIZACIÓN NIVEL 1"
      ],
      "metadata": {
        "id": "7DkA0uT8pUkj"
      }
    },
    {
      "cell_type": "markdown",
      "source": [
        "Para el primer nivel de personalización, se combinarán los nombres de las proteínas con la columna \"Tipo de servicio\" añadiendo \"Personal\" o \"Familiar\", según el tipo de corte. Esta información se obtiene de registros de la empresa que se utilizan para realizar los pedidos en cuanto a las proteínas mencionadas. El data set tendrá como nombre new_dataNP3"
      ],
      "metadata": {
        "id": "ZnJWE5uxQTjb"
      }
    },
    {
      "cell_type": "markdown",
      "source": [
        "### Reemplazos"
      ],
      "metadata": {
        "id": "jbGtlo0NfQI4"
      }
    },
    {
      "cell_type": "code",
      "source": [
        "# Creando un diccionario con los nombres antiguos como claves y los nuevos nombres como valores\n",
        "reemplazos_tipo_corte = {\n",
        "    \"MIX PARRILLERO P#3\": \"EMBUTIDOS Personal\",\n",
        "    \"BIFE ANCHO NP RES\": \"RES Personal\",\n",
        "    \"BIFE ANCHO NP CERDO\": \"CERDO Personal\",\n",
        "    \"ARGENTINO X3\": \"EMBUTIDOS Personal\",\n",
        "    \"PICANA DE RES NP\": \"RES Familiar\",\n",
        "    \"PECHUGA FILETE 300G\": \"POLLO Personal\",\n",
        "    \"ENTRANA FINA NP RES\": \"RES Personal\",\n",
        "    \"TOMAHAWK CERDO NP\": \"CERDO Personal\",\n",
        "    \"BONE NEW YORK STEAK 30\": \"RES Familiar\",\n",
        "    \"MIX PARRILLERO P#2\": \"EMBUTIDOS Personal\",\n",
        "    \"PECHUGA FINAS HIERB\": \"POLLO Personal\",\n",
        "    \"BUTIFARRA 450 GR\": \"EMBUTIDOS Familiar\",\n",
        "    \"CHULETA PARR. NP CERDO\": \"CERDO Personal\",\n",
        "    \"BUTIFARRA X3\": \"EMBUTIDOS Personal\",\n",
        "    \"COSTILLA ESP. CERDO NP\": \"CERDO Personal\",\n",
        "    \"BIFE C/HUESO NP RES\": \"RES Personal\",\n",
        "    \"PANCETA PER. NP CER\": \"CERDO Personal\",\n",
        "    \"BIFE MARUCHA NP RES\": \"RES Personal\",\n",
        "    \"TAPA MATAMBRE PE CE\": \"CERDO Personal\",\n",
        "    \"CHINCHULIN\": \"RES Personal\",\n",
        "    \"T-BONE DE NP RES\": \"RES Personal\",\n",
        "    \"MIX PARRILLERO P#1\": \"EMBUTIDOS Familiar\",\n",
        "    \"PECHITO DE NP CERDO\": \"CERDO Personal\",\n",
        "    \"TOCINETA C/C NP CER\": \"CERDO Familiar\",\n",
        "    \"MORCILLA X3\": \"EMBUTIDOS Personal\",\n",
        "    \"BONE RIB EYE STEAK 30\": \"RES Familiar\",\n",
        "    \"PIERNAS Y CAD. AHUM\": \"POLLO Personal\",\n",
        "    \"ARGENTINO 450GR\": \"EMBUTIDOS Familiar\",\n",
        "    \"BABY RIBS CERDO NP\": \"CERDO Familiar\",\n",
        "    \"CHORIZO LIBANES\": \"EMBUTIDOS Familiar\",\n",
        "    \"BIFE CHORIZO NP RES\": \"RES Familiar\",\n",
        "    \"CRIOLLO 300 GR\": \"EMBUTIDOS Personal\",\n",
        "    \"PECHUGA CANTONESA\": \"POLLO Personal\",\n",
        "    \"CHISTORRA 250 GR\": \"EMBUTIDOS Personal\",\n",
        "    \"TOCINETA SC CERD NP\": \"CERDO Familiar\",\n",
        "    \"ARTESANAL X3\": \"EMBUTIDOS Personal\",\n",
        "    \"TOCINETA S/C PER CE\": \"CERDO Personal\",\n",
        "    \"CHORIZO JALAPENO\": \"EMBUTIDOS Familiar\",\n",
        "    \"MATAMBRE CERDO NP\": \"CERDO Familiar\",\n",
        "    \"LONGANIZA 450 GR\": \"EMBUTIDOS Familiar\",\n",
        "    \"BUTIFARRA PAR 450GR\": \"EMBUTIDOS Familiar\",\n",
        "    \"TOMAHAWK STEAK NP RES\": \"RES Familiar\",\n",
        "    \"ARTESANAL X6\": \"EMBUTIDOS Familiar\",\n",
        "    \"CHORIZO AL VINO\": \"EMBUTIDOS Familiar\",\n",
        "    \"BIFE ANGOSTO NP RES\": \"RES Personal\",\n",
        "    \"CUENCANO X3\": \"EMBUTIDOS Personal\",\n",
        "    \"CUADRIL NP RES\": \"RES Familiar\",\n",
        "    \"PANCETA CERDO NP\": \"CERDO Familiar\",\n",
        "    \"ROAST BEEF NP RES\": \"RES Personal\",\n",
        "    \"COLITA CUADRIL NP RES\": \"RES Familiar\",\n",
        "    \"BIFE ANGOSTO NP CERDO\": \"CERDO Personal\",\n",
        "    \"RIB EYE E/V DON EUGENIO NP\": \"RES Personal\",\n",
        "    \"LOMO FINO RES+3 ARG\": \"EMBUTIDOS Personal\",\n",
        "    \"CHORIZO ESPANOL\": \"EMBUTIDOS Familiar\",\n",
        "    \"PICANA DE CERDO NP\": \"CERDO Familiar\",\n",
        "    \"FALDA PARR. NP RES\": \"RES Familiar\",\n",
        "    \"CUENCANO 450 GR\": \"EMBUTIDOS Familiar\",\n",
        "    \"MORCILLA 450 GR\": \"EMBUTIDOS Familiar\",\n",
        "    \"BRAZO CERDO AHUMADO\": \"CERDO Familiar\",\n",
        "    \"BACK RIBS DE NP CER\": \"CERDO Familiar\",\n",
        "    \"CERVECERO 450 GR\": \"EMBUTIDOS Familiar\",\n",
        "    \"CHORIZO ALEMAN\": \"EMBUTIDOS Familiar\",\n",
        "    \"ENTRANA NP RES\": \"RES Personal\",\n",
        "    \"CHORIZO ITALIANO\": \"EMBUTIDOS Familiar\",\n",
        "    \"TAPA MATAMBRE NP CE\": \"CERDO Familiar\",\n",
        "    \"RANCHERO 450 GR\": \"EMBUTIDOS Familiar\",\n",
        "    \"BEEF ARM STEAK NP RES\": \"RES Familiar\",\n",
        "    \"PECHUGA CON MOSTAZA\": \"POLLO Personal\",\n",
        "    \"TAPA DE ASADO RES NP\": \"RES Familiar\",\n",
        "    \"SHORT RIBS SH NP RES\": \"RES Personal\",\n",
        "    \"BOCADO REINA NP RES\": \"RES Personal\",\n",
        "    \"COLITA CUADRIL CERDO NP\": \"CERDO Personal\",\n",
        "    \"BACK RIB DE NP RES\": \"RES Personal\",\n",
        "    \"TIRAS DE ASADO NP\": \"RES Familiar\",\n",
        "    \"TAPA PARR. NP RES\": \"RES Personal\",\n",
        "    \"LOMO PARR. NP CERDO\": \"CERDO Personal\",\n",
        "    \"BIFE PULPA NP RES\": \"RES Personal\",\n",
        "    \"BIFE PULPA CERDO\": \"CERDO Familiar\",\n",
        "    \"BIFE ANCHO PER. URUG\": \"RES Personal\",\n",
        "    \"BIFE ANG. PER. URUG\": \"RES Personal\",\n",
        "    \"BONE NEW YORK STEAK 60\": \"RES Familiar\",\n",
        "    \"BONE RIB EYE STEAK 60\": \"RES Familiar\",\n",
        "    \"TOCINO E/V DE CERDO\": \"CERDO Familiar\",\n",
        "    \"OSOBUCO E/V DON EUGENIO\": \"RES Personal\",\n",
        "    \"BIFE ANCHO URUGUAYO\": \"RES Familiar\",\n",
        "    \"TIRAS ASADO PER RES\": \"RES Personal\",\n",
        "    \"LOMO CERDO + 3 CRIOLLO\": \"EMBUTIDOS Personal\",\n",
        "    \"HANGERS STEAK\": \"RES Personal\",\n",
        "    \"ASADO TIRA LOMO FINO\": \"RES Personal\",\n",
        "    \"BONE RIB EYE STEAK 90\": \"RES Familiar\",\n",
        "    \"LOMO FINO CERDO + 3 ARGENTINO\": \"CERDO Personal\",\n",
        "    \"FILETE LOMO FINO CERDO\": \"CERDO Personal\",\n",
        "    \"T-BONE STEAK 30\": \"RES Familiar\",\n",
        "    \"T-BONE STEAK 60\": \"RES Familiar\",\n",
        "    \"PICANA PER. RES NP\": \"RES Personal\",\n",
        "    \"CHULETA S/C PER.NP\": \"CERDO Personal\",\n",
        "    \"COSTILLA S/C PER.NP\": \"CERDO Personal\",\n",
        "    \"COLITA ANGUS URU RES\": \"RES Familiar\",\n",
        "    \"PICANA URU ANGUS RES\": \"RES Familiar\",\n",
        "    \"FALDA PER. RES NP\": \"RES Personal\",\n",
        "    \"PICANA PER URUGUAYA\": \"RES Personal\",\n",
        "    \"BONE NEW YORK STEAK 90\": \"RES Familiar\",\n",
        "    \"PIERNA PAVO AHUMADA\": \"POLLO Personal\",\n",
        "    \"T-BONE STEAK 90\": \"RES Familiar\",\n",
        "    \"PICANA USA ANGUS RES\": \"RES Familiar\",\n",
        "    \"BABY RIBS PER CE NP\": \"CERDO Personal\",\n",
        "    \"TOMAHAWK 30 DIAS\": \"RES Familiar\",\n",
        "    \"COLITA USA ANGUS RE\": \"RES Familiar\",\n",
        "    \"CUADRIL ANGUS RES\": \"RES Familiar\",\n",
        "    \"RIB EYE ANGUS USA\": \"RES Familiar\",\n",
        "    \"TOMAHAWK 60 DIAS\": \"RES Familiar\"\n",
        "}"
      ],
      "metadata": {
        "id": "5usfqalGQuS1",
        "colab": {
          "base_uri": "https://localhost:8080/"
        },
        "outputId": "f5b1aa57-bad5-44f1-9e59-be4249b176bb"
      },
      "execution_count": null,
      "outputs": [
        {
          "output_type": "stream",
          "name": "stderr",
          "text": [
            "/usr/local/lib/python3.10/dist-packages/ipykernel/ipkernel.py:283: DeprecationWarning: `should_run_async` will not call `transform_cell` automatically in the future. Please pass the result to `transformed_cell` argument and any exception that happen during thetransform in `preprocessing_exc_tuple` in IPython 7.17 and above.\n",
            "  and should_run_async(code)\n"
          ]
        }
      ]
    },
    {
      "cell_type": "code",
      "source": [
        "reemplazos_tipo_bebida = {\n",
        "    \"JARRA SANGRIA\": \"SANGRIAS Familiar\",\n",
        "    \"JARRA LIMONADA\": \"JUGOS Familiar\",\n",
        "    \"JARRA NARANJA\": \"JUGOS Familiar\",\n",
        "    \"VASO LIMONADA\": \"JUGOS Personal\",\n",
        "    \"VASO NARANJA\": \"JUGOS Personal\",\n",
        "    \"JUGO DE COCO\": \"JUGOS Personal\",\n",
        "    \"JUGO DE MORA\": \"JUGOS Personal\",\n",
        "    \"JUGO DE MARACUYA\": \"JUGOS Personal\",\n",
        "    \"JUGO DE PINA\": \"JUGOS Personal\",\n",
        "    \"JARRA CLERICOT\": \"SANGRIAS Familiar\",\n",
        "    \"LIMONADA IMPERIAL\": \"JUGOS Personal\",\n",
        "    \"MEDIA JARRA NARANJA\": \"JUGOS Personal\",\n",
        "    \"MEDIA JARRA LIMONADA\": \"JUGOS Personal\",\n",
        "    \"MEDIA JARRA SANGRIA\": \"SANGRIAS Personal\",\n",
        "    \"LIMONADA HAWAIIAN\": \"JUGOS Personal\",\n",
        "    \"MEDIA JARRA CLERICOT\": \"SANGRIAS Personal\",\n",
        "    \"LIMONADA BLACKBERRY\": \"JUGOS Personal\",\n",
        "    \"COPA SANGRIA\": \"SANGRIAS Personal\",\n",
        "    \"COPA CLERICOT\": \"SANGRIAS Personal\",\n",
        "    \"LIMONADA PEPINO\": \"JUGOS Personal\"\n",
        "}\n"
      ],
      "metadata": {
        "colab": {
          "base_uri": "https://localhost:8080/"
        },
        "id": "cPqtbJJBPwYB",
        "outputId": "19cf119c-b619-49a4-b87d-7f4b89a6f572"
      },
      "execution_count": null,
      "outputs": [
        {
          "output_type": "stream",
          "name": "stderr",
          "text": [
            "/usr/local/lib/python3.10/dist-packages/ipykernel/ipkernel.py:283: DeprecationWarning: `should_run_async` will not call `transform_cell` automatically in the future. Please pass the result to `transformed_cell` argument and any exception that happen during thetransform in `preprocessing_exc_tuple` in IPython 7.17 and above.\n",
            "  and should_run_async(code)\n"
          ]
        }
      ]
    },
    {
      "cell_type": "code",
      "source": [
        "new_dataNP_lvl_1 = new_dataNP.copy()\n",
        "\n",
        "def reemplazo_bebidas(row):\n",
        "    if row['Tipo de Servicio'] in ['GASEOSAS', 'AGUAS', 'CERVEZAS']:\n",
        "        return row['Tipo de Servicio']\n",
        "    else:\n",
        "        return row['Producto']\n",
        "\n",
        "new_dataNP_lvl_1['Producto'] = new_dataNP_lvl_1.apply(reemplazo_bebidas, axis=1)"
      ],
      "metadata": {
        "colab": {
          "base_uri": "https://localhost:8080/"
        },
        "id": "2QMy5U9f_1ui",
        "outputId": "96ec5d23-401b-47cc-f018-151cbd435c5a"
      },
      "execution_count": null,
      "outputs": [
        {
          "output_type": "stream",
          "name": "stderr",
          "text": [
            "/usr/local/lib/python3.10/dist-packages/ipykernel/ipkernel.py:283: DeprecationWarning: `should_run_async` will not call `transform_cell` automatically in the future. Please pass the result to `transformed_cell` argument and any exception that happen during thetransform in `preprocessing_exc_tuple` in IPython 7.17 and above.\n",
            "  and should_run_async(code)\n",
            "/usr/local/lib/python3.10/dist-packages/pandas/core/dtypes/cast.py:1641: DeprecationWarning: np.find_common_type is deprecated.  Please use `np.result_type` or `np.promote_types`.\n",
            "See https://numpy.org/devdocs/release/1.25.0-notes.html and the docs for more information.  (Deprecated NumPy 1.25)\n",
            "  return np.find_common_type(types, [])\n",
            "/usr/local/lib/python3.10/dist-packages/pandas/core/dtypes/cast.py:1641: DeprecationWarning: np.find_common_type is deprecated.  Please use `np.result_type` or `np.promote_types`.\n",
            "See https://numpy.org/devdocs/release/1.25.0-notes.html and the docs for more information.  (Deprecated NumPy 1.25)\n",
            "  return np.find_common_type(types, [])\n"
          ]
        }
      ]
    },
    {
      "cell_type": "code",
      "source": [
        "def reemplazo_aderezo1(row):\n",
        "    if row['Tipo de Servicio'] in ['ADEREZOS']:\n",
        "        return row['Tipo de Servicio']\n",
        "    else:\n",
        "        return row['Producto']\n",
        "\n",
        "new_dataNP_lvl_1['Producto'] = new_dataNP_lvl_1.apply(reemplazo_aderezo1, axis=1)"
      ],
      "metadata": {
        "colab": {
          "base_uri": "https://localhost:8080/"
        },
        "id": "lpA-YUnG_7IZ",
        "outputId": "37897424-9df4-4317-d674-1d6f0ae52320"
      },
      "execution_count": null,
      "outputs": [
        {
          "output_type": "stream",
          "name": "stderr",
          "text": [
            "/usr/local/lib/python3.10/dist-packages/ipykernel/ipkernel.py:283: DeprecationWarning: `should_run_async` will not call `transform_cell` automatically in the future. Please pass the result to `transformed_cell` argument and any exception that happen during thetransform in `preprocessing_exc_tuple` in IPython 7.17 and above.\n",
            "  and should_run_async(code)\n",
            "/usr/local/lib/python3.10/dist-packages/pandas/core/dtypes/cast.py:1641: DeprecationWarning: np.find_common_type is deprecated.  Please use `np.result_type` or `np.promote_types`.\n",
            "See https://numpy.org/devdocs/release/1.25.0-notes.html and the docs for more information.  (Deprecated NumPy 1.25)\n",
            "  return np.find_common_type(types, [])\n",
            "/usr/local/lib/python3.10/dist-packages/pandas/core/dtypes/cast.py:1641: DeprecationWarning: np.find_common_type is deprecated.  Please use `np.result_type` or `np.promote_types`.\n",
            "See https://numpy.org/devdocs/release/1.25.0-notes.html and the docs for more information.  (Deprecated NumPy 1.25)\n",
            "  return np.find_common_type(types, [])\n"
          ]
        }
      ]
    },
    {
      "cell_type": "code",
      "source": [
        "# Reemplazando los nombres en el DataFrame copiado\n",
        "new_dataNP_lvl_1['Producto'] = new_dataNP_lvl_1['Producto'].replace(reemplazos_tipo_corte)\n",
        "new_dataNP_lvl_1['Producto'] = new_dataNP_lvl_1['Producto'].replace(reemplazos_tipo_bebida)"
      ],
      "metadata": {
        "id": "70lUidaLPlt2",
        "colab": {
          "base_uri": "https://localhost:8080/"
        },
        "outputId": "376c43a2-c161-4ee9-dfa2-926d8c66b012"
      },
      "execution_count": null,
      "outputs": [
        {
          "output_type": "stream",
          "name": "stderr",
          "text": [
            "/usr/local/lib/python3.10/dist-packages/ipykernel/ipkernel.py:283: DeprecationWarning: `should_run_async` will not call `transform_cell` automatically in the future. Please pass the result to `transformed_cell` argument and any exception that happen during thetransform in `preprocessing_exc_tuple` in IPython 7.17 and above.\n",
            "  and should_run_async(code)\n"
          ]
        }
      ]
    },
    {
      "cell_type": "code",
      "source": [
        "new_dataNP_lvl_1.head(5)"
      ],
      "metadata": {
        "colab": {
          "base_uri": "https://localhost:8080/",
          "height": 261
        },
        "id": "ncLIPYy8k0TZ",
        "outputId": "c08ce64b-1616-4ed8-fb1e-43b728dd6ace"
      },
      "execution_count": null,
      "outputs": [
        {
          "output_type": "stream",
          "name": "stderr",
          "text": [
            "/usr/local/lib/python3.10/dist-packages/ipykernel/ipkernel.py:283: DeprecationWarning: `should_run_async` will not call `transform_cell` automatically in the future. Please pass the result to `transformed_cell` argument and any exception that happen during thetransform in `preprocessing_exc_tuple` in IPython 7.17 and above.\n",
            "  and should_run_async(code)\n"
          ]
        },
        {
          "output_type": "execute_result",
          "data": {
            "text/plain": [
              "0      Pedido            Producto  Cant. Total      Grupo       Sub Grupo  \\\n",
              "1  2300000001        MORO RISOTTO    1.0   7.3  ALIMENTOS            MENU   \n",
              "2  2300000001        PAPA RELLENA    1.0     5  ALIMENTOS            MENU   \n",
              "3  2300000001            GASEOSAS    1.0   2.3    BEBIDAS  NO ALCOHOLICAS   \n",
              "4  2300000001            GASEOSAS    1.0   2.3    BEBIDAS  NO ALCOHOLICAS   \n",
              "5  2300000001  EMBUTIDOS Personal    1.0  2.48  ALIMENTOS        PARRILLA   \n",
              "\n",
              "0 Tipo de Servicio      Fecha   Hora  \n",
              "1     GUARNICIONES 2023-01-01  12:39  \n",
              "2     GUARNICIONES 2023-01-01  12:39  \n",
              "3         GASEOSAS 2023-01-01  12:39  \n",
              "4         GASEOSAS 2023-01-01  12:39  \n",
              "5        EMBUTIDOS 2023-01-01  12:39  "
            ],
            "text/html": [
              "\n",
              "  <div id=\"df-a811c2c8-4d8e-4c84-a5dc-1bf7704d155e\" class=\"colab-df-container\">\n",
              "    <div>\n",
              "<style scoped>\n",
              "    .dataframe tbody tr th:only-of-type {\n",
              "        vertical-align: middle;\n",
              "    }\n",
              "\n",
              "    .dataframe tbody tr th {\n",
              "        vertical-align: top;\n",
              "    }\n",
              "\n",
              "    .dataframe thead th {\n",
              "        text-align: right;\n",
              "    }\n",
              "</style>\n",
              "<table border=\"1\" class=\"dataframe\">\n",
              "  <thead>\n",
              "    <tr style=\"text-align: right;\">\n",
              "      <th></th>\n",
              "      <th>Pedido</th>\n",
              "      <th>Producto</th>\n",
              "      <th>Cant.</th>\n",
              "      <th>Total</th>\n",
              "      <th>Grupo</th>\n",
              "      <th>Sub Grupo</th>\n",
              "      <th>Tipo de Servicio</th>\n",
              "      <th>Fecha</th>\n",
              "      <th>Hora</th>\n",
              "    </tr>\n",
              "  </thead>\n",
              "  <tbody>\n",
              "    <tr>\n",
              "      <th>1</th>\n",
              "      <td>2300000001</td>\n",
              "      <td>MORO RISOTTO</td>\n",
              "      <td>1.0</td>\n",
              "      <td>7.3</td>\n",
              "      <td>ALIMENTOS</td>\n",
              "      <td>MENU</td>\n",
              "      <td>GUARNICIONES</td>\n",
              "      <td>2023-01-01</td>\n",
              "      <td>12:39</td>\n",
              "    </tr>\n",
              "    <tr>\n",
              "      <th>2</th>\n",
              "      <td>2300000001</td>\n",
              "      <td>PAPA RELLENA</td>\n",
              "      <td>1.0</td>\n",
              "      <td>5</td>\n",
              "      <td>ALIMENTOS</td>\n",
              "      <td>MENU</td>\n",
              "      <td>GUARNICIONES</td>\n",
              "      <td>2023-01-01</td>\n",
              "      <td>12:39</td>\n",
              "    </tr>\n",
              "    <tr>\n",
              "      <th>3</th>\n",
              "      <td>2300000001</td>\n",
              "      <td>GASEOSAS</td>\n",
              "      <td>1.0</td>\n",
              "      <td>2.3</td>\n",
              "      <td>BEBIDAS</td>\n",
              "      <td>NO ALCOHOLICAS</td>\n",
              "      <td>GASEOSAS</td>\n",
              "      <td>2023-01-01</td>\n",
              "      <td>12:39</td>\n",
              "    </tr>\n",
              "    <tr>\n",
              "      <th>4</th>\n",
              "      <td>2300000001</td>\n",
              "      <td>GASEOSAS</td>\n",
              "      <td>1.0</td>\n",
              "      <td>2.3</td>\n",
              "      <td>BEBIDAS</td>\n",
              "      <td>NO ALCOHOLICAS</td>\n",
              "      <td>GASEOSAS</td>\n",
              "      <td>2023-01-01</td>\n",
              "      <td>12:39</td>\n",
              "    </tr>\n",
              "    <tr>\n",
              "      <th>5</th>\n",
              "      <td>2300000001</td>\n",
              "      <td>EMBUTIDOS Personal</td>\n",
              "      <td>1.0</td>\n",
              "      <td>2.48</td>\n",
              "      <td>ALIMENTOS</td>\n",
              "      <td>PARRILLA</td>\n",
              "      <td>EMBUTIDOS</td>\n",
              "      <td>2023-01-01</td>\n",
              "      <td>12:39</td>\n",
              "    </tr>\n",
              "  </tbody>\n",
              "</table>\n",
              "</div>\n",
              "    <div class=\"colab-df-buttons\">\n",
              "\n",
              "  <div class=\"colab-df-container\">\n",
              "    <button class=\"colab-df-convert\" onclick=\"convertToInteractive('df-a811c2c8-4d8e-4c84-a5dc-1bf7704d155e')\"\n",
              "            title=\"Convert this dataframe to an interactive table.\"\n",
              "            style=\"display:none;\">\n",
              "\n",
              "  <svg xmlns=\"http://www.w3.org/2000/svg\" height=\"24px\" viewBox=\"0 -960 960 960\">\n",
              "    <path d=\"M120-120v-720h720v720H120Zm60-500h600v-160H180v160Zm220 220h160v-160H400v160Zm0 220h160v-160H400v160ZM180-400h160v-160H180v160Zm440 0h160v-160H620v160ZM180-180h160v-160H180v160Zm440 0h160v-160H620v160Z\"/>\n",
              "  </svg>\n",
              "    </button>\n",
              "\n",
              "  <style>\n",
              "    .colab-df-container {\n",
              "      display:flex;\n",
              "      gap: 12px;\n",
              "    }\n",
              "\n",
              "    .colab-df-convert {\n",
              "      background-color: #E8F0FE;\n",
              "      border: none;\n",
              "      border-radius: 50%;\n",
              "      cursor: pointer;\n",
              "      display: none;\n",
              "      fill: #1967D2;\n",
              "      height: 32px;\n",
              "      padding: 0 0 0 0;\n",
              "      width: 32px;\n",
              "    }\n",
              "\n",
              "    .colab-df-convert:hover {\n",
              "      background-color: #E2EBFA;\n",
              "      box-shadow: 0px 1px 2px rgba(60, 64, 67, 0.3), 0px 1px 3px 1px rgba(60, 64, 67, 0.15);\n",
              "      fill: #174EA6;\n",
              "    }\n",
              "\n",
              "    .colab-df-buttons div {\n",
              "      margin-bottom: 4px;\n",
              "    }\n",
              "\n",
              "    [theme=dark] .colab-df-convert {\n",
              "      background-color: #3B4455;\n",
              "      fill: #D2E3FC;\n",
              "    }\n",
              "\n",
              "    [theme=dark] .colab-df-convert:hover {\n",
              "      background-color: #434B5C;\n",
              "      box-shadow: 0px 1px 3px 1px rgba(0, 0, 0, 0.15);\n",
              "      filter: drop-shadow(0px 1px 2px rgba(0, 0, 0, 0.3));\n",
              "      fill: #FFFFFF;\n",
              "    }\n",
              "  </style>\n",
              "\n",
              "    <script>\n",
              "      const buttonEl =\n",
              "        document.querySelector('#df-a811c2c8-4d8e-4c84-a5dc-1bf7704d155e button.colab-df-convert');\n",
              "      buttonEl.style.display =\n",
              "        google.colab.kernel.accessAllowed ? 'block' : 'none';\n",
              "\n",
              "      async function convertToInteractive(key) {\n",
              "        const element = document.querySelector('#df-a811c2c8-4d8e-4c84-a5dc-1bf7704d155e');\n",
              "        const dataTable =\n",
              "          await google.colab.kernel.invokeFunction('convertToInteractive',\n",
              "                                                    [key], {});\n",
              "        if (!dataTable) return;\n",
              "\n",
              "        const docLinkHtml = 'Like what you see? Visit the ' +\n",
              "          '<a target=\"_blank\" href=https://colab.research.google.com/notebooks/data_table.ipynb>data table notebook</a>'\n",
              "          + ' to learn more about interactive tables.';\n",
              "        element.innerHTML = '';\n",
              "        dataTable['output_type'] = 'display_data';\n",
              "        await google.colab.output.renderOutput(dataTable, element);\n",
              "        const docLink = document.createElement('div');\n",
              "        docLink.innerHTML = docLinkHtml;\n",
              "        element.appendChild(docLink);\n",
              "      }\n",
              "    </script>\n",
              "  </div>\n",
              "\n",
              "\n",
              "<div id=\"df-9b9dcdde-a0b8-4565-9139-0aae9d39fc60\">\n",
              "  <button class=\"colab-df-quickchart\" onclick=\"quickchart('df-9b9dcdde-a0b8-4565-9139-0aae9d39fc60')\"\n",
              "            title=\"Suggest charts\"\n",
              "            style=\"display:none;\">\n",
              "\n",
              "<svg xmlns=\"http://www.w3.org/2000/svg\" height=\"24px\"viewBox=\"0 0 24 24\"\n",
              "     width=\"24px\">\n",
              "    <g>\n",
              "        <path d=\"M19 3H5c-1.1 0-2 .9-2 2v14c0 1.1.9 2 2 2h14c1.1 0 2-.9 2-2V5c0-1.1-.9-2-2-2zM9 17H7v-7h2v7zm4 0h-2V7h2v10zm4 0h-2v-4h2v4z\"/>\n",
              "    </g>\n",
              "</svg>\n",
              "  </button>\n",
              "\n",
              "<style>\n",
              "  .colab-df-quickchart {\n",
              "      --bg-color: #E8F0FE;\n",
              "      --fill-color: #1967D2;\n",
              "      --hover-bg-color: #E2EBFA;\n",
              "      --hover-fill-color: #174EA6;\n",
              "      --disabled-fill-color: #AAA;\n",
              "      --disabled-bg-color: #DDD;\n",
              "  }\n",
              "\n",
              "  [theme=dark] .colab-df-quickchart {\n",
              "      --bg-color: #3B4455;\n",
              "      --fill-color: #D2E3FC;\n",
              "      --hover-bg-color: #434B5C;\n",
              "      --hover-fill-color: #FFFFFF;\n",
              "      --disabled-bg-color: #3B4455;\n",
              "      --disabled-fill-color: #666;\n",
              "  }\n",
              "\n",
              "  .colab-df-quickchart {\n",
              "    background-color: var(--bg-color);\n",
              "    border: none;\n",
              "    border-radius: 50%;\n",
              "    cursor: pointer;\n",
              "    display: none;\n",
              "    fill: var(--fill-color);\n",
              "    height: 32px;\n",
              "    padding: 0;\n",
              "    width: 32px;\n",
              "  }\n",
              "\n",
              "  .colab-df-quickchart:hover {\n",
              "    background-color: var(--hover-bg-color);\n",
              "    box-shadow: 0 1px 2px rgba(60, 64, 67, 0.3), 0 1px 3px 1px rgba(60, 64, 67, 0.15);\n",
              "    fill: var(--button-hover-fill-color);\n",
              "  }\n",
              "\n",
              "  .colab-df-quickchart-complete:disabled,\n",
              "  .colab-df-quickchart-complete:disabled:hover {\n",
              "    background-color: var(--disabled-bg-color);\n",
              "    fill: var(--disabled-fill-color);\n",
              "    box-shadow: none;\n",
              "  }\n",
              "\n",
              "  .colab-df-spinner {\n",
              "    border: 2px solid var(--fill-color);\n",
              "    border-color: transparent;\n",
              "    border-bottom-color: var(--fill-color);\n",
              "    animation:\n",
              "      spin 1s steps(1) infinite;\n",
              "  }\n",
              "\n",
              "  @keyframes spin {\n",
              "    0% {\n",
              "      border-color: transparent;\n",
              "      border-bottom-color: var(--fill-color);\n",
              "      border-left-color: var(--fill-color);\n",
              "    }\n",
              "    20% {\n",
              "      border-color: transparent;\n",
              "      border-left-color: var(--fill-color);\n",
              "      border-top-color: var(--fill-color);\n",
              "    }\n",
              "    30% {\n",
              "      border-color: transparent;\n",
              "      border-left-color: var(--fill-color);\n",
              "      border-top-color: var(--fill-color);\n",
              "      border-right-color: var(--fill-color);\n",
              "    }\n",
              "    40% {\n",
              "      border-color: transparent;\n",
              "      border-right-color: var(--fill-color);\n",
              "      border-top-color: var(--fill-color);\n",
              "    }\n",
              "    60% {\n",
              "      border-color: transparent;\n",
              "      border-right-color: var(--fill-color);\n",
              "    }\n",
              "    80% {\n",
              "      border-color: transparent;\n",
              "      border-right-color: var(--fill-color);\n",
              "      border-bottom-color: var(--fill-color);\n",
              "    }\n",
              "    90% {\n",
              "      border-color: transparent;\n",
              "      border-bottom-color: var(--fill-color);\n",
              "    }\n",
              "  }\n",
              "</style>\n",
              "\n",
              "  <script>\n",
              "    async function quickchart(key) {\n",
              "      const quickchartButtonEl =\n",
              "        document.querySelector('#' + key + ' button');\n",
              "      quickchartButtonEl.disabled = true;  // To prevent multiple clicks.\n",
              "      quickchartButtonEl.classList.add('colab-df-spinner');\n",
              "      try {\n",
              "        const charts = await google.colab.kernel.invokeFunction(\n",
              "            'suggestCharts', [key], {});\n",
              "      } catch (error) {\n",
              "        console.error('Error during call to suggestCharts:', error);\n",
              "      }\n",
              "      quickchartButtonEl.classList.remove('colab-df-spinner');\n",
              "      quickchartButtonEl.classList.add('colab-df-quickchart-complete');\n",
              "    }\n",
              "    (() => {\n",
              "      let quickchartButtonEl =\n",
              "        document.querySelector('#df-9b9dcdde-a0b8-4565-9139-0aae9d39fc60 button');\n",
              "      quickchartButtonEl.style.display =\n",
              "        google.colab.kernel.accessAllowed ? 'block' : 'none';\n",
              "    })();\n",
              "  </script>\n",
              "</div>\n",
              "\n",
              "    </div>\n",
              "  </div>\n"
            ],
            "application/vnd.google.colaboratory.intrinsic+json": {
              "type": "dataframe",
              "variable_name": "new_dataNP_lvl_1"
            }
          },
          "metadata": {},
          "execution_count": 53
        }
      ]
    },
    {
      "cell_type": "code",
      "source": [
        "new_dataNP_lvl_1_unicos = new_dataNP_lvl_1.drop_duplicates(subset=['Pedido', 'Producto'])\n",
        "new_dataNP_lvl_1_unicos.head(5)"
      ],
      "metadata": {
        "colab": {
          "base_uri": "https://localhost:8080/",
          "height": 261
        },
        "id": "z9GyhB5TDDN9",
        "outputId": "2d4c416c-8aea-4e28-82e9-96e2be79a49d"
      },
      "execution_count": null,
      "outputs": [
        {
          "output_type": "stream",
          "name": "stderr",
          "text": [
            "/usr/local/lib/python3.10/dist-packages/ipykernel/ipkernel.py:283: DeprecationWarning: `should_run_async` will not call `transform_cell` automatically in the future. Please pass the result to `transformed_cell` argument and any exception that happen during thetransform in `preprocessing_exc_tuple` in IPython 7.17 and above.\n",
            "  and should_run_async(code)\n"
          ]
        },
        {
          "output_type": "execute_result",
          "data": {
            "text/plain": [
              "0      Pedido            Producto  Cant.     Total      Grupo       Sub Grupo  \\\n",
              "1  2300000001        MORO RISOTTO   1.00       7.3  ALIMENTOS            MENU   \n",
              "2  2300000001        PAPA RELLENA   1.00         5  ALIMENTOS            MENU   \n",
              "3  2300000001            GASEOSAS   1.00       2.3    BEBIDAS  NO ALCOHOLICAS   \n",
              "5  2300000001  MIX PARRILLERO P#3   1.00      2.48  ALIMENTOS        PARRILLA   \n",
              "6  2300000001   BIFE ANCHO NP RES   0.46  14.25908  ALIMENTOS        PARRILLA   \n",
              "\n",
              "0 Tipo de Servicio      Fecha   Hora  \n",
              "1     GUARNICIONES 2023-01-01  12:39  \n",
              "2     GUARNICIONES 2023-01-01  12:39  \n",
              "3         GASEOSAS 2023-01-01  12:39  \n",
              "5        EMBUTIDOS 2023-01-01  12:39  \n",
              "6              RES 2023-01-01  12:39  "
            ],
            "text/html": [
              "\n",
              "  <div id=\"df-5e48f801-173d-4d6a-9411-8118b81dc458\" class=\"colab-df-container\">\n",
              "    <div>\n",
              "<style scoped>\n",
              "    .dataframe tbody tr th:only-of-type {\n",
              "        vertical-align: middle;\n",
              "    }\n",
              "\n",
              "    .dataframe tbody tr th {\n",
              "        vertical-align: top;\n",
              "    }\n",
              "\n",
              "    .dataframe thead th {\n",
              "        text-align: right;\n",
              "    }\n",
              "</style>\n",
              "<table border=\"1\" class=\"dataframe\">\n",
              "  <thead>\n",
              "    <tr style=\"text-align: right;\">\n",
              "      <th></th>\n",
              "      <th>Pedido</th>\n",
              "      <th>Producto</th>\n",
              "      <th>Cant.</th>\n",
              "      <th>Total</th>\n",
              "      <th>Grupo</th>\n",
              "      <th>Sub Grupo</th>\n",
              "      <th>Tipo de Servicio</th>\n",
              "      <th>Fecha</th>\n",
              "      <th>Hora</th>\n",
              "    </tr>\n",
              "  </thead>\n",
              "  <tbody>\n",
              "    <tr>\n",
              "      <th>1</th>\n",
              "      <td>2300000001</td>\n",
              "      <td>MORO RISOTTO</td>\n",
              "      <td>1.00</td>\n",
              "      <td>7.3</td>\n",
              "      <td>ALIMENTOS</td>\n",
              "      <td>MENU</td>\n",
              "      <td>GUARNICIONES</td>\n",
              "      <td>2023-01-01</td>\n",
              "      <td>12:39</td>\n",
              "    </tr>\n",
              "    <tr>\n",
              "      <th>2</th>\n",
              "      <td>2300000001</td>\n",
              "      <td>PAPA RELLENA</td>\n",
              "      <td>1.00</td>\n",
              "      <td>5</td>\n",
              "      <td>ALIMENTOS</td>\n",
              "      <td>MENU</td>\n",
              "      <td>GUARNICIONES</td>\n",
              "      <td>2023-01-01</td>\n",
              "      <td>12:39</td>\n",
              "    </tr>\n",
              "    <tr>\n",
              "      <th>3</th>\n",
              "      <td>2300000001</td>\n",
              "      <td>GASEOSAS</td>\n",
              "      <td>1.00</td>\n",
              "      <td>2.3</td>\n",
              "      <td>BEBIDAS</td>\n",
              "      <td>NO ALCOHOLICAS</td>\n",
              "      <td>GASEOSAS</td>\n",
              "      <td>2023-01-01</td>\n",
              "      <td>12:39</td>\n",
              "    </tr>\n",
              "    <tr>\n",
              "      <th>5</th>\n",
              "      <td>2300000001</td>\n",
              "      <td>MIX PARRILLERO P#3</td>\n",
              "      <td>1.00</td>\n",
              "      <td>2.48</td>\n",
              "      <td>ALIMENTOS</td>\n",
              "      <td>PARRILLA</td>\n",
              "      <td>EMBUTIDOS</td>\n",
              "      <td>2023-01-01</td>\n",
              "      <td>12:39</td>\n",
              "    </tr>\n",
              "    <tr>\n",
              "      <th>6</th>\n",
              "      <td>2300000001</td>\n",
              "      <td>BIFE ANCHO NP RES</td>\n",
              "      <td>0.46</td>\n",
              "      <td>14.25908</td>\n",
              "      <td>ALIMENTOS</td>\n",
              "      <td>PARRILLA</td>\n",
              "      <td>RES</td>\n",
              "      <td>2023-01-01</td>\n",
              "      <td>12:39</td>\n",
              "    </tr>\n",
              "  </tbody>\n",
              "</table>\n",
              "</div>\n",
              "    <div class=\"colab-df-buttons\">\n",
              "\n",
              "  <div class=\"colab-df-container\">\n",
              "    <button class=\"colab-df-convert\" onclick=\"convertToInteractive('df-5e48f801-173d-4d6a-9411-8118b81dc458')\"\n",
              "            title=\"Convert this dataframe to an interactive table.\"\n",
              "            style=\"display:none;\">\n",
              "\n",
              "  <svg xmlns=\"http://www.w3.org/2000/svg\" height=\"24px\" viewBox=\"0 -960 960 960\">\n",
              "    <path d=\"M120-120v-720h720v720H120Zm60-500h600v-160H180v160Zm220 220h160v-160H400v160Zm0 220h160v-160H400v160ZM180-400h160v-160H180v160Zm440 0h160v-160H620v160ZM180-180h160v-160H180v160Zm440 0h160v-160H620v160Z\"/>\n",
              "  </svg>\n",
              "    </button>\n",
              "\n",
              "  <style>\n",
              "    .colab-df-container {\n",
              "      display:flex;\n",
              "      gap: 12px;\n",
              "    }\n",
              "\n",
              "    .colab-df-convert {\n",
              "      background-color: #E8F0FE;\n",
              "      border: none;\n",
              "      border-radius: 50%;\n",
              "      cursor: pointer;\n",
              "      display: none;\n",
              "      fill: #1967D2;\n",
              "      height: 32px;\n",
              "      padding: 0 0 0 0;\n",
              "      width: 32px;\n",
              "    }\n",
              "\n",
              "    .colab-df-convert:hover {\n",
              "      background-color: #E2EBFA;\n",
              "      box-shadow: 0px 1px 2px rgba(60, 64, 67, 0.3), 0px 1px 3px 1px rgba(60, 64, 67, 0.15);\n",
              "      fill: #174EA6;\n",
              "    }\n",
              "\n",
              "    .colab-df-buttons div {\n",
              "      margin-bottom: 4px;\n",
              "    }\n",
              "\n",
              "    [theme=dark] .colab-df-convert {\n",
              "      background-color: #3B4455;\n",
              "      fill: #D2E3FC;\n",
              "    }\n",
              "\n",
              "    [theme=dark] .colab-df-convert:hover {\n",
              "      background-color: #434B5C;\n",
              "      box-shadow: 0px 1px 3px 1px rgba(0, 0, 0, 0.15);\n",
              "      filter: drop-shadow(0px 1px 2px rgba(0, 0, 0, 0.3));\n",
              "      fill: #FFFFFF;\n",
              "    }\n",
              "  </style>\n",
              "\n",
              "    <script>\n",
              "      const buttonEl =\n",
              "        document.querySelector('#df-5e48f801-173d-4d6a-9411-8118b81dc458 button.colab-df-convert');\n",
              "      buttonEl.style.display =\n",
              "        google.colab.kernel.accessAllowed ? 'block' : 'none';\n",
              "\n",
              "      async function convertToInteractive(key) {\n",
              "        const element = document.querySelector('#df-5e48f801-173d-4d6a-9411-8118b81dc458');\n",
              "        const dataTable =\n",
              "          await google.colab.kernel.invokeFunction('convertToInteractive',\n",
              "                                                    [key], {});\n",
              "        if (!dataTable) return;\n",
              "\n",
              "        const docLinkHtml = 'Like what you see? Visit the ' +\n",
              "          '<a target=\"_blank\" href=https://colab.research.google.com/notebooks/data_table.ipynb>data table notebook</a>'\n",
              "          + ' to learn more about interactive tables.';\n",
              "        element.innerHTML = '';\n",
              "        dataTable['output_type'] = 'display_data';\n",
              "        await google.colab.output.renderOutput(dataTable, element);\n",
              "        const docLink = document.createElement('div');\n",
              "        docLink.innerHTML = docLinkHtml;\n",
              "        element.appendChild(docLink);\n",
              "      }\n",
              "    </script>\n",
              "  </div>\n",
              "\n",
              "\n",
              "<div id=\"df-ac004cf1-84c1-456c-8a40-2d06e88151e8\">\n",
              "  <button class=\"colab-df-quickchart\" onclick=\"quickchart('df-ac004cf1-84c1-456c-8a40-2d06e88151e8')\"\n",
              "            title=\"Suggest charts\"\n",
              "            style=\"display:none;\">\n",
              "\n",
              "<svg xmlns=\"http://www.w3.org/2000/svg\" height=\"24px\"viewBox=\"0 0 24 24\"\n",
              "     width=\"24px\">\n",
              "    <g>\n",
              "        <path d=\"M19 3H5c-1.1 0-2 .9-2 2v14c0 1.1.9 2 2 2h14c1.1 0 2-.9 2-2V5c0-1.1-.9-2-2-2zM9 17H7v-7h2v7zm4 0h-2V7h2v10zm4 0h-2v-4h2v4z\"/>\n",
              "    </g>\n",
              "</svg>\n",
              "  </button>\n",
              "\n",
              "<style>\n",
              "  .colab-df-quickchart {\n",
              "      --bg-color: #E8F0FE;\n",
              "      --fill-color: #1967D2;\n",
              "      --hover-bg-color: #E2EBFA;\n",
              "      --hover-fill-color: #174EA6;\n",
              "      --disabled-fill-color: #AAA;\n",
              "      --disabled-bg-color: #DDD;\n",
              "  }\n",
              "\n",
              "  [theme=dark] .colab-df-quickchart {\n",
              "      --bg-color: #3B4455;\n",
              "      --fill-color: #D2E3FC;\n",
              "      --hover-bg-color: #434B5C;\n",
              "      --hover-fill-color: #FFFFFF;\n",
              "      --disabled-bg-color: #3B4455;\n",
              "      --disabled-fill-color: #666;\n",
              "  }\n",
              "\n",
              "  .colab-df-quickchart {\n",
              "    background-color: var(--bg-color);\n",
              "    border: none;\n",
              "    border-radius: 50%;\n",
              "    cursor: pointer;\n",
              "    display: none;\n",
              "    fill: var(--fill-color);\n",
              "    height: 32px;\n",
              "    padding: 0;\n",
              "    width: 32px;\n",
              "  }\n",
              "\n",
              "  .colab-df-quickchart:hover {\n",
              "    background-color: var(--hover-bg-color);\n",
              "    box-shadow: 0 1px 2px rgba(60, 64, 67, 0.3), 0 1px 3px 1px rgba(60, 64, 67, 0.15);\n",
              "    fill: var(--button-hover-fill-color);\n",
              "  }\n",
              "\n",
              "  .colab-df-quickchart-complete:disabled,\n",
              "  .colab-df-quickchart-complete:disabled:hover {\n",
              "    background-color: var(--disabled-bg-color);\n",
              "    fill: var(--disabled-fill-color);\n",
              "    box-shadow: none;\n",
              "  }\n",
              "\n",
              "  .colab-df-spinner {\n",
              "    border: 2px solid var(--fill-color);\n",
              "    border-color: transparent;\n",
              "    border-bottom-color: var(--fill-color);\n",
              "    animation:\n",
              "      spin 1s steps(1) infinite;\n",
              "  }\n",
              "\n",
              "  @keyframes spin {\n",
              "    0% {\n",
              "      border-color: transparent;\n",
              "      border-bottom-color: var(--fill-color);\n",
              "      border-left-color: var(--fill-color);\n",
              "    }\n",
              "    20% {\n",
              "      border-color: transparent;\n",
              "      border-left-color: var(--fill-color);\n",
              "      border-top-color: var(--fill-color);\n",
              "    }\n",
              "    30% {\n",
              "      border-color: transparent;\n",
              "      border-left-color: var(--fill-color);\n",
              "      border-top-color: var(--fill-color);\n",
              "      border-right-color: var(--fill-color);\n",
              "    }\n",
              "    40% {\n",
              "      border-color: transparent;\n",
              "      border-right-color: var(--fill-color);\n",
              "      border-top-color: var(--fill-color);\n",
              "    }\n",
              "    60% {\n",
              "      border-color: transparent;\n",
              "      border-right-color: var(--fill-color);\n",
              "    }\n",
              "    80% {\n",
              "      border-color: transparent;\n",
              "      border-right-color: var(--fill-color);\n",
              "      border-bottom-color: var(--fill-color);\n",
              "    }\n",
              "    90% {\n",
              "      border-color: transparent;\n",
              "      border-bottom-color: var(--fill-color);\n",
              "    }\n",
              "  }\n",
              "</style>\n",
              "\n",
              "  <script>\n",
              "    async function quickchart(key) {\n",
              "      const quickchartButtonEl =\n",
              "        document.querySelector('#' + key + ' button');\n",
              "      quickchartButtonEl.disabled = true;  // To prevent multiple clicks.\n",
              "      quickchartButtonEl.classList.add('colab-df-spinner');\n",
              "      try {\n",
              "        const charts = await google.colab.kernel.invokeFunction(\n",
              "            'suggestCharts', [key], {});\n",
              "      } catch (error) {\n",
              "        console.error('Error during call to suggestCharts:', error);\n",
              "      }\n",
              "      quickchartButtonEl.classList.remove('colab-df-spinner');\n",
              "      quickchartButtonEl.classList.add('colab-df-quickchart-complete');\n",
              "    }\n",
              "    (() => {\n",
              "      let quickchartButtonEl =\n",
              "        document.querySelector('#df-ac004cf1-84c1-456c-8a40-2d06e88151e8 button');\n",
              "      quickchartButtonEl.style.display =\n",
              "        google.colab.kernel.accessAllowed ? 'block' : 'none';\n",
              "    })();\n",
              "  </script>\n",
              "</div>\n",
              "\n",
              "    </div>\n",
              "  </div>\n"
            ],
            "application/vnd.google.colaboratory.intrinsic+json": {
              "type": "dataframe",
              "variable_name": "new_dataNP_lvl_1_unicos"
            }
          },
          "metadata": {},
          "execution_count": 43
        }
      ]
    },
    {
      "cell_type": "code",
      "source": [
        "personalizacion_1_tarde = new_dataNP_lvl_1_unicos[new_dataNP_lvl_1_unicos['Hora'].between('12:00', '15:00')]\n",
        "personalizacion_1_mediatarde = new_dataNP_lvl_1_unicos[new_dataNP_lvl_1_unicos['Hora'].between('15:01', '18:00')]\n",
        "personalizacion_1_noche = new_dataNP_lvl_1_unicos[new_dataNP_lvl_1_unicos['Hora'].between('18:01', '22:00')]"
      ],
      "metadata": {
        "colab": {
          "base_uri": "https://localhost:8080/"
        },
        "id": "g6igh09NIx2v",
        "outputId": "e97090d5-9728-4b78-d720-96f1e5b255ec"
      },
      "execution_count": null,
      "outputs": [
        {
          "output_type": "stream",
          "name": "stderr",
          "text": [
            "/usr/local/lib/python3.10/dist-packages/ipykernel/ipkernel.py:283: DeprecationWarning: `should_run_async` will not call `transform_cell` automatically in the future. Please pass the result to `transformed_cell` argument and any exception that happen during thetransform in `preprocessing_exc_tuple` in IPython 7.17 and above.\n",
            "  and should_run_async(code)\n"
          ]
        }
      ]
    },
    {
      "cell_type": "code",
      "source": [
        "personalizacion_1_tarde.to_csv('personalizacion_1_tarde.csv', index = False)\n",
        "personalizacion_1_mediatarde.to_csv('personalizacion_1_mediatarde.csv', index = False)\n",
        "personalizacion_1_noche.to_csv('personalizacion_1_noche.csv', index = False)"
      ],
      "metadata": {
        "colab": {
          "base_uri": "https://localhost:8080/"
        },
        "id": "w4_E02Owy1GH",
        "outputId": "c57ac502-6a24-4763-914c-ebd48cc52f53"
      },
      "execution_count": null,
      "outputs": [
        {
          "output_type": "stream",
          "name": "stderr",
          "text": [
            "/usr/local/lib/python3.10/dist-packages/ipykernel/ipkernel.py:283: DeprecationWarning: `should_run_async` will not call `transform_cell` automatically in the future. Please pass the result to `transformed_cell` argument and any exception that happen during thetransform in `preprocessing_exc_tuple` in IPython 7.17 and above.\n",
            "  and should_run_async(code)\n"
          ]
        }
      ]
    },
    {
      "cell_type": "markdown",
      "source": [
        "## PERSONALIZACIÓN NIVEL 2"
      ],
      "metadata": {
        "id": "OK1U9Ul4phuc"
      }
    },
    {
      "cell_type": "markdown",
      "source": [
        "Crear una copia del original para trabajar. Esta se llamará new_dataNP3"
      ],
      "metadata": {
        "id": "5A0tY8ybphud"
      }
    },
    {
      "cell_type": "markdown",
      "source": [
        "### Reemplazos"
      ],
      "metadata": {
        "id": "SvOK9dINphue"
      }
    },
    {
      "cell_type": "code",
      "source": [
        "# Creando una copia del DataFrame original\n",
        "new_dataNP_lvl_2 = new_dataNP.copy()"
      ],
      "metadata": {
        "colab": {
          "base_uri": "https://localhost:8080/"
        },
        "outputId": "cdf0a78c-09d9-4fa2-c012-10550dc86a2e",
        "id": "SBMNm7nYphuf"
      },
      "execution_count": null,
      "outputs": [
        {
          "output_type": "stream",
          "name": "stderr",
          "text": [
            "/usr/local/lib/python3.10/dist-packages/ipykernel/ipkernel.py:283: DeprecationWarning: `should_run_async` will not call `transform_cell` automatically in the future. Please pass the result to `transformed_cell` argument and any exception that happen during thetransform in `preprocessing_exc_tuple` in IPython 7.17 and above.\n",
            "  and should_run_async(code)\n"
          ]
        }
      ]
    },
    {
      "cell_type": "code",
      "source": [
        "# Función para aplicar reemplazos\n",
        "def reemplazar_o_copiar(row):\n",
        "    if row['Sub Grupo'] == 'PARRILLA' and row['Producto'] in reemplazos_tipo_corte:\n",
        "        return reemplazos_tipo_corte[row['Producto']]\n",
        "    else:\n",
        "        return row['Tipo de Servicio']\n",
        "\n",
        "# Creando nueva columna\n",
        "new_dataNP_lvl_2['Producto'] = new_dataNP_lvl_2.apply(reemplazar_o_copiar, axis=1)\n"
      ],
      "metadata": {
        "colab": {
          "base_uri": "https://localhost:8080/"
        },
        "id": "KRQ8IKHZ9oE8",
        "outputId": "9cdb5f05-1004-4f0c-a3da-8e1e997db706"
      },
      "execution_count": null,
      "outputs": [
        {
          "output_type": "stream",
          "name": "stderr",
          "text": [
            "/usr/local/lib/python3.10/dist-packages/ipykernel/ipkernel.py:283: DeprecationWarning: `should_run_async` will not call `transform_cell` automatically in the future. Please pass the result to `transformed_cell` argument and any exception that happen during thetransform in `preprocessing_exc_tuple` in IPython 7.17 and above.\n",
            "  and should_run_async(code)\n",
            "/usr/local/lib/python3.10/dist-packages/pandas/core/dtypes/cast.py:1641: DeprecationWarning: np.find_common_type is deprecated.  Please use `np.result_type` or `np.promote_types`.\n",
            "See https://numpy.org/devdocs/release/1.25.0-notes.html and the docs for more information.  (Deprecated NumPy 1.25)\n",
            "  return np.find_common_type(types, [])\n",
            "/usr/local/lib/python3.10/dist-packages/pandas/core/dtypes/cast.py:1641: DeprecationWarning: np.find_common_type is deprecated.  Please use `np.result_type` or `np.promote_types`.\n",
            "See https://numpy.org/devdocs/release/1.25.0-notes.html and the docs for more information.  (Deprecated NumPy 1.25)\n",
            "  return np.find_common_type(types, [])\n"
          ]
        }
      ]
    },
    {
      "cell_type": "code",
      "source": [
        "new_dataNP_lvl_2_unicos = new_dataNP_lvl_2.drop_duplicates(subset=['Pedido', 'Producto'])\n",
        "new_dataNP_lvl_2_unicos.head(5)"
      ],
      "metadata": {
        "colab": {
          "base_uri": "https://localhost:8080/",
          "height": 261
        },
        "id": "NfELk7A7EM85",
        "outputId": "0cd74b50-906a-408f-ccd2-eed2f6b9239e"
      },
      "execution_count": null,
      "outputs": [
        {
          "output_type": "stream",
          "name": "stderr",
          "text": [
            "/usr/local/lib/python3.10/dist-packages/ipykernel/ipkernel.py:283: DeprecationWarning: `should_run_async` will not call `transform_cell` automatically in the future. Please pass the result to `transformed_cell` argument and any exception that happen during thetransform in `preprocessing_exc_tuple` in IPython 7.17 and above.\n",
            "  and should_run_async(code)\n"
          ]
        },
        {
          "output_type": "execute_result",
          "data": {
            "text/plain": [
              "0      Pedido            Producto  Cant.     Total      Grupo       Sub Grupo  \\\n",
              "1  2300000001        GUARNICIONES   1.00       7.3  ALIMENTOS            MENU   \n",
              "3  2300000001            GASEOSAS   1.00       2.3    BEBIDAS  NO ALCOHOLICAS   \n",
              "5  2300000001  EMBUTIDOS Personal   1.00      2.48  ALIMENTOS        PARRILLA   \n",
              "6  2300000001        RES Personal   0.46  14.25908  ALIMENTOS        PARRILLA   \n",
              "7  2300000001      CERDO Personal   0.22   4.18418  ALIMENTOS        PARRILLA   \n",
              "\n",
              "0 Tipo de Servicio      Fecha   Hora  \n",
              "1     GUARNICIONES 2023-01-01  12:39  \n",
              "3         GASEOSAS 2023-01-01  12:39  \n",
              "5        EMBUTIDOS 2023-01-01  12:39  \n",
              "6              RES 2023-01-01  12:39  \n",
              "7            CERDO 2023-01-01  12:39  "
            ],
            "text/html": [
              "\n",
              "  <div id=\"df-06e836f7-3837-4e13-8772-18a5421cf8bd\" class=\"colab-df-container\">\n",
              "    <div>\n",
              "<style scoped>\n",
              "    .dataframe tbody tr th:only-of-type {\n",
              "        vertical-align: middle;\n",
              "    }\n",
              "\n",
              "    .dataframe tbody tr th {\n",
              "        vertical-align: top;\n",
              "    }\n",
              "\n",
              "    .dataframe thead th {\n",
              "        text-align: right;\n",
              "    }\n",
              "</style>\n",
              "<table border=\"1\" class=\"dataframe\">\n",
              "  <thead>\n",
              "    <tr style=\"text-align: right;\">\n",
              "      <th></th>\n",
              "      <th>Pedido</th>\n",
              "      <th>Producto</th>\n",
              "      <th>Cant.</th>\n",
              "      <th>Total</th>\n",
              "      <th>Grupo</th>\n",
              "      <th>Sub Grupo</th>\n",
              "      <th>Tipo de Servicio</th>\n",
              "      <th>Fecha</th>\n",
              "      <th>Hora</th>\n",
              "    </tr>\n",
              "  </thead>\n",
              "  <tbody>\n",
              "    <tr>\n",
              "      <th>1</th>\n",
              "      <td>2300000001</td>\n",
              "      <td>GUARNICIONES</td>\n",
              "      <td>1.00</td>\n",
              "      <td>7.3</td>\n",
              "      <td>ALIMENTOS</td>\n",
              "      <td>MENU</td>\n",
              "      <td>GUARNICIONES</td>\n",
              "      <td>2023-01-01</td>\n",
              "      <td>12:39</td>\n",
              "    </tr>\n",
              "    <tr>\n",
              "      <th>3</th>\n",
              "      <td>2300000001</td>\n",
              "      <td>GASEOSAS</td>\n",
              "      <td>1.00</td>\n",
              "      <td>2.3</td>\n",
              "      <td>BEBIDAS</td>\n",
              "      <td>NO ALCOHOLICAS</td>\n",
              "      <td>GASEOSAS</td>\n",
              "      <td>2023-01-01</td>\n",
              "      <td>12:39</td>\n",
              "    </tr>\n",
              "    <tr>\n",
              "      <th>5</th>\n",
              "      <td>2300000001</td>\n",
              "      <td>EMBUTIDOS Personal</td>\n",
              "      <td>1.00</td>\n",
              "      <td>2.48</td>\n",
              "      <td>ALIMENTOS</td>\n",
              "      <td>PARRILLA</td>\n",
              "      <td>EMBUTIDOS</td>\n",
              "      <td>2023-01-01</td>\n",
              "      <td>12:39</td>\n",
              "    </tr>\n",
              "    <tr>\n",
              "      <th>6</th>\n",
              "      <td>2300000001</td>\n",
              "      <td>RES Personal</td>\n",
              "      <td>0.46</td>\n",
              "      <td>14.25908</td>\n",
              "      <td>ALIMENTOS</td>\n",
              "      <td>PARRILLA</td>\n",
              "      <td>RES</td>\n",
              "      <td>2023-01-01</td>\n",
              "      <td>12:39</td>\n",
              "    </tr>\n",
              "    <tr>\n",
              "      <th>7</th>\n",
              "      <td>2300000001</td>\n",
              "      <td>CERDO Personal</td>\n",
              "      <td>0.22</td>\n",
              "      <td>4.18418</td>\n",
              "      <td>ALIMENTOS</td>\n",
              "      <td>PARRILLA</td>\n",
              "      <td>CERDO</td>\n",
              "      <td>2023-01-01</td>\n",
              "      <td>12:39</td>\n",
              "    </tr>\n",
              "  </tbody>\n",
              "</table>\n",
              "</div>\n",
              "    <div class=\"colab-df-buttons\">\n",
              "\n",
              "  <div class=\"colab-df-container\">\n",
              "    <button class=\"colab-df-convert\" onclick=\"convertToInteractive('df-06e836f7-3837-4e13-8772-18a5421cf8bd')\"\n",
              "            title=\"Convert this dataframe to an interactive table.\"\n",
              "            style=\"display:none;\">\n",
              "\n",
              "  <svg xmlns=\"http://www.w3.org/2000/svg\" height=\"24px\" viewBox=\"0 -960 960 960\">\n",
              "    <path d=\"M120-120v-720h720v720H120Zm60-500h600v-160H180v160Zm220 220h160v-160H400v160Zm0 220h160v-160H400v160ZM180-400h160v-160H180v160Zm440 0h160v-160H620v160ZM180-180h160v-160H180v160Zm440 0h160v-160H620v160Z\"/>\n",
              "  </svg>\n",
              "    </button>\n",
              "\n",
              "  <style>\n",
              "    .colab-df-container {\n",
              "      display:flex;\n",
              "      gap: 12px;\n",
              "    }\n",
              "\n",
              "    .colab-df-convert {\n",
              "      background-color: #E8F0FE;\n",
              "      border: none;\n",
              "      border-radius: 50%;\n",
              "      cursor: pointer;\n",
              "      display: none;\n",
              "      fill: #1967D2;\n",
              "      height: 32px;\n",
              "      padding: 0 0 0 0;\n",
              "      width: 32px;\n",
              "    }\n",
              "\n",
              "    .colab-df-convert:hover {\n",
              "      background-color: #E2EBFA;\n",
              "      box-shadow: 0px 1px 2px rgba(60, 64, 67, 0.3), 0px 1px 3px 1px rgba(60, 64, 67, 0.15);\n",
              "      fill: #174EA6;\n",
              "    }\n",
              "\n",
              "    .colab-df-buttons div {\n",
              "      margin-bottom: 4px;\n",
              "    }\n",
              "\n",
              "    [theme=dark] .colab-df-convert {\n",
              "      background-color: #3B4455;\n",
              "      fill: #D2E3FC;\n",
              "    }\n",
              "\n",
              "    [theme=dark] .colab-df-convert:hover {\n",
              "      background-color: #434B5C;\n",
              "      box-shadow: 0px 1px 3px 1px rgba(0, 0, 0, 0.15);\n",
              "      filter: drop-shadow(0px 1px 2px rgba(0, 0, 0, 0.3));\n",
              "      fill: #FFFFFF;\n",
              "    }\n",
              "  </style>\n",
              "\n",
              "    <script>\n",
              "      const buttonEl =\n",
              "        document.querySelector('#df-06e836f7-3837-4e13-8772-18a5421cf8bd button.colab-df-convert');\n",
              "      buttonEl.style.display =\n",
              "        google.colab.kernel.accessAllowed ? 'block' : 'none';\n",
              "\n",
              "      async function convertToInteractive(key) {\n",
              "        const element = document.querySelector('#df-06e836f7-3837-4e13-8772-18a5421cf8bd');\n",
              "        const dataTable =\n",
              "          await google.colab.kernel.invokeFunction('convertToInteractive',\n",
              "                                                    [key], {});\n",
              "        if (!dataTable) return;\n",
              "\n",
              "        const docLinkHtml = 'Like what you see? Visit the ' +\n",
              "          '<a target=\"_blank\" href=https://colab.research.google.com/notebooks/data_table.ipynb>data table notebook</a>'\n",
              "          + ' to learn more about interactive tables.';\n",
              "        element.innerHTML = '';\n",
              "        dataTable['output_type'] = 'display_data';\n",
              "        await google.colab.output.renderOutput(dataTable, element);\n",
              "        const docLink = document.createElement('div');\n",
              "        docLink.innerHTML = docLinkHtml;\n",
              "        element.appendChild(docLink);\n",
              "      }\n",
              "    </script>\n",
              "  </div>\n",
              "\n",
              "\n",
              "<div id=\"df-955f7860-933b-40ec-a337-26e3de2078c4\">\n",
              "  <button class=\"colab-df-quickchart\" onclick=\"quickchart('df-955f7860-933b-40ec-a337-26e3de2078c4')\"\n",
              "            title=\"Suggest charts\"\n",
              "            style=\"display:none;\">\n",
              "\n",
              "<svg xmlns=\"http://www.w3.org/2000/svg\" height=\"24px\"viewBox=\"0 0 24 24\"\n",
              "     width=\"24px\">\n",
              "    <g>\n",
              "        <path d=\"M19 3H5c-1.1 0-2 .9-2 2v14c0 1.1.9 2 2 2h14c1.1 0 2-.9 2-2V5c0-1.1-.9-2-2-2zM9 17H7v-7h2v7zm4 0h-2V7h2v10zm4 0h-2v-4h2v4z\"/>\n",
              "    </g>\n",
              "</svg>\n",
              "  </button>\n",
              "\n",
              "<style>\n",
              "  .colab-df-quickchart {\n",
              "      --bg-color: #E8F0FE;\n",
              "      --fill-color: #1967D2;\n",
              "      --hover-bg-color: #E2EBFA;\n",
              "      --hover-fill-color: #174EA6;\n",
              "      --disabled-fill-color: #AAA;\n",
              "      --disabled-bg-color: #DDD;\n",
              "  }\n",
              "\n",
              "  [theme=dark] .colab-df-quickchart {\n",
              "      --bg-color: #3B4455;\n",
              "      --fill-color: #D2E3FC;\n",
              "      --hover-bg-color: #434B5C;\n",
              "      --hover-fill-color: #FFFFFF;\n",
              "      --disabled-bg-color: #3B4455;\n",
              "      --disabled-fill-color: #666;\n",
              "  }\n",
              "\n",
              "  .colab-df-quickchart {\n",
              "    background-color: var(--bg-color);\n",
              "    border: none;\n",
              "    border-radius: 50%;\n",
              "    cursor: pointer;\n",
              "    display: none;\n",
              "    fill: var(--fill-color);\n",
              "    height: 32px;\n",
              "    padding: 0;\n",
              "    width: 32px;\n",
              "  }\n",
              "\n",
              "  .colab-df-quickchart:hover {\n",
              "    background-color: var(--hover-bg-color);\n",
              "    box-shadow: 0 1px 2px rgba(60, 64, 67, 0.3), 0 1px 3px 1px rgba(60, 64, 67, 0.15);\n",
              "    fill: var(--button-hover-fill-color);\n",
              "  }\n",
              "\n",
              "  .colab-df-quickchart-complete:disabled,\n",
              "  .colab-df-quickchart-complete:disabled:hover {\n",
              "    background-color: var(--disabled-bg-color);\n",
              "    fill: var(--disabled-fill-color);\n",
              "    box-shadow: none;\n",
              "  }\n",
              "\n",
              "  .colab-df-spinner {\n",
              "    border: 2px solid var(--fill-color);\n",
              "    border-color: transparent;\n",
              "    border-bottom-color: var(--fill-color);\n",
              "    animation:\n",
              "      spin 1s steps(1) infinite;\n",
              "  }\n",
              "\n",
              "  @keyframes spin {\n",
              "    0% {\n",
              "      border-color: transparent;\n",
              "      border-bottom-color: var(--fill-color);\n",
              "      border-left-color: var(--fill-color);\n",
              "    }\n",
              "    20% {\n",
              "      border-color: transparent;\n",
              "      border-left-color: var(--fill-color);\n",
              "      border-top-color: var(--fill-color);\n",
              "    }\n",
              "    30% {\n",
              "      border-color: transparent;\n",
              "      border-left-color: var(--fill-color);\n",
              "      border-top-color: var(--fill-color);\n",
              "      border-right-color: var(--fill-color);\n",
              "    }\n",
              "    40% {\n",
              "      border-color: transparent;\n",
              "      border-right-color: var(--fill-color);\n",
              "      border-top-color: var(--fill-color);\n",
              "    }\n",
              "    60% {\n",
              "      border-color: transparent;\n",
              "      border-right-color: var(--fill-color);\n",
              "    }\n",
              "    80% {\n",
              "      border-color: transparent;\n",
              "      border-right-color: var(--fill-color);\n",
              "      border-bottom-color: var(--fill-color);\n",
              "    }\n",
              "    90% {\n",
              "      border-color: transparent;\n",
              "      border-bottom-color: var(--fill-color);\n",
              "    }\n",
              "  }\n",
              "</style>\n",
              "\n",
              "  <script>\n",
              "    async function quickchart(key) {\n",
              "      const quickchartButtonEl =\n",
              "        document.querySelector('#' + key + ' button');\n",
              "      quickchartButtonEl.disabled = true;  // To prevent multiple clicks.\n",
              "      quickchartButtonEl.classList.add('colab-df-spinner');\n",
              "      try {\n",
              "        const charts = await google.colab.kernel.invokeFunction(\n",
              "            'suggestCharts', [key], {});\n",
              "      } catch (error) {\n",
              "        console.error('Error during call to suggestCharts:', error);\n",
              "      }\n",
              "      quickchartButtonEl.classList.remove('colab-df-spinner');\n",
              "      quickchartButtonEl.classList.add('colab-df-quickchart-complete');\n",
              "    }\n",
              "    (() => {\n",
              "      let quickchartButtonEl =\n",
              "        document.querySelector('#df-955f7860-933b-40ec-a337-26e3de2078c4 button');\n",
              "      quickchartButtonEl.style.display =\n",
              "        google.colab.kernel.accessAllowed ? 'block' : 'none';\n",
              "    })();\n",
              "  </script>\n",
              "</div>\n",
              "\n",
              "    </div>\n",
              "  </div>\n"
            ],
            "application/vnd.google.colaboratory.intrinsic+json": {
              "type": "dataframe",
              "variable_name": "new_dataNP_lvl_2_unicos"
            }
          },
          "metadata": {},
          "execution_count": 62
        }
      ]
    },
    {
      "cell_type": "code",
      "source": [
        "personalizacion_2_tarde = new_dataNP_lvl_2_unicos[new_dataNP_lvl_2_unicos['Hora'].between('12:00', '15:00')]\n",
        "personalizacion_2_mediatarde = new_dataNP_lvl_2_unicos[new_dataNP_lvl_2_unicos['Hora'].between('15:01', '18:00')]\n",
        "personalizacion_2_noche = new_dataNP_lvl_2_unicos[new_dataNP_lvl_2_unicos['Hora'].between('18:01', '22:00')]"
      ],
      "metadata": {
        "colab": {
          "base_uri": "https://localhost:8080/"
        },
        "outputId": "1a09f552-fb3a-4f9c-981e-692cec669b65",
        "id": "S6uYnwNPDh2y"
      },
      "execution_count": null,
      "outputs": [
        {
          "output_type": "stream",
          "name": "stderr",
          "text": [
            "/usr/local/lib/python3.10/dist-packages/ipykernel/ipkernel.py:283: DeprecationWarning: `should_run_async` will not call `transform_cell` automatically in the future. Please pass the result to `transformed_cell` argument and any exception that happen during thetransform in `preprocessing_exc_tuple` in IPython 7.17 and above.\n",
            "  and should_run_async(code)\n"
          ]
        }
      ]
    },
    {
      "cell_type": "code",
      "source": [
        "personalizacion_2_tarde.to_csv('personalizacion_2_tarde.csv', index = False)\n",
        "personalizacion_2_mediatarde.to_csv('personalizacion_2_mediatarde.csv', index = False)\n",
        "personalizacion_2_noche.to_csv('personalizacion_2_noche.csv', index = False)"
      ],
      "metadata": {
        "colab": {
          "base_uri": "https://localhost:8080/"
        },
        "outputId": "e5c3c05f-6c1d-417e-9db2-badc9f662e8c",
        "id": "NoaWjJgDDh22"
      },
      "execution_count": null,
      "outputs": [
        {
          "output_type": "stream",
          "name": "stderr",
          "text": [
            "/usr/local/lib/python3.10/dist-packages/ipykernel/ipkernel.py:283: DeprecationWarning: `should_run_async` will not call `transform_cell` automatically in the future. Please pass the result to `transformed_cell` argument and any exception that happen during thetransform in `preprocessing_exc_tuple` in IPython 7.17 and above.\n",
            "  and should_run_async(code)\n"
          ]
        }
      ]
    },
    {
      "cell_type": "markdown",
      "source": [
        "## PERSONALIZACIÓN NIVEL 3"
      ],
      "metadata": {
        "id": "T5OX_fP8Pcx0"
      }
    },
    {
      "cell_type": "markdown",
      "source": [
        "Crear una copia del original para trabajar. Esta se llamará new_data2"
      ],
      "metadata": {
        "id": "9SPygSJVUQxw"
      }
    },
    {
      "cell_type": "markdown",
      "source": [
        "### Reemplazos"
      ],
      "metadata": {
        "id": "dG0SzrOgfija"
      }
    },
    {
      "cell_type": "code",
      "source": [
        "# Reemplazo PARRILLA\n",
        "new_dataNP_lvl_3 = new_dataNP.copy()\n",
        "\n",
        "def reemplazo_parrilla(row):\n",
        "    if row['Tipo de Servicio'] in ['RES', 'CERDO', 'POLLO', 'EMBUTIDOS']:\n",
        "        return row['Tipo de Servicio']\n",
        "    else:\n",
        "        return row['Producto']\n",
        "\n",
        "new_dataNP_lvl_3['Producto'] = new_dataNP_lvl_3.apply(reemplazo_parrilla, axis=1)"
      ],
      "metadata": {
        "colab": {
          "base_uri": "https://localhost:8080/"
        },
        "id": "FsbQ4a8NjtXz",
        "outputId": "aadc6398-4535-426a-804b-02c62c3a475d"
      },
      "execution_count": null,
      "outputs": [
        {
          "output_type": "stream",
          "name": "stderr",
          "text": [
            "/usr/local/lib/python3.10/dist-packages/ipykernel/ipkernel.py:283: DeprecationWarning: `should_run_async` will not call `transform_cell` automatically in the future. Please pass the result to `transformed_cell` argument and any exception that happen during thetransform in `preprocessing_exc_tuple` in IPython 7.17 and above.\n",
            "  and should_run_async(code)\n",
            "/usr/local/lib/python3.10/dist-packages/pandas/core/dtypes/cast.py:1641: DeprecationWarning: np.find_common_type is deprecated.  Please use `np.result_type` or `np.promote_types`.\n",
            "See https://numpy.org/devdocs/release/1.25.0-notes.html and the docs for more information.  (Deprecated NumPy 1.25)\n",
            "  return np.find_common_type(types, [])\n",
            "/usr/local/lib/python3.10/dist-packages/pandas/core/dtypes/cast.py:1641: DeprecationWarning: np.find_common_type is deprecated.  Please use `np.result_type` or `np.promote_types`.\n",
            "See https://numpy.org/devdocs/release/1.25.0-notes.html and the docs for more information.  (Deprecated NumPy 1.25)\n",
            "  return np.find_common_type(types, [])\n"
          ]
        }
      ]
    },
    {
      "cell_type": "code",
      "source": [
        "# Reemplazo BEBIDAS\n",
        "def reemplazo_bebidas(row):\n",
        "    if row['Tipo de Servicio'] in ['GASEOSAS', 'AGUAS', 'CERVEZAS']:\n",
        "        return row['Tipo de Servicio']\n",
        "    else:\n",
        "        return row['Producto']\n",
        "\n",
        "new_dataNP_lvl_3['Producto'] = new_dataNP_lvl_3.apply(reemplazo_bebidas, axis=1)"
      ],
      "metadata": {
        "colab": {
          "base_uri": "https://localhost:8080/"
        },
        "id": "147xH9-nlkKa",
        "outputId": "0bf620f5-0088-4605-a786-4274e0663494"
      },
      "execution_count": null,
      "outputs": [
        {
          "output_type": "stream",
          "name": "stderr",
          "text": [
            "/usr/local/lib/python3.10/dist-packages/ipykernel/ipkernel.py:283: DeprecationWarning: `should_run_async` will not call `transform_cell` automatically in the future. Please pass the result to `transformed_cell` argument and any exception that happen during thetransform in `preprocessing_exc_tuple` in IPython 7.17 and above.\n",
            "  and should_run_async(code)\n",
            "/usr/local/lib/python3.10/dist-packages/pandas/core/dtypes/cast.py:1641: DeprecationWarning: np.find_common_type is deprecated.  Please use `np.result_type` or `np.promote_types`.\n",
            "See https://numpy.org/devdocs/release/1.25.0-notes.html and the docs for more information.  (Deprecated NumPy 1.25)\n",
            "  return np.find_common_type(types, [])\n",
            "/usr/local/lib/python3.10/dist-packages/pandas/core/dtypes/cast.py:1641: DeprecationWarning: np.find_common_type is deprecated.  Please use `np.result_type` or `np.promote_types`.\n",
            "See https://numpy.org/devdocs/release/1.25.0-notes.html and the docs for more information.  (Deprecated NumPy 1.25)\n",
            "  return np.find_common_type(types, [])\n"
          ]
        }
      ]
    },
    {
      "cell_type": "code",
      "source": [
        "# Reemplazo ADEREZOS\n",
        "def reemplazo_aderezos(row):\n",
        "    if row['Tipo de Servicio'] in ['ADEREZOS']:\n",
        "        return row['Tipo de Servicio']\n",
        "    else:\n",
        "        return row['Producto']\n",
        "\n",
        "new_dataNP_lvl_3['Producto'] = new_dataNP_lvl_3.apply(reemplazo_aderezos, axis=1)"
      ],
      "metadata": {
        "colab": {
          "base_uri": "https://localhost:8080/"
        },
        "id": "VJfIaz8-mGvu",
        "outputId": "5cd734df-2024-4f2a-d936-b221b6efafd3"
      },
      "execution_count": null,
      "outputs": [
        {
          "output_type": "stream",
          "name": "stderr",
          "text": [
            "/usr/local/lib/python3.10/dist-packages/ipykernel/ipkernel.py:283: DeprecationWarning: `should_run_async` will not call `transform_cell` automatically in the future. Please pass the result to `transformed_cell` argument and any exception that happen during thetransform in `preprocessing_exc_tuple` in IPython 7.17 and above.\n",
            "  and should_run_async(code)\n",
            "/usr/local/lib/python3.10/dist-packages/pandas/core/dtypes/cast.py:1641: DeprecationWarning: np.find_common_type is deprecated.  Please use `np.result_type` or `np.promote_types`.\n",
            "See https://numpy.org/devdocs/release/1.25.0-notes.html and the docs for more information.  (Deprecated NumPy 1.25)\n",
            "  return np.find_common_type(types, [])\n",
            "/usr/local/lib/python3.10/dist-packages/pandas/core/dtypes/cast.py:1641: DeprecationWarning: np.find_common_type is deprecated.  Please use `np.result_type` or `np.promote_types`.\n",
            "See https://numpy.org/devdocs/release/1.25.0-notes.html and the docs for more information.  (Deprecated NumPy 1.25)\n",
            "  return np.find_common_type(types, [])\n"
          ]
        }
      ]
    },
    {
      "cell_type": "code",
      "source": [
        "new_dataNP_lvl_3['Producto'] = new_dataNP_lvl_3['Producto'].replace(reemplazos_tipo_bebida)"
      ],
      "metadata": {
        "colab": {
          "base_uri": "https://localhost:8080/"
        },
        "outputId": "20161d16-a0d6-4e2c-8afa-7e00a8bd52d7",
        "id": "oejwkGcAc-j0"
      },
      "execution_count": null,
      "outputs": [
        {
          "output_type": "stream",
          "name": "stderr",
          "text": [
            "/usr/local/lib/python3.10/dist-packages/ipykernel/ipkernel.py:283: DeprecationWarning: `should_run_async` will not call `transform_cell` automatically in the future. Please pass the result to `transformed_cell` argument and any exception that happen during thetransform in `preprocessing_exc_tuple` in IPython 7.17 and above.\n",
            "  and should_run_async(code)\n"
          ]
        }
      ]
    },
    {
      "cell_type": "code",
      "source": [
        "new_dataNP_lvl_3_unicos = new_dataNP_lvl_3.drop_duplicates(subset=['Pedido', 'Producto'])\n",
        "new_dataNP_lvl_3_unicos.head(10)"
      ],
      "metadata": {
        "colab": {
          "base_uri": "https://localhost:8080/",
          "height": 418
        },
        "outputId": "3753546a-8629-4fca-ba2e-3f047d1e9ff4",
        "id": "Xa13w5V8dbMS"
      },
      "execution_count": null,
      "outputs": [
        {
          "output_type": "stream",
          "name": "stderr",
          "text": [
            "/usr/local/lib/python3.10/dist-packages/ipykernel/ipkernel.py:283: DeprecationWarning: `should_run_async` will not call `transform_cell` automatically in the future. Please pass the result to `transformed_cell` argument and any exception that happen during thetransform in `preprocessing_exc_tuple` in IPython 7.17 and above.\n",
            "  and should_run_async(code)\n"
          ]
        },
        {
          "output_type": "execute_result",
          "data": {
            "text/plain": [
              "0       Pedido             Producto  Cant.     Total      Grupo  \\\n",
              "1   2300000001         MORO RISOTTO   1.00       7.3  ALIMENTOS   \n",
              "2   2300000001         PAPA RELLENA   1.00         5  ALIMENTOS   \n",
              "3   2300000001             GASEOSAS   1.00       2.3    BEBIDAS   \n",
              "5   2300000001            EMBUTIDOS   1.00      2.48  ALIMENTOS   \n",
              "6   2300000001                  RES   0.46  14.25908  ALIMENTOS   \n",
              "7   2300000001                CERDO   0.22   4.18418  ALIMENTOS   \n",
              "9   2300000002            EMBUTIDOS   1.00      2.82  ALIMENTOS   \n",
              "10  2300000002                CERDO   0.31   5.89589  ALIMENTOS   \n",
              "11  2300000002                  RES   1.16   44.8108  ALIMENTOS   \n",
              "12  2300000002  ENSALADA DE LA CASA   1.00         5  ALIMENTOS   \n",
              "\n",
              "0        Sub Grupo Tipo de Servicio      Fecha   Hora  \n",
              "1             MENU     GUARNICIONES 2023-01-01  12:39  \n",
              "2             MENU     GUARNICIONES 2023-01-01  12:39  \n",
              "3   NO ALCOHOLICAS         GASEOSAS 2023-01-01  12:39  \n",
              "5         PARRILLA        EMBUTIDOS 2023-01-01  12:39  \n",
              "6         PARRILLA              RES 2023-01-01  12:39  \n",
              "7         PARRILLA            CERDO 2023-01-01  12:39  \n",
              "9         PARRILLA        EMBUTIDOS 2023-01-01  13:28  \n",
              "10        PARRILLA            CERDO 2023-01-01  13:28  \n",
              "11        PARRILLA              RES 2023-01-01  13:28  \n",
              "12            MENU        ENSALADAS 2023-01-01  13:28  "
            ],
            "text/html": [
              "\n",
              "  <div id=\"df-0ebac677-d44c-429a-bbad-ef389f9ff0d0\" class=\"colab-df-container\">\n",
              "    <div>\n",
              "<style scoped>\n",
              "    .dataframe tbody tr th:only-of-type {\n",
              "        vertical-align: middle;\n",
              "    }\n",
              "\n",
              "    .dataframe tbody tr th {\n",
              "        vertical-align: top;\n",
              "    }\n",
              "\n",
              "    .dataframe thead th {\n",
              "        text-align: right;\n",
              "    }\n",
              "</style>\n",
              "<table border=\"1\" class=\"dataframe\">\n",
              "  <thead>\n",
              "    <tr style=\"text-align: right;\">\n",
              "      <th></th>\n",
              "      <th>Pedido</th>\n",
              "      <th>Producto</th>\n",
              "      <th>Cant.</th>\n",
              "      <th>Total</th>\n",
              "      <th>Grupo</th>\n",
              "      <th>Sub Grupo</th>\n",
              "      <th>Tipo de Servicio</th>\n",
              "      <th>Fecha</th>\n",
              "      <th>Hora</th>\n",
              "    </tr>\n",
              "  </thead>\n",
              "  <tbody>\n",
              "    <tr>\n",
              "      <th>1</th>\n",
              "      <td>2300000001</td>\n",
              "      <td>MORO RISOTTO</td>\n",
              "      <td>1.00</td>\n",
              "      <td>7.3</td>\n",
              "      <td>ALIMENTOS</td>\n",
              "      <td>MENU</td>\n",
              "      <td>GUARNICIONES</td>\n",
              "      <td>2023-01-01</td>\n",
              "      <td>12:39</td>\n",
              "    </tr>\n",
              "    <tr>\n",
              "      <th>2</th>\n",
              "      <td>2300000001</td>\n",
              "      <td>PAPA RELLENA</td>\n",
              "      <td>1.00</td>\n",
              "      <td>5</td>\n",
              "      <td>ALIMENTOS</td>\n",
              "      <td>MENU</td>\n",
              "      <td>GUARNICIONES</td>\n",
              "      <td>2023-01-01</td>\n",
              "      <td>12:39</td>\n",
              "    </tr>\n",
              "    <tr>\n",
              "      <th>3</th>\n",
              "      <td>2300000001</td>\n",
              "      <td>GASEOSAS</td>\n",
              "      <td>1.00</td>\n",
              "      <td>2.3</td>\n",
              "      <td>BEBIDAS</td>\n",
              "      <td>NO ALCOHOLICAS</td>\n",
              "      <td>GASEOSAS</td>\n",
              "      <td>2023-01-01</td>\n",
              "      <td>12:39</td>\n",
              "    </tr>\n",
              "    <tr>\n",
              "      <th>5</th>\n",
              "      <td>2300000001</td>\n",
              "      <td>EMBUTIDOS</td>\n",
              "      <td>1.00</td>\n",
              "      <td>2.48</td>\n",
              "      <td>ALIMENTOS</td>\n",
              "      <td>PARRILLA</td>\n",
              "      <td>EMBUTIDOS</td>\n",
              "      <td>2023-01-01</td>\n",
              "      <td>12:39</td>\n",
              "    </tr>\n",
              "    <tr>\n",
              "      <th>6</th>\n",
              "      <td>2300000001</td>\n",
              "      <td>RES</td>\n",
              "      <td>0.46</td>\n",
              "      <td>14.25908</td>\n",
              "      <td>ALIMENTOS</td>\n",
              "      <td>PARRILLA</td>\n",
              "      <td>RES</td>\n",
              "      <td>2023-01-01</td>\n",
              "      <td>12:39</td>\n",
              "    </tr>\n",
              "    <tr>\n",
              "      <th>7</th>\n",
              "      <td>2300000001</td>\n",
              "      <td>CERDO</td>\n",
              "      <td>0.22</td>\n",
              "      <td>4.18418</td>\n",
              "      <td>ALIMENTOS</td>\n",
              "      <td>PARRILLA</td>\n",
              "      <td>CERDO</td>\n",
              "      <td>2023-01-01</td>\n",
              "      <td>12:39</td>\n",
              "    </tr>\n",
              "    <tr>\n",
              "      <th>9</th>\n",
              "      <td>2300000002</td>\n",
              "      <td>EMBUTIDOS</td>\n",
              "      <td>1.00</td>\n",
              "      <td>2.82</td>\n",
              "      <td>ALIMENTOS</td>\n",
              "      <td>PARRILLA</td>\n",
              "      <td>EMBUTIDOS</td>\n",
              "      <td>2023-01-01</td>\n",
              "      <td>13:28</td>\n",
              "    </tr>\n",
              "    <tr>\n",
              "      <th>10</th>\n",
              "      <td>2300000002</td>\n",
              "      <td>CERDO</td>\n",
              "      <td>0.31</td>\n",
              "      <td>5.89589</td>\n",
              "      <td>ALIMENTOS</td>\n",
              "      <td>PARRILLA</td>\n",
              "      <td>CERDO</td>\n",
              "      <td>2023-01-01</td>\n",
              "      <td>13:28</td>\n",
              "    </tr>\n",
              "    <tr>\n",
              "      <th>11</th>\n",
              "      <td>2300000002</td>\n",
              "      <td>RES</td>\n",
              "      <td>1.16</td>\n",
              "      <td>44.8108</td>\n",
              "      <td>ALIMENTOS</td>\n",
              "      <td>PARRILLA</td>\n",
              "      <td>RES</td>\n",
              "      <td>2023-01-01</td>\n",
              "      <td>13:28</td>\n",
              "    </tr>\n",
              "    <tr>\n",
              "      <th>12</th>\n",
              "      <td>2300000002</td>\n",
              "      <td>ENSALADA DE LA CASA</td>\n",
              "      <td>1.00</td>\n",
              "      <td>5</td>\n",
              "      <td>ALIMENTOS</td>\n",
              "      <td>MENU</td>\n",
              "      <td>ENSALADAS</td>\n",
              "      <td>2023-01-01</td>\n",
              "      <td>13:28</td>\n",
              "    </tr>\n",
              "  </tbody>\n",
              "</table>\n",
              "</div>\n",
              "    <div class=\"colab-df-buttons\">\n",
              "\n",
              "  <div class=\"colab-df-container\">\n",
              "    <button class=\"colab-df-convert\" onclick=\"convertToInteractive('df-0ebac677-d44c-429a-bbad-ef389f9ff0d0')\"\n",
              "            title=\"Convert this dataframe to an interactive table.\"\n",
              "            style=\"display:none;\">\n",
              "\n",
              "  <svg xmlns=\"http://www.w3.org/2000/svg\" height=\"24px\" viewBox=\"0 -960 960 960\">\n",
              "    <path d=\"M120-120v-720h720v720H120Zm60-500h600v-160H180v160Zm220 220h160v-160H400v160Zm0 220h160v-160H400v160ZM180-400h160v-160H180v160Zm440 0h160v-160H620v160ZM180-180h160v-160H180v160Zm440 0h160v-160H620v160Z\"/>\n",
              "  </svg>\n",
              "    </button>\n",
              "\n",
              "  <style>\n",
              "    .colab-df-container {\n",
              "      display:flex;\n",
              "      gap: 12px;\n",
              "    }\n",
              "\n",
              "    .colab-df-convert {\n",
              "      background-color: #E8F0FE;\n",
              "      border: none;\n",
              "      border-radius: 50%;\n",
              "      cursor: pointer;\n",
              "      display: none;\n",
              "      fill: #1967D2;\n",
              "      height: 32px;\n",
              "      padding: 0 0 0 0;\n",
              "      width: 32px;\n",
              "    }\n",
              "\n",
              "    .colab-df-convert:hover {\n",
              "      background-color: #E2EBFA;\n",
              "      box-shadow: 0px 1px 2px rgba(60, 64, 67, 0.3), 0px 1px 3px 1px rgba(60, 64, 67, 0.15);\n",
              "      fill: #174EA6;\n",
              "    }\n",
              "\n",
              "    .colab-df-buttons div {\n",
              "      margin-bottom: 4px;\n",
              "    }\n",
              "\n",
              "    [theme=dark] .colab-df-convert {\n",
              "      background-color: #3B4455;\n",
              "      fill: #D2E3FC;\n",
              "    }\n",
              "\n",
              "    [theme=dark] .colab-df-convert:hover {\n",
              "      background-color: #434B5C;\n",
              "      box-shadow: 0px 1px 3px 1px rgba(0, 0, 0, 0.15);\n",
              "      filter: drop-shadow(0px 1px 2px rgba(0, 0, 0, 0.3));\n",
              "      fill: #FFFFFF;\n",
              "    }\n",
              "  </style>\n",
              "\n",
              "    <script>\n",
              "      const buttonEl =\n",
              "        document.querySelector('#df-0ebac677-d44c-429a-bbad-ef389f9ff0d0 button.colab-df-convert');\n",
              "      buttonEl.style.display =\n",
              "        google.colab.kernel.accessAllowed ? 'block' : 'none';\n",
              "\n",
              "      async function convertToInteractive(key) {\n",
              "        const element = document.querySelector('#df-0ebac677-d44c-429a-bbad-ef389f9ff0d0');\n",
              "        const dataTable =\n",
              "          await google.colab.kernel.invokeFunction('convertToInteractive',\n",
              "                                                    [key], {});\n",
              "        if (!dataTable) return;\n",
              "\n",
              "        const docLinkHtml = 'Like what you see? Visit the ' +\n",
              "          '<a target=\"_blank\" href=https://colab.research.google.com/notebooks/data_table.ipynb>data table notebook</a>'\n",
              "          + ' to learn more about interactive tables.';\n",
              "        element.innerHTML = '';\n",
              "        dataTable['output_type'] = 'display_data';\n",
              "        await google.colab.output.renderOutput(dataTable, element);\n",
              "        const docLink = document.createElement('div');\n",
              "        docLink.innerHTML = docLinkHtml;\n",
              "        element.appendChild(docLink);\n",
              "      }\n",
              "    </script>\n",
              "  </div>\n",
              "\n",
              "\n",
              "<div id=\"df-19024fbe-4cd4-44e3-b79a-7de42c1ef4bd\">\n",
              "  <button class=\"colab-df-quickchart\" onclick=\"quickchart('df-19024fbe-4cd4-44e3-b79a-7de42c1ef4bd')\"\n",
              "            title=\"Suggest charts\"\n",
              "            style=\"display:none;\">\n",
              "\n",
              "<svg xmlns=\"http://www.w3.org/2000/svg\" height=\"24px\"viewBox=\"0 0 24 24\"\n",
              "     width=\"24px\">\n",
              "    <g>\n",
              "        <path d=\"M19 3H5c-1.1 0-2 .9-2 2v14c0 1.1.9 2 2 2h14c1.1 0 2-.9 2-2V5c0-1.1-.9-2-2-2zM9 17H7v-7h2v7zm4 0h-2V7h2v10zm4 0h-2v-4h2v4z\"/>\n",
              "    </g>\n",
              "</svg>\n",
              "  </button>\n",
              "\n",
              "<style>\n",
              "  .colab-df-quickchart {\n",
              "      --bg-color: #E8F0FE;\n",
              "      --fill-color: #1967D2;\n",
              "      --hover-bg-color: #E2EBFA;\n",
              "      --hover-fill-color: #174EA6;\n",
              "      --disabled-fill-color: #AAA;\n",
              "      --disabled-bg-color: #DDD;\n",
              "  }\n",
              "\n",
              "  [theme=dark] .colab-df-quickchart {\n",
              "      --bg-color: #3B4455;\n",
              "      --fill-color: #D2E3FC;\n",
              "      --hover-bg-color: #434B5C;\n",
              "      --hover-fill-color: #FFFFFF;\n",
              "      --disabled-bg-color: #3B4455;\n",
              "      --disabled-fill-color: #666;\n",
              "  }\n",
              "\n",
              "  .colab-df-quickchart {\n",
              "    background-color: var(--bg-color);\n",
              "    border: none;\n",
              "    border-radius: 50%;\n",
              "    cursor: pointer;\n",
              "    display: none;\n",
              "    fill: var(--fill-color);\n",
              "    height: 32px;\n",
              "    padding: 0;\n",
              "    width: 32px;\n",
              "  }\n",
              "\n",
              "  .colab-df-quickchart:hover {\n",
              "    background-color: var(--hover-bg-color);\n",
              "    box-shadow: 0 1px 2px rgba(60, 64, 67, 0.3), 0 1px 3px 1px rgba(60, 64, 67, 0.15);\n",
              "    fill: var(--button-hover-fill-color);\n",
              "  }\n",
              "\n",
              "  .colab-df-quickchart-complete:disabled,\n",
              "  .colab-df-quickchart-complete:disabled:hover {\n",
              "    background-color: var(--disabled-bg-color);\n",
              "    fill: var(--disabled-fill-color);\n",
              "    box-shadow: none;\n",
              "  }\n",
              "\n",
              "  .colab-df-spinner {\n",
              "    border: 2px solid var(--fill-color);\n",
              "    border-color: transparent;\n",
              "    border-bottom-color: var(--fill-color);\n",
              "    animation:\n",
              "      spin 1s steps(1) infinite;\n",
              "  }\n",
              "\n",
              "  @keyframes spin {\n",
              "    0% {\n",
              "      border-color: transparent;\n",
              "      border-bottom-color: var(--fill-color);\n",
              "      border-left-color: var(--fill-color);\n",
              "    }\n",
              "    20% {\n",
              "      border-color: transparent;\n",
              "      border-left-color: var(--fill-color);\n",
              "      border-top-color: var(--fill-color);\n",
              "    }\n",
              "    30% {\n",
              "      border-color: transparent;\n",
              "      border-left-color: var(--fill-color);\n",
              "      border-top-color: var(--fill-color);\n",
              "      border-right-color: var(--fill-color);\n",
              "    }\n",
              "    40% {\n",
              "      border-color: transparent;\n",
              "      border-right-color: var(--fill-color);\n",
              "      border-top-color: var(--fill-color);\n",
              "    }\n",
              "    60% {\n",
              "      border-color: transparent;\n",
              "      border-right-color: var(--fill-color);\n",
              "    }\n",
              "    80% {\n",
              "      border-color: transparent;\n",
              "      border-right-color: var(--fill-color);\n",
              "      border-bottom-color: var(--fill-color);\n",
              "    }\n",
              "    90% {\n",
              "      border-color: transparent;\n",
              "      border-bottom-color: var(--fill-color);\n",
              "    }\n",
              "  }\n",
              "</style>\n",
              "\n",
              "  <script>\n",
              "    async function quickchart(key) {\n",
              "      const quickchartButtonEl =\n",
              "        document.querySelector('#' + key + ' button');\n",
              "      quickchartButtonEl.disabled = true;  // To prevent multiple clicks.\n",
              "      quickchartButtonEl.classList.add('colab-df-spinner');\n",
              "      try {\n",
              "        const charts = await google.colab.kernel.invokeFunction(\n",
              "            'suggestCharts', [key], {});\n",
              "      } catch (error) {\n",
              "        console.error('Error during call to suggestCharts:', error);\n",
              "      }\n",
              "      quickchartButtonEl.classList.remove('colab-df-spinner');\n",
              "      quickchartButtonEl.classList.add('colab-df-quickchart-complete');\n",
              "    }\n",
              "    (() => {\n",
              "      let quickchartButtonEl =\n",
              "        document.querySelector('#df-19024fbe-4cd4-44e3-b79a-7de42c1ef4bd button');\n",
              "      quickchartButtonEl.style.display =\n",
              "        google.colab.kernel.accessAllowed ? 'block' : 'none';\n",
              "    })();\n",
              "  </script>\n",
              "</div>\n",
              "\n",
              "    </div>\n",
              "  </div>\n"
            ],
            "application/vnd.google.colaboratory.intrinsic+json": {
              "type": "dataframe",
              "variable_name": "new_dataNP_lvl_3_unicos"
            }
          },
          "metadata": {},
          "execution_count": 62
        }
      ]
    },
    {
      "cell_type": "code",
      "source": [
        "personalizacion_3_tarde = new_dataNP_lvl_3_unicos[new_dataNP_lvl_3_unicos['Hora'].between('12:00', '15:00')]\n",
        "personalizacion_3_mediatarde = new_dataNP_lvl_3_unicos[new_dataNP_lvl_3_unicos['Hora'].between('15:01', '18:00')]\n",
        "personalizacion_3_noche = new_dataNP_lvl_3_unicos[new_dataNP_lvl_3_unicos['Hora'].between('18:01', '22:00')]"
      ],
      "metadata": {
        "colab": {
          "base_uri": "https://localhost:8080/"
        },
        "outputId": "fcc4d51f-1512-417b-8fc4-2f4582e40028",
        "id": "CppG2pmJEdZ_"
      },
      "execution_count": null,
      "outputs": [
        {
          "output_type": "stream",
          "name": "stderr",
          "text": [
            "/usr/local/lib/python3.10/dist-packages/ipykernel/ipkernel.py:283: DeprecationWarning: `should_run_async` will not call `transform_cell` automatically in the future. Please pass the result to `transformed_cell` argument and any exception that happen during thetransform in `preprocessing_exc_tuple` in IPython 7.17 and above.\n",
            "  and should_run_async(code)\n"
          ]
        }
      ]
    },
    {
      "cell_type": "code",
      "source": [
        "personalizacion_3_tarde.to_csv('personalizacion_3_tarde.csv', index = False)\n",
        "personalizacion_3_mediatarde.to_csv('personalizacion_3_mediatarde.csv', index = False)\n",
        "personalizacion_3_noche.to_csv('personalizacion_3_noche.csv', index = False)"
      ],
      "metadata": {
        "colab": {
          "base_uri": "https://localhost:8080/"
        },
        "outputId": "67faf64d-e82d-45e9-c168-65025c489291",
        "id": "rjo3BVDaEdaB"
      },
      "execution_count": null,
      "outputs": [
        {
          "output_type": "stream",
          "name": "stderr",
          "text": [
            "/usr/local/lib/python3.10/dist-packages/ipykernel/ipkernel.py:283: DeprecationWarning: `should_run_async` will not call `transform_cell` automatically in the future. Please pass the result to `transformed_cell` argument and any exception that happen during thetransform in `preprocessing_exc_tuple` in IPython 7.17 and above.\n",
            "  and should_run_async(code)\n"
          ]
        }
      ]
    }
  ],
  "metadata": {
    "colab": {
      "provenance": [],
      "collapsed_sections": [
        "YnKuS5tRLEbH"
      ],
      "toc_visible": true
    },
    "kernelspec": {
      "display_name": "Python 3",
      "name": "python3"
    },
    "language_info": {
      "codemirror_mode": {
        "name": "ipython",
        "version": 3
      },
      "file_extension": ".py",
      "mimetype": "text/x-python",
      "name": "python",
      "nbconvert_exporter": "python",
      "pygments_lexer": "ipython3",
      "version": "3.10.13"
    }
  },
  "nbformat": 4,
  "nbformat_minor": 0
}